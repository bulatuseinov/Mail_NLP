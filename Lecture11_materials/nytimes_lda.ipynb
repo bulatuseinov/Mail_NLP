{
 "cells": [
  {
   "cell_type": "markdown",
   "metadata": {},
   "source": [
    "# LDA for topic modelling"
   ]
  },
  {
   "cell_type": "markdown",
   "metadata": {},
   "source": [
    "Сегодня попробуем аж 3 реализации Латентного размещения Дирихле для тематического моделирования новостных статей из публикаций газеты New-York Times"
   ]
  },
  {
   "cell_type": "markdown",
   "metadata": {},
   "source": [
    "Импортируем нужные модули"
   ]
  },
  {
   "cell_type": "code",
   "execution_count": 1,
   "metadata": {},
   "outputs": [],
   "source": [
    "import re\n",
    "import pickl\n",
    "from nltk import word_tokenize\n",
    "from sklearn.feature_extraction.text import TfidfVectorizer"
   ]
  },
  {
   "cell_type": "markdown",
   "metadata": {},
   "source": [
    "Датасет вычищен от урлов. В файле около 8800 новостных статей, каждая статья начинается с новой строчки в файле"
   ]
  },
  {
   "cell_type": "code",
   "execution_count": 2,
   "metadata": {},
   "outputs": [],
   "source": [
    "DATAFILE = \"data/nytimes_news.txt\""
   ]
  },
  {
   "cell_type": "code",
   "execution_count": 3,
   "metadata": {},
   "outputs": [
    {
     "name": "stdout",
     "output_type": "stream",
     "text": [
      "    8883 data/nytimes_news.txt\r\n"
     ]
    }
   ],
   "source": [
    "!wc -l data/nytimes_news.txt"
   ]
  },
  {
   "cell_type": "markdown",
   "metadata": {},
   "source": [
    "Сложим все тексты статей в массив"
   ]
  },
  {
   "cell_type": "code",
   "execution_count": 4,
   "metadata": {},
   "outputs": [],
   "source": [
    "data = []\n",
    "with open(DATAFILE) as f_in:\n",
    "    for line in f_in:\n",
    "        data.append(line.strip())"
   ]
  },
  {
   "cell_type": "code",
   "execution_count": 5,
   "metadata": {},
   "outputs": [
    {
     "data": {
      "text/plain": [
       "'WASHINGTON — Stellar pitching kept the Mets afloat in the first half of last season despite their offensive woes. But they cannot produce an encore of their pennant-winning season if their lineup keeps floundering while their pitching is nicked, bruised and stretched thin.“We were going to ride our '"
      ]
     },
     "execution_count": 5,
     "metadata": {},
     "output_type": "execute_result"
    }
   ],
   "source": [
    "data[0][:300]"
   ]
  },
  {
   "cell_type": "markdown",
   "metadata": {},
   "source": [
    "## Запустим TfidfVectorizer, чтобы очистить датасет от слишком частых и слишком редких слов.\n",
    "\n",
    "Попутно удалим стоп-слова"
   ]
  },
  {
   "cell_type": "code",
   "execution_count": 6,
   "metadata": {},
   "outputs": [
    {
     "name": "stdout",
     "output_type": "stream",
     "text": [
      "44790\n",
      "CPU times: user 5.53 s, sys: 127 ms, total: 5.65 s\n",
      "Wall time: 5.74 s\n"
     ]
    }
   ],
   "source": [
    "%%time\n",
    "tf = TfidfVectorizer(analyzer='word', min_df=3, max_df=0.5, stop_words='english')\n",
    "\n",
    "tfidf_matrix =  tf.fit_transform(data)\n",
    "feature_names = tf.get_feature_names()\n",
    "\n",
    "print(len(feature_names))"
   ]
  },
  {
   "cell_type": "markdown",
   "metadata": {},
   "source": [
    "feature_names - список, состоящий из не слишком редких и не слишком частых слов. Он нам еще пригодится"
   ]
  },
  {
   "cell_type": "markdown",
   "metadata": {},
   "source": [
    "## Зададим функцию для предобработки текста.\n",
    "\n",
    "1) Будем разбивать предложение на слова с помощью библиотеки nltk методом word_tokenize.\n",
    "\n",
    "2) Вычистим датасет с помощью регулярного выражения от различных чисел и пунктуации. \n",
    "\n",
    "3) Также будем выбрасывать слова, которые не находятся в полученном словаре.\n",
    "\n",
    "4) Будем возвращать список слов текста"
   ]
  },
  {
   "cell_type": "code",
   "execution_count": 7,
   "metadata": {},
   "outputs": [],
   "source": [
    "def clean_text(text, vocab):\n",
    "    tokenized_text = word_tokenize(text.lower())\n",
    "    cleaned_text = [t for t in tokenized_text if re.match('[a-zA-Z\\-][a-zA-Z\\-]{2,}', t) and t in vocab]\n",
    "    return cleaned_text"
   ]
  },
  {
   "cell_type": "markdown",
   "metadata": {},
   "source": [
    "### Токенизируем и предобработаем датасет с помощью описанной функции"
   ]
  },
  {
   "cell_type": "code",
   "execution_count": 8,
   "metadata": {
    "scrolled": true
   },
   "outputs": [
    {
     "name": "stdout",
     "output_type": "stream",
     "text": [
      "CPU times: user 56.2 s, sys: 578 ms, total: 56.8 s\n",
      "Wall time: 58.7 s\n"
     ]
    }
   ],
   "source": [
    "%%time\n",
    "tokenized_data = []\n",
    "vocab = set(feature_names) # преобразуем список в множество. попробуйте не делать этого и посмотрите, насколько медленне происходит обработка\n",
    "for text in data:\n",
    "    tokenized_data.append(clean_text(text, vocab))"
   ]
  },
  {
   "cell_type": "markdown",
   "metadata": {},
   "source": [
    "## Попробуем поработать с gensim"
   ]
  },
  {
   "cell_type": "code",
   "execution_count": 9,
   "metadata": {},
   "outputs": [],
   "source": [
    "from gensim import models, corpora, similarities"
   ]
  },
  {
   "cell_type": "markdown",
   "metadata": {},
   "source": [
    "### Построим словарь корпуса\n",
    "в частности dictionary хранит пару словарей token2id и id2token: отображения слова в индекс и наоборот"
   ]
  },
  {
   "cell_type": "code",
   "execution_count": 10,
   "metadata": {},
   "outputs": [
    {
     "name": "stdout",
     "output_type": "stream",
     "text": [
      "CPU times: user 2.9 s, sys: 8.98 ms, total: 2.91 s\n",
      "Wall time: 2.91 s\n"
     ]
    }
   ],
   "source": [
    "%%time\n",
    "dictionary = corpora.Dictionary(tokenized_data)"
   ]
  },
  {
   "cell_type": "markdown",
   "metadata": {},
   "source": [
    "### Преобразуем корпус в формат, ожидаемый генсимовским lda. \n",
    "\n",
    "Каждый документ будет представлен в виде списка пар (word_id, word_count)"
   ]
  },
  {
   "cell_type": "code",
   "execution_count": 11,
   "metadata": {},
   "outputs": [
    {
     "name": "stdout",
     "output_type": "stream",
     "text": [
      "CPU times: user 2.92 s, sys: 90.2 ms, total: 3.01 s\n",
      "Wall time: 3.12 s\n"
     ]
    }
   ],
   "source": [
    "%%time\n",
    "corpus = [dictionary.doc2bow(text) for text in tokenized_data]"
   ]
  },
  {
   "cell_type": "markdown",
   "metadata": {},
   "source": [
    "Посмотрим на представление документа"
   ]
  },
  {
   "cell_type": "code",
   "execution_count": 12,
   "metadata": {
    "scrolled": true
   },
   "outputs": [
    {
     "name": "stdout",
     "output_type": "stream",
     "text": [
      "[(12, 1), (33, 16), (37, 1), (60, 2), (61, 1), (75, 1), (99, 1), (106, 1), (127, 1), (151, 3)]\n"
     ]
    }
   ],
   "source": [
    "print(corpus[20][:10])"
   ]
  },
  {
   "cell_type": "markdown",
   "metadata": {},
   "source": [
    "### Попробуем обучить LDA"
   ]
  },
  {
   "cell_type": "markdown",
   "metadata": {},
   "source": [
    "Количество тем корпуса является гиперпараметром.\n",
    "\n",
    "Зададим его равным 100, навскидку"
   ]
  },
  {
   "cell_type": "code",
   "execution_count": 13,
   "metadata": {},
   "outputs": [],
   "source": [
    "NUM_TOPICS = 100"
   ]
  },
  {
   "cell_type": "markdown",
   "metadata": {},
   "source": [
    "## Построим LDA-модель\n",
    "\n",
    "выполним 10 проходов по корпусу"
   ]
  },
  {
   "cell_type": "code",
   "execution_count": 28,
   "metadata": {},
   "outputs": [
    {
     "name": "stderr",
     "output_type": "stream",
     "text": [
      "/usr/local/lib/python3.6/site-packages/gensim/models/ldamodel.py:1023: RuntimeWarning: divide by zero encountered in log\n",
      "  diff = np.log(self.expElogbeta)\n"
     ]
    },
    {
     "name": "stdout",
     "output_type": "stream",
     "text": [
      "CPU times: user 8min 50s, sys: 45.2 s, total: 9min 36s\n",
      "Wall time: 5min 14s\n"
     ]
    }
   ],
   "source": [
    "%%time\n",
    "# Build the LDA model\n",
    "lda_model = models.LdaModel(corpus=corpus, num_topics=NUM_TOPICS, id2word=dictionary, passes=10)"
   ]
  },
  {
   "cell_type": "markdown",
   "metadata": {},
   "source": [
    "### Модель обучается около 5 мин.\n",
    "\n",
    "Сохраним объект модели для дальнейшей подгрузки"
   ]
  },
  {
   "cell_type": "code",
   "execution_count": 32,
   "metadata": {},
   "outputs": [],
   "source": [
    "with open(\"data/gensim_lda.model\", \"wb\") as f_out:\n",
    "    pickle.dump(lda_model, f_out)"
   ]
  },
  {
   "cell_type": "markdown",
   "metadata": {},
   "source": [
    "Подгрузим объект модели"
   ]
  },
  {
   "cell_type": "code",
   "execution_count": 14,
   "metadata": {},
   "outputs": [],
   "source": [
    "with open(\"data/gensim_lda.model\", \"rb\") as f_in:\n",
    "    lda_model = pickle.load(f_in)"
   ]
  },
  {
   "cell_type": "markdown",
   "metadata": {},
   "source": [
    "##  Посмотрим на получившиеся темы\n",
    "\n",
    "Выведем топ значимых слов для каждой темы и оценим их интерпретируемость."
   ]
  },
  {
   "cell_type": "code",
   "execution_count": 15,
   "metadata": {},
   "outputs": [
    {
     "name": "stdout",
     "output_type": "stream",
     "text": [
      "LDA Model:\n",
      "Topic #0: 0.042*\"water\" + 0.015*\"wine\" + 0.013*\"food\" + 0.010*\"plant\" + 0.007*\"flint\" + 0.006*\"green\" + 0.006*\"farmers\" + 0.006*\"wines\" + 0.006*\"products\" + 0.006*\"farm\"\n",
      "Topic #1: 0.022*\"street\" + 0.016*\"city\" + 0.014*\"restaurant\" + 0.014*\"building\" + 0.013*\"hotel\" + 0.013*\"york\" + 0.010*\"east\" + 0.008*\"space\" + 0.008*\"avenue\" + 0.008*\"bar\"\n",
      "Topic #2: 0.026*\"museum\" + 0.012*\"art\" + 0.009*\"music\" + 0.009*\"director\" + 0.009*\"work\" + 0.009*\"artists\" + 0.008*\"design\" + 0.008*\"collection\" + 0.007*\"center\" + 0.007*\"exhibition\"\n",
      "Topic #3: 0.053*\"china\" + 0.031*\"chinese\" + 0.020*\"united\" + 0.017*\"states\" + 0.014*\"government\" + 0.013*\"trade\" + 0.013*\"american\" + 0.012*\"beijing\" + 0.011*\"foreign\" + 0.011*\"world\"\n",
      "Topic #4: 0.008*\"night\" + 0.008*\"day\" + 0.007*\"morning\" + 0.006*\"took\" + 0.006*\"hours\" + 0.005*\"days\" + 0.005*\"just\" + 0.005*\"away\" + 0.005*\"later\" + 0.005*\"left\"\n",
      "Topic #5: 0.043*\"sea\" + 0.033*\"boat\" + 0.029*\"island\" + 0.028*\"australia\" + 0.027*\"islands\" + 0.019*\"australian\" + 0.017*\"coast\" + 0.016*\"italy\" + 0.015*\"migrants\" + 0.014*\"italian\"\n",
      "Topic #6: 0.036*\"puerto\" + 0.035*\"boko\" + 0.033*\"haram\" + 0.026*\"rico\" + 0.019*\"island\" + 0.018*\"nigeria\" + 0.016*\"girls\" + 0.016*\"assembly\" + 0.015*\"albany\" + 0.013*\"atlantic\"\n",
      "Topic #7: 0.034*\"police\" + 0.011*\"department\" + 0.010*\"officers\" + 0.010*\"investigation\" + 0.010*\"officials\" + 0.007*\"report\" + 0.007*\"authorities\" + 0.006*\"city\" + 0.006*\"according\" + 0.006*\"office\"\n",
      "Topic #8: 0.047*\"king\" + 0.032*\"season\" + 0.021*\"thrones\" + 0.021*\"queen\" + 0.018*\"game\" + 0.017*\"snow\" + 0.016*\"jon\" + 0.016*\"sunday\" + 0.010*\"castle\" + 0.010*\"reyes\"\n",
      "Topic #9: 0.018*\"research\" + 0.018*\"study\" + 0.013*\"university\" + 0.013*\"researchers\" + 0.013*\"science\" + 0.011*\"scientists\" + 0.009*\"human\" + 0.008*\"used\" + 0.007*\"brain\" + 0.006*\"use\"\n",
      "Topic #10: 0.040*\"van\" + 0.038*\"drivers\" + 0.026*\"gray\" + 0.025*\"driver\" + 0.025*\"car\" + 0.019*\"baltimore\" + 0.016*\"driving\" + 0.012*\"officer\" + 0.012*\"tunnel\" + 0.011*\"bike\"\n",
      "Topic #11: 0.032*\"game\" + 0.029*\"goal\" + 0.023*\"series\" + 0.019*\"scored\" + 0.018*\"period\" + 0.016*\"goals\" + 0.014*\"second\" + 0.013*\"penguins\" + 0.012*\"games\" + 0.012*\"pittsburgh\"\n",
      "Topic #12: 0.025*\"book\" + 0.014*\"series\" + 0.013*\"season\" + 0.012*\"books\" + 0.010*\"shows\" + 0.009*\"netflix\" + 0.009*\"novel\" + 0.008*\"read\" + 0.007*\"watch\" + 0.007*\"love\"\n",
      "Topic #13: 0.044*\"terminal\" + 0.043*\"shaw\" + 0.041*\"port\" + 0.036*\"bag\" + 0.031*\"oakland\" + 0.031*\"starr\" + 0.030*\"bags\" + 0.026*\"hart\" + 0.025*\"baylor\" + 0.021*\"hubbard\"\n",
      "Topic #14: 0.018*\"united\" + 0.014*\"military\" + 0.012*\"states\" + 0.012*\"obama\" + 0.011*\"american\" + 0.010*\"islamic\" + 0.010*\"state\" + 0.009*\"war\" + 0.009*\"president\" + 0.009*\"government\"\n",
      "Topic #15: 0.065*\"percent\" + 0.026*\"rose\" + 0.021*\"fell\" + 0.019*\"stock\" + 0.015*\"cents\" + 0.015*\"quarter\" + 0.015*\"prices\" + 0.014*\"oil\" + 0.011*\"markets\" + 0.011*\"companies\"\n",
      "Topic #16: 0.041*\"city\" + 0.014*\"park\" + 0.014*\"york\" + 0.010*\"brooklyn\" + 0.009*\"residents\" + 0.008*\"housing\" + 0.007*\"community\" + 0.007*\"island\" + 0.007*\"home\" + 0.007*\"center\"\n",
      "Topic #17: 0.052*\"redstone\" + 0.029*\"viacom\" + 0.012*\"dauman\" + 0.012*\"trust\" + 0.011*\"suit\" + 0.010*\"lawsuit\" + 0.010*\"filed\" + 0.009*\"national\" + 0.009*\"board\" + 0.008*\"mental\"\n",
      "Topic #18: 0.032*\"media\" + 0.026*\"twitter\" + 0.025*\"online\" + 0.024*\"social\" + 0.021*\"video\" + 0.014*\"internet\" + 0.012*\"digital\" + 0.012*\"advertising\" + 0.010*\"india\" + 0.009*\"users\"\n",
      "Topic #19: 0.045*\"president\" + 0.040*\"party\" + 0.034*\"political\" + 0.023*\"brazil\" + 0.020*\"rousseff\" + 0.019*\"country\" + 0.014*\"government\" + 0.013*\"impeachment\" + 0.012*\"temer\" + 0.011*\"corruption\"\n",
      "Topic #20: 0.041*\"percent\" + 0.015*\"economy\" + 0.014*\"growth\" + 0.013*\"economic\" + 0.011*\"rate\" + 0.011*\"increase\" + 0.010*\"rates\" + 0.009*\"jobs\" + 0.008*\"market\" + 0.008*\"workers\"\n",
      "Topic #21: 0.126*\"facebook\" + 0.041*\"news\" + 0.016*\"zuckerberg\" + 0.016*\"media\" + 0.016*\"post\" + 0.014*\"mcgregor\" + 0.013*\"trending\" + 0.012*\"social\" + 0.011*\"company\" + 0.011*\"page\"\n",
      "Topic #22: 0.028*\"google\" + 0.024*\"apple\" + 0.019*\"company\" + 0.016*\"technology\" + 0.015*\"tech\" + 0.012*\"amazon\" + 0.011*\"app\" + 0.010*\"companies\" + 0.009*\"software\" + 0.009*\"mobile\"\n",
      "Topic #23: 0.124*\"lee\" + 0.095*\"hong\" + 0.091*\"kong\" + 0.070*\"ireland\" + 0.040*\"irish\" + 0.034*\"northern\" + 0.020*\"zhang\" + 0.019*\"chan\" + 0.016*\"wong\" + 0.015*\"mainland\"\n",
      "Topic #24: 0.088*\"blasio\" + 0.059*\"mayor\" + 0.041*\"board\" + 0.019*\"poll\" + 0.019*\"lebanon\" + 0.019*\"survey\" + 0.016*\"kennedy\" + 0.014*\"percent\" + 0.014*\"exit\" + 0.013*\"friedman\"\n",
      "Topic #25: 0.007*\"think\" + 0.006*\"say\" + 0.005*\"did\" + 0.005*\"way\" + 0.005*\"don\" + 0.004*\"make\" + 0.004*\"want\" + 0.004*\"question\" + 0.004*\"does\" + 0.004*\"news\"\n",
      "Topic #26: 0.017*\"soccer\" + 0.012*\"club\" + 0.011*\"world\" + 0.011*\"team\" + 0.011*\"united\" + 0.011*\"cup\" + 0.009*\"city\" + 0.008*\"final\" + 0.008*\"leicester\" + 0.008*\"madrid\"\n",
      "Topic #27: 0.083*\"women\" + 0.022*\"health\" + 0.021*\"men\" + 0.011*\"life\" + 0.010*\"woman\" + 0.010*\"states\" + 0.009*\"female\" + 0.008*\"children\" + 0.008*\"age\" + 0.008*\"united\"\n",
      "Topic #28: 0.069*\"trump\" + 0.029*\"clinton\" + 0.027*\"campaign\" + 0.017*\"republican\" + 0.010*\"president\" + 0.010*\"donald\" + 0.010*\"obama\" + 0.010*\"presidential\" + 0.009*\"party\" + 0.008*\"political\"\n",
      "Topic #29: 0.046*\"dance\" + 0.045*\"ballet\" + 0.023*\"company\" + 0.021*\"dancers\" + 0.014*\"city\" + 0.014*\"american\" + 0.013*\"dancer\" + 0.011*\"royal\" + 0.011*\"dancing\" + 0.010*\"choreographer\"\n",
      "Topic #30: 0.184*\"iran\" + 0.064*\"agreement\" + 0.058*\"nuclear\" + 0.048*\"iranian\" + 0.038*\"deal\" + 0.037*\"sanctions\" + 0.035*\"gulf\" + 0.034*\"persian\" + 0.029*\"states\" + 0.028*\"united\"\n",
      "Topic #31: 0.065*\"art\" + 0.025*\"gallery\" + 0.021*\"work\" + 0.020*\"artist\" + 0.017*\"artists\" + 0.015*\"works\" + 0.011*\"images\" + 0.009*\"paintings\" + 0.009*\"painting\" + 0.009*\"flyers\"\n",
      "Topic #32: 0.004*\"later\" + 0.003*\"long\" + 0.003*\"history\" + 0.003*\"just\" + 0.003*\"called\" + 0.003*\"left\" + 0.003*\"today\" + 0.003*\"began\" + 0.003*\"don\" + 0.002*\"going\"\n",
      "Topic #33: 0.069*\"company\" + 0.021*\"chief\" + 0.020*\"executive\" + 0.018*\"business\" + 0.017*\"billion\" + 0.016*\"companies\" + 0.016*\"million\" + 0.014*\"deal\" + 0.011*\"percent\" + 0.010*\"board\"\n",
      "Topic #34: 0.032*\"brown\" + 0.026*\"veterans\" + 0.017*\"native\" + 0.015*\"breast\" + 0.015*\"foods\" + 0.013*\"alzheimer\" + 0.012*\"mexican\" + 0.010*\"slur\" + 0.009*\"american\" + 0.009*\"box\"\n",
      "Topic #35: 0.019*\"race\" + 0.012*\"american\" + 0.011*\"horse\" + 0.010*\"won\" + 0.008*\"racing\" + 0.008*\"kentucky\" + 0.008*\"races\" + 0.007*\"colt\" + 0.006*\"churchill\" + 0.006*\"crown\"\n",
      "Topic #36: 0.096*\"north\" + 0.058*\"korea\" + 0.056*\"nuclear\" + 0.045*\"south\" + 0.034*\"kim\" + 0.034*\"korean\" + 0.020*\"missile\" + 0.017*\"test\" + 0.012*\"united\" + 0.011*\"party\"\n",
      "Topic #37: 0.024*\"simon\" + 0.024*\"rhodes\" + 0.015*\"lewis\" + 0.012*\"slave\" + 0.011*\"pump\" + 0.011*\"nest\" + 0.010*\"consciousness\" + 0.009*\"slavery\" + 0.009*\"moses\" + 0.008*\"tracks\"\n",
      "Topic #38: 0.022*\"team\" + 0.018*\"players\" + 0.017*\"game\" + 0.017*\"season\" + 0.016*\"league\" + 0.011*\"games\" + 0.008*\"coach\" + 0.008*\"mets\" + 0.008*\"player\" + 0.008*\"play\"\n",
      "Topic #39: 0.045*\"ukraine\" + 0.030*\"ellis\" + 0.027*\"gannett\" + 0.024*\"ukrainian\" + 0.022*\"publishing\" + 0.021*\"alibaba\" + 0.015*\"rechnitz\" + 0.014*\"papa\" + 0.013*\"exchange\" + 0.012*\"rey\"\n",
      "Topic #40: 0.061*\"times\" + 0.053*\"article\" + 0.027*\"york\" + 0.023*\"news\" + 0.019*\"editor\" + 0.015*\"newspaper\" + 0.014*\"misstated\" + 0.013*\"paper\" + 0.012*\"public\" + 0.010*\"comments\"\n",
      "Topic #41: 0.069*\"judge\" + 0.059*\"trial\" + 0.051*\"case\" + 0.031*\"prosecutors\" + 0.026*\"charges\" + 0.026*\"court\" + 0.025*\"lawyers\" + 0.024*\"jury\" + 0.024*\"williams\" + 0.019*\"lawyer\"\n",
      "Topic #42: 0.027*\"million\" + 0.023*\"prison\" + 0.022*\"bonds\" + 0.017*\"district\" + 0.016*\"court\" + 0.015*\"convicted\" + 0.014*\"sentence\" + 0.014*\"attorney\" + 0.013*\"york\" + 0.013*\"federal\"\n",
      "Topic #43: 0.042*\"miller\" + 0.024*\"cohen\" + 0.022*\"beer\" + 0.017*\"sales\" + 0.016*\"harris\" + 0.011*\"douglas\" + 0.011*\"according\" + 0.010*\"apartment\" + 0.010*\"connecticut\" + 0.009*\"katz\"\n",
      "Topic #44: 0.017*\"told\" + 0.010*\"man\" + 0.007*\"family\" + 0.007*\"day\" + 0.007*\"did\" + 0.007*\"woman\" + 0.006*\"asked\" + 0.006*\"went\" + 0.006*\"video\" + 0.005*\"room\"\n",
      "Topic #45: 0.043*\"music\" + 0.026*\"album\" + 0.023*\"musical\" + 0.021*\"song\" + 0.019*\"broadway\" + 0.018*\"hamilton\" + 0.017*\"songs\" + 0.014*\"beyoncé\" + 0.013*\"band\" + 0.010*\"awards\"\n",
      "Topic #46: 0.196*\"bronx\" + 0.090*\"lightfoot\" + 0.076*\"perez\" + 0.062*\"officers\" + 0.061*\"gang\" + 0.052*\"rivera\" + 0.039*\"rodriguez\" + 0.034*\"beating\" + 0.018*\"attempted\" + 0.016*\"island\"\n",
      "Topic #47: 0.048*\"cuba\" + 0.038*\"cuban\" + 0.034*\"cruise\" + 0.029*\"miami\" + 0.025*\"espn\" + 0.020*\"american\" + 0.020*\"ship\" + 0.014*\"cubans\" + 0.013*\"frazier\" + 0.013*\"castro\"\n",
      "Topic #48: 0.039*\"food\" + 0.014*\"chicken\" + 0.013*\"rice\" + 0.012*\"gun\" + 0.012*\"eat\" + 0.011*\"cooking\" + 0.011*\"chef\" + 0.011*\"good\" + 0.011*\"cream\" + 0.009*\"make\"\n",
      "Topic #49: 0.010*\"just\" + 0.006*\"don\" + 0.006*\"way\" + 0.005*\"think\" + 0.005*\"really\" + 0.005*\"know\" + 0.004*\"life\" + 0.004*\"want\" + 0.004*\"make\" + 0.004*\"going\"\n",
      "Topic #50: 0.265*\"texas\" + 0.105*\"hannah\" + 0.080*\"houston\" + 0.031*\"charleston\" + 0.030*\"dallas\" + 0.029*\"abbott\" + 0.021*\"alabama\" + 0.015*\"antonio\" + 0.015*\"upfront\" + 0.015*\"granite\"\n",
      "Topic #51: 0.101*\"vietnam\" + 0.045*\"cat\" + 0.043*\"cats\" + 0.031*\"vietnamese\" + 0.029*\"nguyen\" + 0.029*\"danish\" + 0.027*\"warburg\" + 0.023*\"irwin\" + 0.022*\"ambulance\" + 0.020*\"ambulances\"\n",
      "Topic #52: 0.094*\"valley\" + 0.058*\"gawker\" + 0.048*\"silicon\" + 0.045*\"bust\" + 0.033*\"hogan\" + 0.032*\"thiel\" + 0.027*\"upgrade\" + 0.025*\"media\" + 0.019*\"wrestler\" + 0.018*\"denton\"\n"
     ]
    },
    {
     "name": "stdout",
     "output_type": "stream",
     "text": [
      "Topic #53: 0.076*\"japan\" + 0.053*\"japanese\" + 0.027*\"skin\" + 0.022*\"navy\" + 0.021*\"tokyo\" + 0.017*\"marine\" + 0.014*\"abe\" + 0.014*\"beauty\" + 0.011*\"rivers\" + 0.011*\"flower\"\n",
      "Topic #54: 0.138*\"fashion\" + 0.069*\"wear\" + 0.045*\"men\" + 0.045*\"dress\" + 0.029*\"clothes\" + 0.028*\"hair\" + 0.027*\"wore\" + 0.023*\"wearing\" + 0.019*\"schneiderman\" + 0.018*\"suit\"\n",
      "Topic #55: 0.022*\"open\" + 0.019*\"french\" + 0.018*\"tennis\" + 0.018*\"williams\" + 0.016*\"murray\" + 0.015*\"match\" + 0.012*\"grand\" + 0.012*\"djokovic\" + 0.011*\"clay\" + 0.010*\"play\"\n",
      "Topic #56: 0.049*\"gay\" + 0.047*\"rights\" + 0.031*\"transgender\" + 0.015*\"carolina\" + 0.015*\"north\" + 0.014*\"gender\" + 0.013*\"civil\" + 0.012*\"law\" + 0.011*\"human\" + 0.010*\"discrimination\"\n",
      "Topic #57: 0.102*\"zika\" + 0.075*\"virus\" + 0.032*\"pregnant\" + 0.025*\"infection\" + 0.021*\"mosquito\" + 0.021*\"infections\" + 0.019*\"infected\" + 0.019*\"cases\" + 0.019*\"centers\" + 0.017*\"disease\"\n",
      "Topic #58: 0.068*\"family\" + 0.060*\"father\" + 0.052*\"mother\" + 0.042*\"son\" + 0.022*\"children\" + 0.021*\"daughter\" + 0.019*\"smith\" + 0.018*\"parents\" + 0.015*\"brother\" + 0.014*\"school\"\n",
      "Topic #59: 0.108*\"sexual\" + 0.084*\"sex\" + 0.047*\"rape\" + 0.034*\"assault\" + 0.033*\"turner\" + 0.029*\"university\" + 0.027*\"wright\" + 0.026*\"howe\" + 0.021*\"mason\" + 0.020*\"stanford\"\n",
      "Topic #60: 0.039*\"recipe\" + 0.026*\"tickets\" + 0.021*\"recall\" + 0.020*\"cook\" + 0.019*\"week\" + 0.018*\"safety\" + 0.017*\"make\" + 0.017*\"recipes\" + 0.016*\"ticket\" + 0.016*\"sam\"\n",
      "Topic #61: 0.082*\"school\" + 0.036*\"schools\" + 0.033*\"children\" + 0.033*\"students\" + 0.021*\"high\" + 0.016*\"parents\" + 0.014*\"education\" + 0.010*\"teachers\" + 0.009*\"student\" + 0.008*\"kids\"\n",
      "Topic #62: 0.047*\"security\" + 0.041*\"travel\" + 0.032*\"airport\" + 0.029*\"agency\" + 0.025*\"hastert\" + 0.025*\"passengers\" + 0.019*\"airlines\" + 0.018*\"travelers\" + 0.017*\"flight\" + 0.014*\"airline\"\n",
      "Topic #63: 0.054*\"insurance\" + 0.027*\"cuomo\" + 0.021*\"mitsubishi\" + 0.019*\"coverage\" + 0.018*\"health\" + 0.017*\"insurers\" + 0.014*\"medicare\" + 0.013*\"costs\" + 0.012*\"care\" + 0.011*\"affordable\"\n",
      "Topic #64: 0.026*\"house\" + 0.018*\"room\" + 0.013*\"space\" + 0.012*\"home\" + 0.011*\"feet\" + 0.011*\"square\" + 0.009*\"built\" + 0.009*\"living\" + 0.008*\"floor\" + 0.008*\"property\"\n",
      "Topic #65: 0.048*\"university\" + 0.045*\"students\" + 0.038*\"college\" + 0.019*\"student\" + 0.016*\"school\" + 0.015*\"education\" + 0.013*\"program\" + 0.012*\"colleges\" + 0.011*\"professor\" + 0.011*\"tax\"\n",
      "Topic #66: 0.025*\"yankees\" + 0.019*\"hit\" + 0.016*\"runs\" + 0.016*\"home\" + 0.014*\"inning\" + 0.013*\"run\" + 0.013*\"innings\" + 0.011*\"second\" + 0.009*\"hits\" + 0.008*\"girardi\"\n",
      "Topic #67: 0.045*\"dogs\" + 0.026*\"theranos\" + 0.025*\"dog\" + 0.022*\"animals\" + 0.017*\"tree\" + 0.015*\"birds\" + 0.014*\"holmes\" + 0.013*\"animal\" + 0.009*\"ancient\" + 0.007*\"trees\"\n",
      "Topic #68: 0.034*\"mexico\" + 0.030*\"president\" + 0.029*\"obama\" + 0.028*\"immigration\" + 0.027*\"immigrants\" + 0.014*\"country\" + 0.012*\"border\" + 0.011*\"election\" + 0.009*\"voting\" + 0.009*\"spain\"\n",
      "Topic #69: 0.108*\"africa\" + 0.106*\"south\" + 0.095*\"african\" + 0.039*\"rugby\" + 0.032*\"iceland\" + 0.029*\"zealand\" + 0.028*\"argentina\" + 0.026*\"wales\" + 0.018*\"england\" + 0.016*\"farrell\"\n",
      "Topic #70: 0.047*\"energy\" + 0.045*\"oil\" + 0.035*\"climate\" + 0.024*\"power\" + 0.021*\"change\" + 0.020*\"gas\" + 0.016*\"environmental\" + 0.015*\"carbon\" + 0.015*\"canada\" + 0.014*\"coal\"\n",
      "Topic #71: 0.131*\"black\" + 0.081*\"white\" + 0.033*\"chicago\" + 0.023*\"racial\" + 0.019*\"race\" + 0.016*\"diversity\" + 0.016*\"koch\" + 0.015*\"city\" + 0.010*\"blacks\" + 0.010*\"airbnb\"\n",
      "Topic #72: 0.043*\"duterte\" + 0.040*\"philippines\" + 0.023*\"capuano\" + 0.018*\"aquino\" + 0.017*\"hostage\" + 0.017*\"hostages\" + 0.016*\"davao\" + 0.015*\"abu\" + 0.015*\"mayor\" + 0.012*\"kidnapped\"\n",
      "Topic #73: 0.052*\"court\" + 0.039*\"law\" + 0.025*\"justice\" + 0.018*\"case\" + 0.017*\"federal\" + 0.016*\"legal\" + 0.013*\"supreme\" + 0.013*\"decision\" + 0.013*\"states\" + 0.011*\"ruling\"\n",
      "Topic #74: 0.015*\"day\" + 0.015*\"win\" + 0.014*\"round\" + 0.012*\"second\" + 0.011*\"golf\" + 0.010*\"final\" + 0.010*\"won\" + 0.009*\"tour\" + 0.009*\"united\" + 0.009*\"just\"\n",
      "Topic #75: 0.107*\"cancer\" + 0.076*\"jackson\" + 0.040*\"kelly\" + 0.032*\"knicks\" + 0.024*\"andrew\" + 0.020*\"cells\" + 0.019*\"bulls\" + 0.019*\"anthony\" + 0.017*\"thomas\" + 0.014*\"radiation\"\n",
      "Topic #76: 0.036*\"sanders\" + 0.026*\"voters\" + 0.020*\"clinton\" + 0.017*\"democratic\" + 0.016*\"delegates\" + 0.016*\"vote\" + 0.015*\"party\" + 0.013*\"primary\" + 0.012*\"election\" + 0.012*\"win\"\n",
      "Topic #77: 0.088*\"million\" + 0.032*\"market\" + 0.031*\"sold\" + 0.030*\"price\" + 0.028*\"sale\" + 0.025*\"sales\" + 0.021*\"buyers\" + 0.020*\"auction\" + 0.016*\"sell\" + 0.013*\"homes\"\n",
      "Topic #78: 0.042*\"film\" + 0.022*\"movie\" + 0.018*\"theater\" + 0.015*\"play\" + 0.011*\"production\" + 0.011*\"films\" + 0.011*\"shakespeare\" + 0.010*\"director\" + 0.010*\"hollywood\" + 0.010*\"cast\"\n",
      "Topic #79: 0.026*\"geffen\" + 0.025*\"watson\" + 0.022*\"nash\" + 0.021*\"armenian\" + 0.021*\"genocide\" + 0.021*\"prostitution\" + 0.015*\"bell\" + 0.015*\"lai\" + 0.015*\"ottoman\" + 0.014*\"lighting\"\n",
      "Topic #80: 0.073*\"festival\" + 0.046*\"june\" + 0.043*\"event\" + 0.036*\"events\" + 0.023*\"july\" + 0.022*\"summer\" + 0.020*\"concert\" + 0.020*\"music\" + 0.019*\"carnival\" + 0.017*\"include\"\n",
      "Topic #81: 0.098*\"french\" + 0.067*\"paris\" + 0.058*\"france\" + 0.045*\"jewish\" + 0.034*\"jews\" + 0.024*\"israel\" + 0.018*\"radio\" + 0.015*\"hunter\" + 0.012*\"hitler\" + 0.010*\"truck\"\n",
      "Topic #82: 0.136*\"prince\" + 0.069*\"ali\" + 0.031*\"baker\" + 0.019*\"muhammad\" + 0.016*\"fight\" + 0.013*\"ring\" + 0.012*\"death\" + 0.012*\"minneapolis\" + 0.011*\"boxing\" + 0.010*\"died\"\n",
      "Topic #83: 0.090*\"church\" + 0.028*\"jones\" + 0.028*\"tribune\" + 0.027*\"religious\" + 0.026*\"catholic\" + 0.020*\"christian\" + 0.017*\"religion\" + 0.012*\"churches\" + 0.012*\"god\" + 0.011*\"pastor\"\n",
      "Topic #84: 0.061*\"temple\" + 0.052*\"hughes\" + 0.036*\"submarines\" + 0.033*\"tigers\" + 0.025*\"submarine\" + 0.024*\"sanofi\" + 0.017*\"latvia\" + 0.015*\"emerson\" + 0.014*\"monks\" + 0.013*\"manuel\"\n",
      "Topic #85: 0.056*\"european\" + 0.036*\"union\" + 0.034*\"britain\" + 0.027*\"europe\" + 0.023*\"british\" + 0.017*\"london\" + 0.014*\"vote\" + 0.013*\"minister\" + 0.012*\"party\" + 0.012*\"prime\"\n",
      "Topic #86: 0.028*\"york\" + 0.027*\"graduated\" + 0.024*\"university\" + 0.023*\"couple\" + 0.020*\"married\" + 0.019*\"received\" + 0.018*\"bride\" + 0.016*\"met\" + 0.016*\"groom\" + 0.015*\"father\"\n",
      "Topic #87: 0.037*\"russian\" + 0.036*\"russia\" + 0.027*\"sports\" + 0.025*\"athletes\" + 0.025*\"olympic\" + 0.018*\"olympics\" + 0.016*\"world\" + 0.016*\"rio\" + 0.014*\"games\" + 0.014*\"sport\"\n",
      "Topic #88: 0.098*\"mcdonald\" + 0.032*\"thai\" + 0.031*\"meyer\" + 0.030*\"stamp\" + 0.022*\"grill\" + 0.020*\"holtby\" + 0.018*\"café\" + 0.016*\"kane\" + 0.013*\"mozzarella\" + 0.013*\"braden\"\n",
      "Topic #89: 0.037*\"game\" + 0.030*\"points\" + 0.023*\"warriors\" + 0.023*\"curry\" + 0.014*\"series\" + 0.012*\"james\" + 0.010*\"games\" + 0.010*\"green\" + 0.010*\"golden\" + 0.010*\"cavaliers\"\n",
      "Topic #90: 0.032*\"cars\" + 0.031*\"volkswagen\" + 0.029*\"vehicles\" + 0.025*\"plane\" + 0.018*\"united\" + 0.015*\"emissions\" + 0.015*\"states\" + 0.014*\"aircraft\" + 0.013*\"diesel\" + 0.012*\"car\"\n",
      "Topic #91: 0.031*\"house\" + 0.025*\"senate\" + 0.017*\"republicans\" + 0.014*\"republican\" + 0.013*\"senator\" + 0.012*\"congress\" + 0.012*\"democrats\" + 0.011*\"washington\" + 0.010*\"legislation\" + 0.010*\"ryan\"\n",
      "Topic #92: 0.474*\"state\" + 0.082*\"governor\" + 0.040*\"gov\" + 0.030*\"legislature\" + 0.027*\"districts\" + 0.021*\"district\" + 0.018*\"city\" + 0.016*\"funding\" + 0.016*\"lawmakers\" + 0.015*\"kansas\"\n",
      "Topic #93: 0.033*\"health\" + 0.030*\"drug\" + 0.029*\"medical\" + 0.022*\"care\" + 0.020*\"patients\" + 0.017*\"hospital\" + 0.016*\"doctors\" + 0.016*\"drugs\" + 0.010*\"treatment\" + 0.009*\"hospitals\"\n",
      "Topic #94: 0.016*\"financial\" + 0.014*\"bank\" + 0.013*\"money\" + 0.012*\"million\" + 0.011*\"billion\" + 0.008*\"fund\" + 0.007*\"banks\" + 0.006*\"debt\" + 0.005*\"pay\" + 0.005*\"tax\"\n",
      "Topic #95: 0.012*\"company\" + 0.010*\"companies\" + 0.009*\"work\" + 0.009*\"pay\" + 0.008*\"employees\" + 0.006*\"customers\" + 0.006*\"service\" + 0.006*\"workers\" + 0.006*\"information\" + 0.005*\"make\"\n",
      "Topic #96: 0.027*\"jewelry\" + 0.022*\"stone\" + 0.014*\"diamond\" + 0.012*\"cannes\" + 0.012*\"ohio\" + 0.011*\"phillips\" + 0.010*\"charlotte\" + 0.009*\"pig\" + 0.009*\"herbs\" + 0.009*\"pork\"\n",
      "Topic #97: 0.010*\"german\" + 0.008*\"germany\" + 0.006*\"berlin\" + 0.004*\"dutch\" + 0.004*\"bbc\" + 0.004*\"freedom\" + 0.004*\"netanyahu\" + 0.003*\"political\" + 0.003*\"history\" + 0.003*\"called\"\n",
      "Topic #98: 0.030*\"government\" + 0.012*\"taliban\" + 0.011*\"city\" + 0.011*\"israeli\" + 0.009*\"killed\" + 0.008*\"israel\" + 0.008*\"forces\" + 0.008*\"afghan\" + 0.008*\"group\" + 0.007*\"human\"\n",
      "Topic #99: 0.099*\"wrestling\" + 0.031*\"levine\" + 0.019*\"nauru\" + 0.019*\"rains\" + 0.017*\"trim\" + 0.016*\"wrestlers\" + 0.015*\"buddhist\" + 0.015*\"academy\" + 0.013*\"colonialism\" + 0.012*\"grande\"\n"
     ]
    }
   ],
   "source": [
    "print(\"LDA Model:\")\n",
    " \n",
    "for idx in range(NUM_TOPICS):\n",
    "    print(\"Topic #%s:\" % idx, lda_model.print_topic(idx, 10))"
   ]
  },
  {
   "cell_type": "markdown",
   "metadata": {},
   "source": [
    "Видно, что лексическое ядро большинства тем вполне интерпретируемо"
   ]
  },
  {
   "cell_type": "markdown",
   "metadata": {},
   "source": [
    "### Можем взять свеженькую статью и, например, найти ближайшие документы из копуса"
   ]
  },
  {
   "cell_type": "code",
   "execution_count": 16,
   "metadata": {},
   "outputs": [],
   "source": [
    "text = \"\"\"Democrats harnessed voter fury toward President Trump to win control of the House and capture pivotal governorships Tuesday night as liberals and moderates banded together to deliver a forceful rebuke of Mr. Trump, even as Republicans added to their Senate majority by claiming a handful of conservative-leaning seats. \n",
    "The two parties each had some big successes in the states. \n",
    "Republican governors were elected in Ohio and Florida, two important battlegrounds in Mr. Trump’s 2020 campaign calculations. \n",
    "Democrats beat Gov. Scott Walker, the Wisconsin Republican and a top target, and captured the governor’s office in Michigan — two states that Mr. Trump carried in 2016 and where the left was looking to rebound.\"\"\""
   ]
  },
  {
   "cell_type": "markdown",
   "metadata": {},
   "source": [
    "Получим представление текста в виде мешка слов"
   ]
  },
  {
   "cell_type": "code",
   "execution_count": 17,
   "metadata": {},
   "outputs": [],
   "source": [
    "bow = dictionary.doc2bow(clean_text(text, vocab))"
   ]
  },
  {
   "cell_type": "markdown",
   "metadata": {},
   "source": [
    "### Построим индекс для поиска похожих документов с помощью обученной на корпусе модели"
   ]
  },
  {
   "cell_type": "code",
   "execution_count": 18,
   "metadata": {},
   "outputs": [
    {
     "name": "stderr",
     "output_type": "stream",
     "text": [
      "/usr/local/lib/python3.6/site-packages/gensim/matutils.py:737: FutureWarning: Conversion of the second argument of issubdtype from `int` to `np.signedinteger` is deprecated. In future, it will be treated as `np.int64 == np.dtype(int).type`.\n",
      "  if np.issubdtype(vec.dtype, np.int):\n"
     ]
    },
    {
     "name": "stdout",
     "output_type": "stream",
     "text": [
      "CPU times: user 53.3 s, sys: 5.05 s, total: 58.3 s\n",
      "Wall time: 31.3 s\n"
     ]
    }
   ],
   "source": [
    "%%time \n",
    "lda_index = similarities.MatrixSimilarity(lda_model[corpus])"
   ]
  },
  {
   "cell_type": "markdown",
   "metadata": {},
   "source": [
    "### Найдем похожие на запрос документы "
   ]
  },
  {
   "cell_type": "code",
   "execution_count": 19,
   "metadata": {},
   "outputs": [],
   "source": [
    "similar = lda_index[lda_model[bow]]\n",
    "\n",
    "similar = sorted(enumerate(similar), key=lambda item: -item[1]) # отсортируем по \"похожести\""
   ]
  },
  {
   "cell_type": "code",
   "execution_count": 20,
   "metadata": {},
   "outputs": [
    {
     "name": "stdout",
     "output_type": "stream",
     "text": [
      "[(675, 0.9728249), (268, 0.9702194), (7746, 0.96715236), (8018, 0.96648335), (2099, 0.96617776)]\n"
     ]
    }
   ],
   "source": [
    "print(similar[:5]) # топ-10"
   ]
  },
  {
   "cell_type": "markdown",
   "metadata": {},
   "source": [
    "### Посмотрим глазами на топ-5 самых похожих статей"
   ]
  },
  {
   "cell_type": "code",
   "execution_count": 21,
   "metadata": {
    "scrolled": true
   },
   "outputs": [
    {
     "name": "stdout",
     "output_type": "stream",
     "text": [
      "Senator Bernie Sanders said on Friday that he will vote for Hillary Clinton in the November presidential election, offering one more indication that he has given up on his own candidacy.Asked if he would cast his vote for Mrs. Clinton, the presumptive Democratic nominee, in an interview on MSNBC’s “Morning Joe” program, Mr. Sanders said, “Yes.”He added that the alternative, Donald J. Trump, would be dire for the country: “The issue right here is I’m going to do everything I can do to defeat Donald Trump. I think Trump, in so many ways, would be a disaster for this country if he were elected.”Mr. Sanders has previously signaled that he would work with Mrs. Clinton to defeat Mr. Trump, and on Wednesday he acknowledged that “it doesn’t appear” that he’ll be the Democratic nominee when the party gathers for its convention next month. But he has thus far refused to suspend his presidential bid or stop campaigning. He had a campaign rally in New York City on Thursday night, and similar event\n",
      "---------------\n",
      "Ted Cruz and John Kasich have a message for Donald J. Trump: They don’t care if they are not invited to speak at his convention.As Mr. Trump tries to plan a convention that will run as smoothly as possible, he said in an interview with The New York Times last week that he would not invite either Mr. Cruz or Mr. Kasich, both former rivals for the Republican presidential nomination, to speak at the Republican National Convention in Cleveland unless they endorsed him.That is fine, both said on Monday. A spokeswoman for Mr. Cruz, Catherine Frazier, said the Texas senator did not have any expectation about receiving a speaking slot. A spokesman for Mr. Kasich, the governor of Ohio, was similarly indifferent.“We have not sought nor are we expecting a speaking slot at the convention,” said the spokesman, Chris Schrimpf.In Mr. Kasich’s case, the situation is even more strained because the convention will take place in his home state. Ordinarily, a governor whose party is hosting a convention i\n",
      "---------------\n",
      "PHILADELPHIA — After months of trying to sideline an unexpectedly deft and well-financed liberal opponent, Hillary Clinton on Tuesday won a series of primaries that freed her to present herself as the de facto victor of the Democratic nominating fight and gave her the impetus to shift focus decisively toward the November election.Now all but certain to clinch her party’s nomination, Mrs. Clinton will continue to face the criticism of her party rival, Senator Bernie Sanders of Vermont. But she is expected to move swiftly to claim an early advantage against the leading Republican candidate, Donald J. Trump. Her advisers and allies say she will spend the coming weeks honing her message for the general election, and stepping up fund-raising that has lagged in the face of Mr. Sanders’s challenge.“With your help, we’re going to come back to Philadelphia for the Democratic National Convention with the most votes and the most pledged delegates,” Mrs. Clinton told a crowd of 1,300 here after sh\n",
      "---------------\n",
      "Even as his chances of winning the Democratic presidential nomination slip away, Senator Bernie Sanders and his allies are trying to use his popularity to expand his political influence, setting up an ideological struggle for the soul of the Democratic Party in the post-Obama era.Aides to Mr. Sanders have been pressing party officials for a significant role in drafting the platform for the Democratic convention in July, aiming to lock in strong planks on issues like a $15-an-hour federal minimum wage, breaking up Wall Street banks and banning natural gas “fracking.”Amid his unexpectedly strong showing in the Democratic primaries, Mr. Sanders has tapped his two-million-person donor list to raise money for liberal congressional candidates in New York, Nevada and Washington State. And in the waning months of Barack Obama’s presidency, Mr. Sanders’s allies are testing their muscle against the White House, mounting a public attack on the president’s housing secretary, Julián Castro, over hi\n",
      "---------------\n",
      "Senator Bernie Sanders said on Sunday that he would “take our campaign for transforming the Democratic Party into the convention,” refusing to concede the presidential nomination to Hillary Clinton though not explicitly saying he would challenge her for it.Mrs. Clinton earned enough delegates to clinch the nomination last week, but Mr. Sanders has declined to end his campaign. He has contended that he could persuade enough superdelegates, the party leaders who have overwhelmingly backed Mrs. Clinton, to switch their support to him by arguing that he would be the stronger candidate against Donald J. Trump, the presumptive Republican presidential nominee.That plan became more improbable last week as high-profile Democrats supported Mrs. Clinton. President Obama endorsed her on Thursday, calling her the most qualified candidate ever to seek the White House and imploring Democrats to unite behind her. Vice President Joseph R. Biden Jr. and Senator Elizabeth Warren of Massachusetts also end\n",
      "---------------\n"
     ]
    }
   ],
   "source": [
    "for document_id, similarity in similar[:5]:\n",
    "    print(data[document_id][:1000])\n",
    "    print('---------------')"
   ]
  },
  {
   "cell_type": "markdown",
   "metadata": {},
   "source": [
    "## Попробуем теперь запустить реализацию lda в sklearn "
   ]
  },
  {
   "cell_type": "code",
   "execution_count": 22,
   "metadata": {},
   "outputs": [],
   "source": [
    "from sklearn.decomposition import LatentDirichletAllocation\n",
    "from sklearn.feature_extraction.text import CountVectorizer"
   ]
  },
  {
   "cell_type": "markdown",
   "metadata": {},
   "source": [
    "#### Выполним векторизацию выборки с помощью CountVectorizer"
   ]
  },
  {
   "cell_type": "code",
   "execution_count": 23,
   "metadata": {},
   "outputs": [
    {
     "name": "stdout",
     "output_type": "stream",
     "text": [
      "CPU times: user 4.15 s, sys: 126 ms, total: 4.28 s\n",
      "Wall time: 4.36 s\n"
     ]
    }
   ],
   "source": [
    "%%time\n",
    "vectorizer = CountVectorizer(min_df=5, max_df=0.5, \n",
    "                             stop_words='english', lowercase=True, \n",
    "                             token_pattern='[a-zA-Z\\-][a-zA-Z\\-]{2,}')\n",
    "\n",
    "data_vectorized = vectorizer.fit_transform(data)"
   ]
  },
  {
   "cell_type": "markdown",
   "metadata": {},
   "source": [
    "#### Запустим обучение модели"
   ]
  },
  {
   "cell_type": "code",
   "execution_count": 24,
   "metadata": {},
   "outputs": [],
   "source": [
    "lda_model_sklearn = LatentDirichletAllocation(n_components=NUM_TOPICS, max_iter=10, learning_method='online')"
   ]
  },
  {
   "cell_type": "code",
   "execution_count": 63,
   "metadata": {},
   "outputs": [
    {
     "name": "stdout",
     "output_type": "stream",
     "text": [
      "CPU times: user 6min 40s, sys: 1min 14s, total: 7min 54s\n",
      "Wall time: 4min 44s\n"
     ]
    },
    {
     "data": {
      "text/plain": [
       "LatentDirichletAllocation(batch_size=128, doc_topic_prior=None,\n",
       "             evaluate_every=-1, learning_decay=0.7,\n",
       "             learning_method='online', learning_offset=10.0,\n",
       "             max_doc_update_iter=100, max_iter=10, mean_change_tol=0.001,\n",
       "             n_components=100, n_jobs=None, n_topics=None, perp_tol=0.1,\n",
       "             random_state=None, topic_word_prior=None,\n",
       "             total_samples=1000000.0, verbose=0)"
      ]
     },
     "execution_count": 63,
     "metadata": {},
     "output_type": "execute_result"
    }
   ],
   "source": [
    "%%time\n",
    "lda_model_sklearn.fit(data_vectorized)"
   ]
  },
  {
   "cell_type": "markdown",
   "metadata": {},
   "source": [
    "Сохраним модель"
   ]
  },
  {
   "cell_type": "code",
   "execution_count": 64,
   "metadata": {},
   "outputs": [],
   "source": [
    "with open(\"data/sklearn_lda.model\", \"wb\") as f_out:\n",
    "    pickle.dump(lda_model_sklearn, f_out)"
   ]
  },
  {
   "cell_type": "markdown",
   "metadata": {},
   "source": [
    "Подгрузим модель"
   ]
  },
  {
   "cell_type": "code",
   "execution_count": 25,
   "metadata": {},
   "outputs": [],
   "source": [
    "with open(\"data/sklearn_lda.model\", \"rb\") as f_in:\n",
    "    lda_model_sklearn = pickle.load(f_in)"
   ]
  },
  {
   "cell_type": "markdown",
   "metadata": {},
   "source": [
    "#### Трансформируем векторизованную выборку"
   ]
  },
  {
   "cell_type": "code",
   "execution_count": 26,
   "metadata": {
    "scrolled": true
   },
   "outputs": [
    {
     "name": "stdout",
     "output_type": "stream",
     "text": [
      "(8883, 100)\n",
      "CPU times: user 14.1 s, sys: 1.73 s, total: 15.8 s\n",
      "Wall time: 8.31 s\n"
     ]
    }
   ],
   "source": [
    "%%time\n",
    "lda_decomposition = lda_model_sklearn.transform(data_vectorized)\n",
    "print(lda_decomposition.shape)  # (NO_DOCUMENTS, NO_TOPICS)"
   ]
  },
  {
   "cell_type": "markdown",
   "metadata": {},
   "source": [
    "### Выведем наиболее важные слова для тем и оценим интерпертируемость"
   ]
  },
  {
   "cell_type": "code",
   "execution_count": 27,
   "metadata": {},
   "outputs": [
    {
     "name": "stdout",
     "output_type": "stream",
     "text": [
      "Topic 0:\n",
      "gulbis, tivo, santander, galloway, juggled, fed, galore, banks, bank, wednesday, \n",
      "----------------------------------------------------------------------------------------------------\n",
      "Topic 1:\n",
      "couture, deboer, brouwer, karlsson, understudy, melker, no-look, up-close, face-offs, first-period, \n",
      "----------------------------------------------------------------------------------------------------\n",
      "Topic 2:\n",
      "temer, lia, fold, souza, juc, colton, renan, implicating, henrique, devouring, \n",
      "----------------------------------------------------------------------------------------------------\n",
      "Topic 3:\n",
      "espaillat, city, political, black, rangel, dominican, district, bronx, harlem, trump, \n",
      "----------------------------------------------------------------------------------------------------\n",
      "Topic 4:\n",
      "com, nytimes, briefing, mexico, weekend, posted, eastern, want, evening, morning, \n",
      "----------------------------------------------------------------------------------------------------\n",
      "Topic 5:\n",
      "broadway, humans, play, isherwood, carson, rockwell, richards, roundabout, houdyshell, texan, \n",
      "----------------------------------------------------------------------------------------------------\n",
      "Topic 6:\n",
      "contest, usa, contestants, pageant, beauty, redefine, squire, pageants, commandeered, swimsuit, \n",
      "----------------------------------------------------------------------------------------------------\n",
      "Topic 7:\n",
      "steyer, gallup, slimane, olga, hedi, boredom, rollout, shopkeeper, sadistic, curbelo, \n",
      "----------------------------------------------------------------------------------------------------\n",
      "Topic 8:\n",
      "wide-plank, yo-yo, three-bedrooms, cuban, center, perelman, team, cubans, city, league, \n",
      "----------------------------------------------------------------------------------------------------\n",
      "Topic 9:\n",
      "athletes, brazil, olympic, russia, sports, olympics, russian, race, rio, track, \n",
      "----------------------------------------------------------------------------------------------------\n",
      "Topic 10:\n",
      "adelson, polio, bertens, waikiki, lan, daly, leach, departs, back-room, pooling, \n",
      "----------------------------------------------------------------------------------------------------\n",
      "Topic 11:\n",
      "shooting, shot, gang, gangs, collins, brooklyn, murder, troy, gun, bratton, \n",
      "----------------------------------------------------------------------------------------------------\n",
      "Topic 12:\n",
      "mccollum, news, academy, facebook, banks, export, bank, members, work, large, \n",
      "----------------------------------------------------------------------------------------------------\n",
      "Topic 13:\n",
      "starz, lionsgate, cable, premium, snapchat, media, goddard, channel, person, wednesday, \n",
      "----------------------------------------------------------------------------------------------------\n",
      "Topic 14:\n",
      "redstone, board, deal, viacom, dauman, company, directors, merger, transfer, shareholders, \n",
      "----------------------------------------------------------------------------------------------------\n",
      "Topic 15:\n",
      "rensselaer, insurance, state, city, drivers, driving, information, insurers, maiduguri, group, \n",
      "----------------------------------------------------------------------------------------------------\n",
      "Topic 16:\n",
      "darty, fnac, conforama, yazidi, rosenfeld, stifle, lovejoy, sainsbury, angering, four-star, \n",
      "----------------------------------------------------------------------------------------------------\n",
      "Topic 17:\n",
      "willis, federer, match, crowd, wimbledon, tennis, wednesday, miss, playing, grass, \n",
      "----------------------------------------------------------------------------------------------------\n",
      "Topic 18:\n",
      "court, law, rights, justice, supreme, case, legal, decision, federal, states, \n",
      "----------------------------------------------------------------------------------------------------\n",
      "Topic 19:\n",
      "fashion, collection, designer, men, design, wear, brand, women, says, art, \n",
      "----------------------------------------------------------------------------------------------------\n",
      "Topic 20:\n",
      "just, way, don, know, want, going, did, life, make, day, \n",
      "----------------------------------------------------------------------------------------------------\n",
      "Topic 21:\n",
      "bellen, academy, won, members, care, wednesday, capital, city, google, membership, \n",
      "----------------------------------------------------------------------------------------------------\n",
      "Topic 22:\n",
      "haram, boko, nigeria, nigerian, globo, macarthur, maiduguri, children, hospice, hut, \n",
      "----------------------------------------------------------------------------------------------------\n",
      "Topic 23:\n",
      "yankees, mets, season, hit, runs, game, home, run, inning, innings, \n",
      "----------------------------------------------------------------------------------------------------\n",
      "Topic 24:\n",
      "rebel-held, daraya, crescent, keryn, mistura, united, american, china, attendants, states, \n",
      "----------------------------------------------------------------------------------------------------\n",
      "Topic 25:\n",
      "recurrence, solar, company, executives, investors, stock, access, solarcity, market, traded, \n",
      "----------------------------------------------------------------------------------------------------\n",
      "Topic 26:\n",
      "soundcloud, recode, ipod, guzm, mexican, extradition, american, appeals, mexico, turkey, \n",
      "----------------------------------------------------------------------------------------------------\n",
      "Topic 27:\n",
      "wireless, project, phone, service, republic, data, google, work, wi-fi, cell, \n",
      "----------------------------------------------------------------------------------------------------\n",
      "Topic 28:\n",
      "public, news, government, report, officials, including, group, president, agency, information, \n",
      "----------------------------------------------------------------------------------------------------\n",
      "Topic 29:\n",
      "network, television, cable, networks, streaming, channel, programming, comcast, channels, hbo, \n",
      "----------------------------------------------------------------------------------------------------\n",
      "Topic 30:\n",
      "kandahar, mawlawi, baghlan, financial, percent, billion, musa, council, assets, capital, \n",
      "----------------------------------------------------------------------------------------------------\n",
      "Topic 31:\n",
      "horvitz, players, league, college, entry, rule, early, basketball, draft, young, \n",
      "----------------------------------------------------------------------------------------------------\n",
      "Topic 32:\n",
      "libor, snapchat, clinton, goddard, olympic, franklin, department, bank, state, mrs, \n",
      "----------------------------------------------------------------------------------------------------\n",
      "Topic 33:\n",
      "delegates, convention, cleveland, kasich, ohio, delegate, rules, protesters, superdelegates, vote, \n",
      "----------------------------------------------------------------------------------------------------\n",
      "Topic 34:\n",
      "draft, pittsburgh, san, period, islanders, penguins, pick, philadelphia, ice, series, \n",
      "----------------------------------------------------------------------------------------------------\n",
      "Topic 35:\n",
      "police, officers, city, man, department, officials, island, miles, according, hours, \n",
      "----------------------------------------------------------------------------------------------------\n",
      "Topic 36:\n",
      "school, schools, girls, gender, transgender, male, identity, bathrooms, quake, superintendent, \n",
      "----------------------------------------------------------------------------------------------------\n",
      "Topic 37:\n",
      "luncheon, mccaskill, sneeze, thompson, obscuring, city, sanders, wednesday, gang, trump, \n",
      "----------------------------------------------------------------------------------------------------\n",
      "Topic 38:\n",
      "emoji, emojis, typing, belts, gooden, dreamy, sloane, ibooks, usurped, vermouth, \n",
      "----------------------------------------------------------------------------------------------------\n",
      "Topic 39:\n",
      "study, cancer, scientists, research, researchers, science, animals, university, cells, species, \n",
      "----------------------------------------------------------------------------------------------------\n",
      "Topic 40:\n",
      "harambe, mon, axa, tranquilizer, lowland, thane, gorillas, puerto, pok, data, \n",
      "----------------------------------------------------------------------------------------------------\n",
      "Topic 41:\n",
      "health, drug, medical, care, patients, drugs, doctors, collins, hospital, zika, \n",
      "----------------------------------------------------------------------------------------------------\n",
      "Topic 42:\n"
     ]
    },
    {
     "name": "stdout",
     "output_type": "stream",
     "text": [
      "company, bank, financial, billion, investors, money, business, million, banks, investment, \n",
      "----------------------------------------------------------------------------------------------------\n",
      "Topic 43:\n",
      "china, chinese, beijing, taiwan, islands, trade, mainland, asia, tsai, economic, \n",
      "----------------------------------------------------------------------------------------------------\n",
      "Topic 44:\n",
      "game, team, players, games, season, league, win, second, points, play, \n",
      "----------------------------------------------------------------------------------------------------\n",
      "Topic 45:\n",
      "seaport, creeping, fragrances, kettering, genders, indigo, noodle, solstice, skylights, enamel, \n",
      "----------------------------------------------------------------------------------------------------\n",
      "Topic 46:\n",
      "university, students, college, york, school, father, student, graduated, mother, met, \n",
      "----------------------------------------------------------------------------------------------------\n",
      "Topic 47:\n",
      "australia, coal, environmental, australian, wildlife, mining, conservation, sydney, mines, reef, \n",
      "----------------------------------------------------------------------------------------------------\n",
      "Topic 48:\n",
      "cuba, cuban, farmers, crops, american, agriculture, hernandez, cubans, havana, agricultural, \n",
      "----------------------------------------------------------------------------------------------------\n",
      "Topic 49:\n",
      "molenbeek, shortcoming, biopsy, treatable, flash, school, species, light, male, students, \n",
      "----------------------------------------------------------------------------------------------------\n",
      "Topic 50:\n",
      "calheiros, news, party, facebook, goddard, internet, snapchat, companies, china, government, \n",
      "----------------------------------------------------------------------------------------------------\n",
      "Topic 51:\n",
      "case, court, judge, investigation, trial, lawyer, charges, prosecutors, prison, criminal, \n",
      "----------------------------------------------------------------------------------------------------\n",
      "Topic 52:\n",
      "ahmad, helmand, nahmad, expel, reformists, dapper, jannati, sidestepped, homeopathic, overran, \n",
      "----------------------------------------------------------------------------------------------------\n",
      "Topic 53:\n",
      "film, theater, season, movie, series, ali, play, shows, musical, director, \n",
      "----------------------------------------------------------------------------------------------------\n",
      "Topic 54:\n",
      "rosenthal, norris, bogart, stepfather, iwo, jima, grasses, bacall, welterweight, rami, \n",
      "----------------------------------------------------------------------------------------------------\n",
      "Topic 55:\n",
      "africa, african, hearing, kenya, testimony, congo, hands, ivory, ethiopia, international, \n",
      "----------------------------------------------------------------------------------------------------\n",
      "Topic 56:\n",
      "angela, wilmore, farook, barker, thundered, trafalgar, moma, party, united, european, \n",
      "----------------------------------------------------------------------------------------------------\n",
      "Topic 57:\n",
      "cake, berries, souffl, heinz, summery, mush, forty-five, bungalows, books, cocoa, \n",
      "----------------------------------------------------------------------------------------------------\n",
      "Topic 58:\n",
      "city, mayor, housing, blasio, cars, vehicles, york, car, company, safety, \n",
      "----------------------------------------------------------------------------------------------------\n",
      "Topic 59:\n",
      "colombia, garc, kurt, hofer, farc, cessna, gotti, dwellers, navajo, carlyle, \n",
      "----------------------------------------------------------------------------------------------------\n",
      "Topic 60:\n",
      "solar, tesla, model, panels, musk, solarcity, birch, elon, sunedison, spacex, \n",
      "----------------------------------------------------------------------------------------------------\n",
      "Topic 61:\n",
      "trump, clinton, campaign, mrs, republican, party, sanders, voters, president, presidential, \n",
      "----------------------------------------------------------------------------------------------------\n",
      "Topic 62:\n",
      "cranston, portman, siberia, siberian, attribution, deodorant, permeable, antipoverty, polyester, palisades, \n",
      "----------------------------------------------------------------------------------------------------\n",
      "Topic 63:\n",
      "panetta, ferraro, madeleine, pocketbook, albright, tarnishing, moseley, farm, clinton, greens, \n",
      "----------------------------------------------------------------------------------------------------\n",
      "Topic 64:\n",
      "yankees, trump, trade, wednesday, going, just, speech, day, players, tuesday, \n",
      "----------------------------------------------------------------------------------------------------\n",
      "Topic 65:\n",
      "million, sale, sold, auction, price, sell, stone, sotheby, shanghai, diamond, \n",
      "----------------------------------------------------------------------------------------------------\n",
      "Topic 66:\n",
      "card, cards, customers, service, venezuela, customer, web, verizon, phone, carrier, \n",
      "----------------------------------------------------------------------------------------------------\n",
      "Topic 67:\n",
      "german, chemical, monsanto, bayer, soup, beans, seeds, machar, cooks, juba, \n",
      "----------------------------------------------------------------------------------------------------\n",
      "Topic 68:\n",
      "food, recipe, chicken, chef, cook, fish, make, foods, eat, rice, \n",
      "----------------------------------------------------------------------------------------------------\n",
      "Topic 69:\n",
      "derby, connecticut, kentucky, murphy, nyquist, baltimore, belmont, maryland, baffert, preakness, \n",
      "----------------------------------------------------------------------------------------------------\n",
      "Topic 70:\n",
      "european, union, britain, europe, party, country, british, political, government, minister, \n",
      "----------------------------------------------------------------------------------------------------\n",
      "Topic 71:\n",
      "dermatology, skin, philidor, gastrointestinal, santos, com, design, barrier, gun, pollution, \n",
      "----------------------------------------------------------------------------------------------------\n",
      "Topic 72:\n",
      "music, album, song, band, songs, concert, jazz, singer, beyonc, rock, \n",
      "----------------------------------------------------------------------------------------------------\n",
      "Topic 73:\n",
      "wolfe, copyright, blurred, dalai, infringement, progression, zeppelin, seeger, guthrie, uploaded, \n",
      "----------------------------------------------------------------------------------------------------\n",
      "Topic 74:\n",
      "gun, orlando, shooting, gay, club, mateen, victims, guns, shootings, killed, \n",
      "----------------------------------------------------------------------------------------------------\n",
      "Topic 75:\n",
      "china, party, mining, climate, american, political, trade, report, policy, candidates, \n",
      "----------------------------------------------------------------------------------------------------\n",
      "Topic 76:\n",
      "military, government, state, war, islamic, security, officials, attacks, group, forces, \n",
      "----------------------------------------------------------------------------------------------------\n",
      "Topic 77:\n",
      "jackson, rose, parker, knicks, lopez, coach, phoenix, anthony, bulls, guard, \n",
      "----------------------------------------------------------------------------------------------------\n",
      "Topic 78:\n",
      "hall, bloomberg, theranos, holmes, carnegie, forbes, billionaire, billionaires, gift, gorillas, \n",
      "----------------------------------------------------------------------------------------------------\n",
      "Topic 79:\n",
      "think, just, don, women, going, white, say, way, good, lot, \n",
      "----------------------------------------------------------------------------------------------------\n",
      "Topic 80:\n",
      "insurance, drivers, driver, coverage, insurers, car, driving, affordable, costs, pay, \n",
      "----------------------------------------------------------------------------------------------------\n",
      "Topic 81:\n",
      "polanski, lowe, doubting, convicts, shakespeare, thompson, school, arms, wolfe, administration, \n",
      "----------------------------------------------------------------------------------------------------\n",
      "Topic 82:\n",
      "book, times, books, story, novel, read, wrote, editor, published, writing, \n",
      "----------------------------------------------------------------------------------------------------\n",
      "Topic 83:\n",
      "virtuosic, rube, campground, recitation, diego, san, sheriff, county, federal, students, \n",
      "----------------------------------------------------------------------------------------------------\n",
      "Topic 84:\n"
     ]
    },
    {
     "name": "stdout",
     "output_type": "stream",
     "text": [
      "vaughn, leguizamo, outcast, bloodline, womb, mendelsohn, pepe, ocala, cardoso, racists, \n",
      "----------------------------------------------------------------------------------------------------\n",
      "Topic 85:\n",
      "north, south, nuclear, korea, kim, korean, missile, weapons, party, congress, \n",
      "----------------------------------------------------------------------------------------------------\n",
      "Topic 86:\n",
      "malfunction, lilies, florrick, daisies, party, pomegranates, prime, election, parliament, corbyn, \n",
      "----------------------------------------------------------------------------------------------------\n",
      "Topic 87:\n",
      "oil, water, energy, climate, gas, power, wine, change, plants, canada, \n",
      "----------------------------------------------------------------------------------------------------\n",
      "Topic 88:\n",
      "norton, nordic, frost, halibut, weigh-in, cmdr, mamet, wentworth, norse, bibi, \n",
      "----------------------------------------------------------------------------------------------------\n",
      "Topic 89:\n",
      "williams, open, tennis, murray, match, djokovic, grand, french, court, tournament, \n",
      "----------------------------------------------------------------------------------------------------\n",
      "Topic 90:\n",
      "state, house, senate, congress, republican, republicans, administration, democrats, senator, governor, \n",
      "----------------------------------------------------------------------------------------------------\n",
      "Topic 91:\n",
      "percent, million, market, sales, prices, company, tax, pay, economy, growth, \n",
      "----------------------------------------------------------------------------------------------------\n",
      "Topic 92:\n",
      "united, states, american, obama, iran, countries, nations, saudi, world, international, \n",
      "----------------------------------------------------------------------------------------------------\n",
      "Topic 93:\n",
      "city, art, building, street, museum, space, house, park, room, york, \n",
      "----------------------------------------------------------------------------------------------------\n",
      "Topic 94:\n",
      "french, paris, france, ballet, dance, dancers, belgium, euros, lightfoot, soccer, \n",
      "----------------------------------------------------------------------------------------------------\n",
      "Topic 95:\n",
      "family, children, young, prince, father, mother, day, high, died, park, \n",
      "----------------------------------------------------------------------------------------------------\n",
      "Topic 96:\n",
      "label, designation, metlife, abbvie, divestment, prudential, payable, divest, unequivocally, systemically, \n",
      "----------------------------------------------------------------------------------------------------\n",
      "Topic 97:\n",
      "company, facebook, companies, apple, google, technology, online, tech, app, products, \n",
      "----------------------------------------------------------------------------------------------------\n",
      "Topic 98:\n",
      "los, angeles, lee, board, bronx, academy, york, andrew, black, carter, \n",
      "----------------------------------------------------------------------------------------------------\n",
      "Topic 99:\n",
      "talib, pujols, joaquim, albert, raceway, galloway, democrats, house, farm, crafting, \n",
      "----------------------------------------------------------------------------------------------------\n"
     ]
    }
   ],
   "source": [
    "for idx, word_topic_distr in enumerate(lda_model_sklearn.components_):\n",
    "    print(\"Topic %d:\" % (idx))\n",
    "    top_words_idx = word_topic_distr.argsort()[-10:][::-1]\n",
    "    for word_idx in top_words_idx:\n",
    "        print(vectorizer.get_feature_names()[word_idx], end=', ')\n",
    "    print('\\n' + '-'*100)"
   ]
  },
  {
   "cell_type": "markdown",
   "metadata": {},
   "source": [
    "### Найдем точно так же похожие документы"
   ]
  },
  {
   "cell_type": "markdown",
   "metadata": {},
   "source": [
    "Наша заметка:"
   ]
  },
  {
   "cell_type": "code",
   "execution_count": 28,
   "metadata": {},
   "outputs": [
    {
     "data": {
      "text/plain": [
       "'Democrats harnessed voter fury toward President Trump to win control of the House and capture pivotal governorships Tuesday night as liberals and moderates banded together to deliver a forceful rebuke of Mr. Trump, even as Republicans added to their Senate majority by claiming a handful of conservative-leaning seats. \\nThe two parties each had some big successes in the states. \\nRepublican governors were elected in Ohio and Florida, two important battlegrounds in Mr. Trump’s 2020 campaign calculations. \\nDemocrats beat Gov. Scott Walker, the Wisconsin Republican and a top target, and captured the governor’s office in Michigan — two states that Mr. Trump carried in 2016 and where the left was looking to rebound.'"
      ]
     },
     "execution_count": 28,
     "metadata": {},
     "output_type": "execute_result"
    }
   ],
   "source": [
    "text"
   ]
  },
  {
   "cell_type": "code",
   "execution_count": 29,
   "metadata": {},
   "outputs": [],
   "source": [
    "from sklearn.metrics.pairwise import euclidean_distances\n",
    " \n",
    "def most_similar(x, Z, top_n=5):\n",
    "    dists = euclidean_distances(x.reshape(1, -1), Z)\n",
    "    pairs = enumerate(dists[0])\n",
    "    most_similar = sorted(pairs, key=lambda item: item[1])[:top_n]\n",
    "    return most_similar"
   ]
  },
  {
   "cell_type": "code",
   "execution_count": 30,
   "metadata": {},
   "outputs": [],
   "source": [
    "x = lda_model_sklearn.transform(vectorizer.transform([text]))"
   ]
  },
  {
   "cell_type": "code",
   "execution_count": 31,
   "metadata": {},
   "outputs": [
    {
     "name": "stdout",
     "output_type": "stream",
     "text": [
      "Republican elected officials, donors and strategists grappled uncomfortably on Wednesday with the inevitability of Donald J. Trump as their presidential nominee, an unexpectedly sudden denouement that left many in a state of political paralysis and others vowing to oppose the party’s new standard-bearer.While some called for unity, many Republican leaders refrained from falling in line behind Mr. Trump, with dozens avoiding inquiries about where they stood or saying they wanted Mr. Trump to detail his policies or tone down his language first. Others tied themselves in knots as they praised and criticized Mr. Trump in a single breath, or suggested that they could abide Mr. Trump but loathed his agenda.Senator Kelly Ayotte of New Hampshire, who is in a tough re-election race, signaled that she would “support” Mr. Trump but not “endorse” him, as a spokeswoman put it, a rhetorical contortion that other Republicans repeated privately. Representative Raúl R. Labrador of Idaho, a staunch cons\n",
      "---------------\n",
      "Donald J. Trump and Speaker Paul D. Ryan spoke by phone on Wednesday night, hours after reports circulated that Mr. Ryan, the highest-ranking elected Republican, was on the verge of endorsing the presumptive Republican presidential nominee.But the call was set up days ago, according to one person briefed on it who was not authorized to speak publicly. And aides to Mr. Ryan made clear that he would not offer an endorsement in the call.Any such anticipation is “absolutely untrue,” said Zack Roday, a spokesman for Mr. Ryan’s political operations. “The purpose of the call tonight is for the two of them to continue their conversation about unifying the party. We never gave any indication that the call was about an endorsement.”A spokeswoman for Mr. Trump did not respond to an email seeking comment. News of the call was first reported by Bloomberg Politics. Earlier Wednesday, Bloomberg Politics and ABC News, citing sources close to the Trump campaign, said that Mr. Ryan was going to endorse \n",
      "---------------\n",
      "WASHINGTON — In an extraordinary rebuke of his party’s presumed nominee, Speaker Paul D. Ryan, the nation’s highest-ranking elected Republican, said Thursday that he was “not ready” to endorse Donald J. Trump for president.Mr. Ryan’s announcement represented a split among Republicans not seen in at least a half century, and it came only two days after Mr. Trump said he would unify the party after essentially clinching the nomination with his victory in the Indiana primary.As the chairman of the Republican National Convention, Mr. Ryan has repeatedly said he would support his party’s nominee as Republicans tried to regain the White House and solidify control of Congress.But the combination of Mr. Trump’s at times outrageous remarks — insulting women, Hispanics and Muslims — and his broad rejection of many core Republican policies proved too toxic a brew for Mr. Ryan as he defended his majority in the House, the reputation of his party and his own viability.Within an hour, Mr. Trump offe\n",
      "---------------\n",
      "WASHINGTON — Speaker Paul D. Ryan delivered his party’s weekly address on Friday — a rarity — giving a peek at the House Republican agenda that he and his colleagues will begin to roll out next week.That agenda was originally supposed to counter Donald J. Trump, whose views often stand apart from the party’s policy traditions. But now that Mr. Ryan has officially endorsed his party’s presumptive nominee, he says that his policy ideas will magically become Mr. Trump’s, and that the nominee will help advertise them this fall and eventually promulgate them from the White House.The six policy task forces in the House will release their prescriptions one at a time over a course of Fridays this summer, under the broad title “A Better Way.” But perhaps it should be called “A Bedeviled Way.”Despite Mr. Ryan’s efforts to take some control, however, here are four reasons Mr. Trump, not the House speaker, is far more likely to set the Republican agenda this summer at his party’s convention and in\n",
      "---------------\n",
      "WASHINGTON — Donald J. Trump and Speaker Paul D. Ryan appeared to take half a step back from their political standoff on Thursday, as Mr. Trump toured Washington for a swirl of meetings with Republican lawmakers concerned about the direction of his presidential campaign.In public, Mr. Ryan praised Mr. Trump, the presumptive Republican presidential nominee, as “warm and genuine,” and declared that a process of reconciliation was underway. Behind closed doors, Mr. Trump pulled back his threat to remove Mr. Ryan as chairman of the Republican National Convention, and offered to help elect the party’s candidates running for the House and the Senate.Significant fissures remain between Mr. Trump and Republican congressional leaders: Mr. Ryan reminded the candidate privately that many voters opposed him in the primaries, and in a separate meeting with senators, several lawmakers urged Mr. Trump to modulate his tone on immigration.But the abrupt shift in posture toward Mr. Trump, especially fro\n",
      "---------------\n"
     ]
    }
   ],
   "source": [
    "similar = most_similar(x, lda_decomposition)\n",
    "for document_id, similarity in similar[:5]:\n",
    "    print(data[document_id][:1000])\n",
    "    print('---------------')"
   ]
  },
  {
   "cell_type": "markdown",
   "metadata": {},
   "source": [
    "# И наконец попробуем имплементацию LDA в любимом vowpal vabbit"
   ]
  },
  {
   "cell_type": "markdown",
   "metadata": {},
   "source": [
    "#### Сначала надо подготовить данные для vw\n",
    "он ожидает данные без меток и без namespace'ов в формате\n",
    "\n",
    "```| word_id:word_cnt word_id:word_cnt word_id:word_cnt word_id:word_cnt ... word_id:word_cnt ```\n",
    "\n",
    "```| word_id:word_cnt word_id:word_cnt word_id:word_cnt word_id:word_cnt ... word_id:word_cnt ```\n",
    "\n",
    "```| word_id:word_cnt word_id:word_cnt word_id:word_cnt word_id:word_cnt ... word_id:word_cnt ```"
   ]
  },
  {
   "cell_type": "markdown",
   "metadata": {},
   "source": [
    "Воспользуемся уже подготовленным корпусом corpus"
   ]
  },
  {
   "cell_type": "code",
   "execution_count": 96,
   "metadata": {},
   "outputs": [],
   "source": [
    "with open(\"data/nytimes.vw_input\", \"w\") as f_out:\n",
    "    for doc in corpus:\n",
    "        line = \"| \"\n",
    "        for idx, cnt in doc:\n",
    "            line += str(idx) + \":\" +  str(cnt) + \" \"\n",
    "        f_out.write(line + \"\\n\")"
   ]
  },
  {
   "cell_type": "code",
   "execution_count": 107,
   "metadata": {},
   "outputs": [
    {
     "name": "stdout",
     "output_type": "stream",
     "text": [
      "    8883 data/nytimes.vw_input\r\n"
     ]
    }
   ],
   "source": [
    "!wc -l data/nytimes.vw_input"
   ]
  },
  {
   "cell_type": "markdown",
   "metadata": {},
   "source": [
    "## Запустим обучение\n",
    "\n",
    "Параметры:\n",
    "- -d data/nytimes.vw_input - путь к подготовленным данным\n",
    "- --lda 50 - количество тем\n",
    "- --lda_alpha 0.01 - параметр распределения Дирихле для матрицы \"документы-темы\"\n",
    "- --lda_rho 0.01 - - параметр распределения Дирихле для матрицы \"темы-слова\"\n",
    "- -c - кэширование, так как требуется выполнить несколько проходов по выборке\n",
    "- --passes 10 - колдичество проходов по выборке (эпох)\n",
    "- --readable_model topics.dat - сохранение модели в формате word"
   ]
  },
  {
   "cell_type": "code",
   "execution_count": 112,
   "metadata": {},
   "outputs": [
    {
     "name": "stdout",
     "output_type": "stream",
     "text": [
      "Num weight bits = 18\n",
      "learning rate = 0.5\n",
      "initial_t = 1\n",
      "power_t = 0.5\n",
      "decay_learning_rate = 1\n",
      "creating cache_file = data/nytimes.vw_input.cache\n",
      "Reading datafile = data/nytimes.vw_input\n",
      "num sources = 1\n",
      "average  since         example        example  current  current  current\n",
      "loss     last          counter         weight    label  predict features\n",
      "14.477282 14.477282            1            1.0     none        0      226\n",
      "14.798454 15.119626            2            2.0     none        0      180\n",
      "15.233010 15.667566            4            4.0     none        0      205\n",
      "15.854410 16.475811            8            8.0     none        0      304\n",
      "16.693473 17.532535           16           16.0     none        0      404\n",
      "16.359606 16.025740           32           32.0     none        0       99\n",
      "15.482548 14.605489           64           64.0     none        0      180\n",
      "14.343494 13.204440          128          128.0     none        0      215\n",
      "13.413153 12.482813          256          256.0     none        0      190\n",
      "12.710091 12.007028          512          512.0     none        0      418\n",
      "12.021203 11.332316         1024         1024.0     none        0      149\n",
      "11.605979 11.190754         2048         2048.0     none        0       82\n",
      "11.272375 10.938771         4096         4096.0     none        0      168\n",
      "0.000000 0.000000         8192         8192.0     none        0      380 h\n",
      "0.000000 0.000000        16384        16384.0     none        0       57 h\n",
      "0.000000 0.000000        32768        32768.0     none        0      385 h\n",
      "0.000000 0.000000        65536        65536.0     none        0      298 h\n",
      "\n",
      "finished run\n",
      "number of examples per pass = 7995\n",
      "passes used = 10\n",
      "weighted example sum = 79950.000000\n",
      "weighted label sum = 0.000000\n",
      "average loss = 0.000000 h\n",
      "total feature number = 19970720\n"
     ]
    }
   ],
   "source": [
    "!vw -d data/nytimes.vw_input --lda 50 --lda_alpha 0.01 --lda_rho 0.01 -c -k --passes 10 --initial_t 1 --readable_model data/topics.dat"
   ]
  },
  {
   "cell_type": "markdown",
   "metadata": {},
   "source": [
    "### Посмотрим на интерпретируемость тем"
   ]
  },
  {
   "cell_type": "code",
   "execution_count": 113,
   "metadata": {},
   "outputs": [],
   "source": [
    "def top_indices(x, n):\n",
    "    xs = sorted(x, reverse=True)\n",
    "    indices = []\n",
    "    for e in xs[:n]:\n",
    "        indices.append(x.index(e))\n",
    "    return indices"
   ]
  },
  {
   "cell_type": "code",
   "execution_count": 132,
   "metadata": {},
   "outputs": [],
   "source": [
    "num_topics = 50\n",
    "num_top_words = 20\n",
    "\n",
    "word_topic_distr = [[] for w in range(num_topics)]\n",
    "with open(\"data/topics.dat\") as f:\n",
    "    for i, line in enumerate(f):\n",
    "        if i < 10:\n",
    "            continue\n",
    "        w = line.strip().split(' ')[1:]\n",
    "        \n",
    "        for t in range(num_topics):\n",
    "            word_topic_distr[t].append(float(w[t]))"
   ]
  },
  {
   "cell_type": "code",
   "execution_count": 133,
   "metadata": {},
   "outputs": [
    {
     "name": "stdout",
     "output_type": "stream",
     "text": [
      "Topic-1\n",
      "companies, billion, financial, million, firm, industry, revenue, investors, capital, fund, tax, costs, investment, shares, average, management, debt, venture, earnings, income, \n",
      "----------------------------------------------------------------------------------------------------\n",
      "\n",
      "Topic-2\n",
      "shot, age, movie, shooting, shots, open, broad, song, completed, champion, connection, closing, items, receiving, harvard, managers, alexander, label, jordan, achieved, \n",
      "----------------------------------------------------------------------------------------------------\n",
      "\n",
      "Topic-3\n",
      "race, runs, restaurant, innings, alex, sixth, expectations, veteran, birth, stuff, pitched, dining, zika, plate, menu, veterans, falls, truly, sweep, virus, \n",
      "----------------------------------------------------------------------------------------------------\n",
      "\n",
      "Topic-4\n",
      "percent, oil, brooklyn, quarter, energy, prices, nation, housing, results, homes, cents, data, markets, sale, survey, heavily, low, points, compared, buyers, \n",
      "----------------------------------------------------------------------------------------------------\n",
      "\n",
      "Topic-5\n",
      "company, series, price, fell, business, feet, talks, volkswagen, software, king, estimated, buy, cost, extra, sell, offer, managing, product, contracts, wave, \n",
      "----------------------------------------------------------------------------------------------------\n",
      "\n",
      "Topic-6\n",
      "services, finally, houses, providing, card, spaces, reliable, haq, rosenblatt, quarantine, maharashtra, htc, mastercard, cormier, chesky, yury, bedbugs, allowable, unitedhealth, zayat, \n",
      "----------------------------------------------------------------------------------------------------\n",
      "\n",
      "Topic-7\n",
      "use, took, products, met, beat, victims, places, natural, simply, coming, career, eventually, wrong, knows, red, brown, manager, ultimately, seventh, author, \n",
      "----------------------------------------------------------------------------------------------------\n",
      "\n",
      "Topic-8\n",
      "chief, times, month, york, week, news, use, current, private, service, twitter, personal, wrote, post, raise, email, democrat, issues, exchange, coming, \n",
      "----------------------------------------------------------------------------------------------------\n",
      "\n",
      "Topic-9\n",
      "law, house, effect, episode, council, legislation, creating, constitutional, arizona, australia, ban, baltimore, secure, matter, restrictions, session, legislative, legislature, crowds, expense, \n",
      "----------------------------------------------------------------------------------------------------\n",
      "\n",
      "Topic-10\n",
      "rights, manhattan, church, waiting, agents, brief, fly, heights, famous, roman, disappointed, edition, franklin, alarm, ousted, routinely, serbian, diocese, goodstein, rectory, \n",
      "----------------------------------------------------------------------------------------------------\n",
      "\n",
      "Topic-11\n",
      "television, posted, generation, gun, stanley, publicly, briefing, videos, content, feed, factor, tends, bloomberg, instant, outlets, labeled, mitch, firearms, detergents, smegielski, \n",
      "----------------------------------------------------------------------------------------------------\n",
      "\n",
      "Topic-12\n",
      "world, american, line, added, living, winning, moment, sunday, project, called, international, gay, head, continues, hill, held, kingdom, war, sea, weekend, \n",
      "----------------------------------------------------------------------------------------------------\n",
      "\n",
      "Topic-13\n",
      "father, job, jews, dress, anxiety, roles, embraced, rebecca, ashkenazi, haq, skullcap, schweitzer, zayat, wiretaps, lapine, kovacs, minimized, multiculturalism, pvh, salonen, \n",
      "----------------------------------------------------------------------------------------------------\n",
      "\n",
      "Topic-14\n",
      "united, states, government, president, country, number, administration, agency, tuesday, north, global, according, wall, nations, including, countries, meeting, south, efforts, foreign, \n",
      "----------------------------------------------------------------------------------------------------\n",
      "\n",
      "Topic-15\n",
      "final, struck, mind, van, finish, walking, judges, australian, excitement, spotted, janeiro, clayton, kirkman, futterman, kuerten, fnac, celta, haq, tsarnaev, neely, \n",
      "----------------------------------------------------------------------------------------------------\n",
      "\n",
      "Topic-16\n",
      "trump, campaign, national, republican, general, policy, cruz, voters, union, senate, democratic, vote, support, senator, election, primary, economic, effort, republicans, congress, \n",
      "----------------------------------------------------------------------------------------------------\n",
      "\n",
      "Topic-17\n",
      "second, lead, thing, rose, los, past, angeles, monday, minutes, despite, chance, national, times, russia, club, goals, field, allowed, grand, gave, \n",
      "----------------------------------------------------------------------------------------------------\n",
      "\n",
      "Topic-18\n",
      "calling, competition, finished, handle, olympic, peak, operated, rushed, trials, pursuit, grateful, swim, reigning, medal, hug, disappointment, meters, lausanne, antidoping, sochi, \n",
      "----------------------------------------------------------------------------------------------------\n",
      "\n",
      "Topic-19\n",
      "state, say, group, officials, health, american, monday, case, department, statement, led, called, took, members, report, history, added, district, information, death, \n",
      "----------------------------------------------------------------------------------------------------\n",
      "\n",
      "Topic-20\n",
      "city, york, street, center, park, area, mayor, residents, water, space, local, artists, neighborhood, gallery, village, culture, opened, blasio, close, modern, \n",
      "----------------------------------------------------------------------------------------------------\n",
      "\n",
      "Topic-21\n",
      "special, review, followed, press, rule, amid, adviser, internal, defense, transfer, dallas, papers, combination, affairs, henry, diplomatic, detained, anonymity, outcomes, haq, \n",
      "----------------------------------------------------------------------------------------------------\n",
      "\n",
      "Topic-22\n",
      "european, europe, london, british, britain, french, germany, prime, german, brussels, greece, italy, england, bloc, cameron, democracy, exit, ordinary, parliament, settle, \n",
      "----------------------------------------------------------------------------------------------------\n",
      "\n",
      "Topic-23\n",
      "military, government, security, saudi, officials, war, attacks, islamic, arabia, forces, minister, syria, killed, attack, russian, terrorist, capital, israeli, aid, agencies, \n",
      "----------------------------------------------------------------------------------------------------\n",
      "\n",
      "Topic-24\n",
      "important, doesn, makes, search, talk, internet, digital, number, readers, harder, promote, realized, emails, platforms, subjects, politically, noah, insider, page, headlines, \n",
      "----------------------------------------------------------------------------------------------------\n",
      "\n",
      "Topic-25\n",
      "million, executive, sold, commission, corporate, double, changed, shift, toronto, ending, models, auction, total, appointed, passage, distribution, worldwide, bottle, lined, swimming, \n",
      "----------------------------------------------------------------------------------------------------\n",
      "\n",
      "Topic-26\n",
      "obama, clinton, sanders, president, hillary, bernie, presidential, presidency, reagan, donald, secretary, equally, clintons, devine, pac, battleground, independents, barney, mrs, aligns, \n",
      "----------------------------------------------------------------------------------------------------\n",
      "\n",
      "Topic-27\n",
      "ahead, fifth, coverage, smaller, setting, striking, atlanta, wing, acquired, effects, originally, injuries, abc, steven, dean, approached, harvey, buffalo, qualified, normally, \n",
      "----------------------------------------------------------------------------------------------------\n",
      "\n",
      "Topic-28\n",
      "market, interview, business, facebook, ago, employees, share, remain, close, apple, center, analyst, social, computer, longtime, complaints, previously, accounts, combined, potential, \n",
      "----------------------------------------------------------------------------------------------------\n",
      "\n",
      "Topic-29\n",
      "children, star, ice, hall, novel, pool, posed, relied, afterward, requested, summit, roster, novels, mcinerney, afropunk, haq, denk, storeroom, chinn, easels, \n",
      "----------------------------------------------------------------------------------------------------\n",
      "\n",
      "Topic-30\n",
      "public, women, know, school, university, work, students, kind, college, director, york, senior, experience, probably, son, idea, high, group, parents, questions, \n",
      "----------------------------------------------------------------------------------------------------\n",
      "\n",
      "Topic-31\n",
      "just, think, don, really, work, good, going, things, best, way, got, want, lot, didn, make, say, prince, thought, wanted, doing, \n",
      "----------------------------------------------------------------------------------------------------\n",
      "\n",
      "Topic-32\n",
      "pay, bank, growth, customers, rate, banks, rates, consumers, lose, increase, consumer, increases, retail, barclays, loan, loans, customer, reserve, economists, financially, \n",
      "----------------------------------------------------------------------------------------------------\n",
      "\n",
      "Topic-33\n",
      "able, staff, dollars, credit, executives, massachusetts, produce, races, truth, competitive, contract, banking, authors, struggled, chances, offense, pitching, stress, negotiate, priority, \n",
      "----------------------------------------------------------------------------------------------------\n",
      "\n",
      "Topic-34\n",
      "deal, agreement, network, delivered, transaction, renewed, nelson, jazeera, juba, scuttle, chancery, marchetti, anand, dji, bremer, objectors, molo, foolhardy, caputo, yong, \n",
      "----------------------------------------------------------------------------------------------------\n",
      "\n",
      "Topic-35\n",
      "love, feel, ago, green, store, square, businesses, devices, comes, sex, bar, device, original, unlikely, afternoon, traditional, street, speak, garden, typically, \n",
      "----------------------------------------------------------------------------------------------------\n",
      "\n",
      "Topic-36\n",
      "fans, paris, france, smith, soccer, seconds, africa, driving, winner, football, derby, colt, african, madrid, baffert, spanish, spain, ukraine, cup, churchill, \n",
      "----------------------------------------------------------------------------------------------------\n",
      "\n",
      "Topic-37\n",
      "party, convention, william, labor, kim, formal, cabinet, equal, mandate, hunt, marxist, kickback, bronstein, chairwomen, ren, bade, multiparty, subsumed, maharashtra, dossiers, \n",
      "----------------------------------------------------------------------------------------------------\n",
      "\n",
      "Topic-38\n",
      "complex, queens, sitting, tom, guard, visited, brazilian, teenager, busy, rio, spots, hometown, influential, wanting, staged, ken, luiz, kuerten, lonina, rayon, \n",
      "----------------------------------------------------------------------------------------------------\n",
      "\n",
      "Topic-39\n",
      "museum, mother, performance, brought, grew, selling, stores, leg, stone, disclosed, olympics, diamond, forever, stones, haq, dependents, nouvel, lakota, kuerten, chocolat, \n",
      "----------------------------------------------------------------------------------------------------\n",
      "\n",
      "Topic-40\n",
      "game, team, season, players, games, points, scored, league, home, play, goal, hit, yankees, coach, stock, win, player, playoff, run, left, \n",
      "----------------------------------------------------------------------------------------------------\n",
      "\n",
      "Topic-41\n",
      "art, music, fashion, artist, avenue, design, album, dance, collection, creative, guests, royal, buying, designer, open, arts, studio, beyoncé, exhibition, ballet, \n",
      "----------------------------------------------------------------------------------------------------\n",
      "\n",
      "Topic-42\n",
      "police, men, officers, saturday, food, hours, dogs, man, person, wine, crowd, stopped, break, called, inside, events, closed, watch, week, dinner, \n",
      "----------------------------------------------------------------------------------------------------\n",
      "\n",
      "Topic-43\n",
      "china, chinese, hits, kong, hong, province, communist, defending, proud, resigned, overseas, shanghai, notably, exploring, zhang, huang, han, wang, taiwan, autonomous, \n",
      "----------------------------------------------------------------------------------------------------\n",
      "\n",
      "Topic-44\n",
      "did, long, told, make, political, day, including, just, home, came, life, way, night, place, used, later, days, family, look, end, \n",
      "----------------------------------------------------------------------------------------------------\n",
      "\n",
      "Topic-45\n",
      "google, technology, tech, word, amazon, projects, resources, options, answered, youtube, alphabet, pcs, headsets, nokia, siri, netscape, copyrights, microsystems, motorola, linux, \n",
      "----------------------------------------------------------------------------------------------------\n",
      "\n",
      "Topic-46\n",
      "court, justice, question, case, supreme, available, subject, decision, roberts, details, circuit, breyer, limit, wrote, plaintiffs, species, practice, arguments, justices, regarding, \n",
      "----------------------------------------------------------------------------------------------------\n",
      "\n",
      "Topic-47\n",
      "won, article, title, happy, produced, misstated, capitals, correction, editions, incorrectly, painful, ultimate, suggestions, misidentified, warrant, coal, errors, obituary, reflection, dissatisfied, \n",
      "----------------------------------------------------------------------------------------------------\n",
      "\n",
      "Topic-48\n",
      "decade, regular, stephen, daniel, knowledge, web, hudson, guest, permitted, fastest, vipers, coucou, kirkman, mapplethorpe, meteorite, penning, unitedhealth, videographers, accompanies, accompanies, \n",
      "----------------------------------------------------------------------------------------------------\n",
      "\n",
      "Topic-49\n",
      "federal, reported, money, according, legal, drug, sales, lawyer, office, declined, settlement, chairman, filed, comment, drugs, associated, documents, requests, payment, payments, \n",
      "----------------------------------------------------------------------------------------------------\n",
      "\n",
      "Topic-50\n",
      "earlier, online, san, data, media, provide, receive, mobile, francisco, phone, app, users, mike, ticket, producers, privacy, events, traditional, iphone, context, \n",
      "----------------------------------------------------------------------------------------------------\n",
      "\n"
     ]
    }
   ],
   "source": [
    "topics_words = []\n",
    "for t in range(num_topics):\n",
    "    print('Topic-'+str(t+1))\n",
    "    top_words = [dictionary.id2token[i] for i in top_indices(word_topic_distr[t], num_top_words)]\n",
    "    for word in top_words:\n",
    "        print(word,  end=', ')\n",
    "    print('\\n' + '-'*100 + '\\n')"
   ]
  },
  {
   "cell_type": "code",
   "execution_count": null,
   "metadata": {},
   "outputs": [],
   "source": []
  }
 ],
 "metadata": {
  "kernelspec": {
   "display_name": "Python 3",
   "language": "python",
   "name": "python3"
  },
  "language_info": {
   "codemirror_mode": {
    "name": "ipython",
    "version": 3
   },
   "file_extension": ".py",
   "mimetype": "text/x-python",
   "name": "python",
   "nbconvert_exporter": "python",
   "pygments_lexer": "ipython3",
   "version": "3.6.5"
  }
 },
 "nbformat": 4,
 "nbformat_minor": 2
}
