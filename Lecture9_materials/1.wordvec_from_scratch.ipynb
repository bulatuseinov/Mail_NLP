{
 "cells": [
  {
   "cell_type": "markdown",
   "metadata": {},
   "source": [
    "# Task 1. Word2vec step by step"
   ]
  },
  {
   "cell_type": "code",
   "execution_count": null,
   "metadata": {},
   "outputs": [],
   "source": [
    "from collections import defaultdict\n",
    "import numpy as np\n",
    "import matplotlib.pyplot as plt\n",
    "%matplotlib inline"
   ]
  },
  {
   "cell_type": "markdown",
   "metadata": {},
   "source": [
    "Определим софтмакс. \n",
    "\n",
    "Заметим, что мы вычитаем максимальное значение массива для стабильности"
   ]
  },
  {
   "cell_type": "code",
   "execution_count": null,
   "metadata": {},
   "outputs": [],
   "source": [
    "def softmax(x):\n",
    "    e_x = np.exp(x - np.max(x)) # for numerical stability\n",
    "    return e_x / e_x.sum(axis=0)"
   ]
  },
  {
   "cell_type": "markdown",
   "metadata": {},
   "source": [
    "##  Опишем класс word2vec"
   ]
  },
  {
   "cell_type": "code",
   "execution_count": null,
   "metadata": {},
   "outputs": [],
   "source": [
    "class word2vec():\n",
    "    def __init__ (self, mode='skip-gram', emb_dim=5, window_size=2, lr=0.01, n_epochs=1000):\n",
    "        self.emb_dim = emb_dim\n",
    "        self.window_size = window_size\n",
    "        self.lr = lr\n",
    "        self.epochs = n_epochs\n",
    "    \n",
    "    # Create one-hot-encoding vectors\n",
    "    def word2onehot(self, word):\n",
    "        ohe = [0 for i in range(0, self.v_count)]  # zero init\n",
    "        index = self.word2index[word]\n",
    "        ohe[index] = 1  # one hot\n",
    "        return ohe\n",
    "    \n",
    "    \n",
    "    # function for generating training data for skipgram model\n",
    "    def generate_skipgram_training_data(self, corpus):\n",
    "\n",
    "        self.vocab = [word for row in corpus for word in row ]\n",
    "        self.vocab = set(self.vocab)\n",
    "\n",
    "        self.v_count = len(self.vocab)  # dictionary size == size of one-hot vectors\n",
    "\n",
    "        # lookup dicts\n",
    "        self.word2index = dict((word, i) for i, word in enumerate(self.vocab))\n",
    "        self.index2word = dict((i, word) for i, word in enumerate(self.vocab))\n",
    "\n",
    "        training_data = []\n",
    "        # for each sentence\n",
    "        for sentence in corpus:\n",
    "            sent_len = len(sentence)\n",
    "\n",
    "            # iterate for every word\n",
    "            for i, word in enumerate(sentence):\n",
    "\n",
    "                w_input = self.word2onehot(word)\n",
    "\n",
    "                # create contexts\n",
    "                w_context = []\n",
    "                for j in range(i-self.window_size, i+self.window_size+1):\n",
    "                    if j!=i and j>=0 and j<=sent_len-1 :\n",
    "                        w_context.append(self.word2onehot(sentence[j]))\n",
    "\n",
    "                training_data.append([w_input, w_context])\n",
    "\n",
    "        return np.array(training_data)\n",
    "    \n",
    "    #Forward pass\n",
    "    def forward_pass(self, x):\n",
    "        h = # DO IT \n",
    "        u = # DO IT \n",
    "        y = # DO IT \n",
    "        return y, h, u\n",
    "    \n",
    "    # Backpropagation\n",
    "    def backprop(self, err, h, x):        \n",
    "        dl_dw2 = # DO IT \n",
    "        dl_dw1 = # DO IT \n",
    "\n",
    "        # Update weights \n",
    "        self.w1 = self.w1 - (self.lr * dl_dw1)\n",
    "        self.w2 = self.w2 - (self.lr * dl_dw2)\n",
    "    \n",
    "    # TRAIN W2V model\n",
    "    def train(self, training_data):\n",
    "        \n",
    "        #initialize matrices\n",
    "        self.w1 = np.random.uniform(-0.8, 0.8, (self.v_count, self.emb_dim))     # context matrix\n",
    "        self.w2 = np.random.uniform(-0.8, 0.8, (self.emb_dim, self.v_count))     # embedding matrix\n",
    "        self.losses = []\n",
    "        \n",
    "        # CYCLE THROUGH EACH EPOCH\n",
    "        for i in range(0, self.epochs):\n",
    "\n",
    "            loss = 0\n",
    "\n",
    "            # for each epochs\n",
    "            for w_input, w_context in training_data:\n",
    "\n",
    "                w_context = np.array(w_context)\n",
    "                # forward pass\n",
    "                y_pred, h, u = self.forward_pass(w_input)\n",
    "                \n",
    "                # calculate summary error for context \n",
    "                sum_context_error = np.sum([np.subtract(y_pred, word) for word in w_context], axis=0)\n",
    "\n",
    "                # backprop\n",
    "                self.backprop(sum_context_error, h, w_input)\n",
    "                loss += -np.sum([np.log(y_pred).dot(word) for word in w_context], axis=0)\n",
    "            \n",
    "            loss /= len(training_data) # average loss\n",
    "            self.losses.append(loss)\n",
    "    \n",
    "    def plot_loss_curve(self):\n",
    "        plt.plot(range(0,self.epochs), self.losses)\n",
    "        \n",
    "    # input a word, returns a vector (if available)\n",
    "    def word_vec(self, word):\n",
    "        w_index = self.word2index[word]\n",
    "        v_w = self.w1[w_index] + self.w2[:,w_index]  # sum up two embeddings      \n",
    "        return v_w\n",
    "    \n",
    "    # input a vector, returns nearest word(s)\n",
    "    def vec_sim(self, input_vec, top_n):\n",
    "\n",
    "        word_sim = {}\n",
    "        for word in self.vocab:\n",
    "            wv = self.word_vec(word)  # get vector for word from vocab\n",
    "            dot_prod = np.dot(input_vec, wv)\n",
    "            denominator = np.linalg.norm(input_vec) * np.linalg.norm(wv)\n",
    "            cos_sim = dot_prod / denominator\n",
    "\n",
    "            word_sim[word] = cos_sim\n",
    "        \n",
    "        words_sorted = sorted(word_sim.items(), key=lambda x: x[1], reverse=True)\n",
    "\n",
    "        for word, sim in words_sorted[:top_n]:\n",
    "            print (word, sim)\n"
   ]
  },
  {
   "cell_type": "markdown",
   "metadata": {},
   "source": [
    "Если возникнут затруднения, то где-то в этой аудитории есть примеры решений ... "
   ]
  },
  {
   "cell_type": "markdown",
   "metadata": {},
   "source": [
    "<div class=\"img-with-text\">\n",
    "    <img src=\"https://g1-addtext.ft-uc.com/MjAxODEwMTQ/addtext_com_MTcxMzQwMTIyMDY.jpg\" alt=\"\"\"\n",
    "        \n",
    "    #Forward pass\n",
    "    def forward_pass(self, x):\n",
    "        h = np.dot(self.w1.T, x)\n",
    "        u = np.dot(self.w2.T, h)\n",
    "        y = softmax(u)\n",
    "        return y, h, u\n",
    "    \n",
    "    # Backpropagation\n",
    "    def backprop(self, err, h, x):        \n",
    "        dl_dw2 = np.outer(h, err)  \n",
    "        dl_dw1 = np.outer(x, np.dot(self.w2, err.T))\n",
    "        # Update weights \n",
    "        self.w1 = self.w1 - (self.lr * dl_dw1)\n",
    "        self.w2 = self.w2 - (self.lr * dl_dw2)\n",
    "    \n",
    "    \"\"\" />\n",
    "</div>"
   ]
  },
  {
   "cell_type": "markdown",
   "metadata": {},
   "source": [
    "## Посмотрим, что в итоге получилось на нашем любимом корпусе"
   ]
  },
  {
   "cell_type": "code",
   "execution_count": null,
   "metadata": {},
   "outputs": [],
   "source": [
    "corpus = ['о боже мама мама я схожу с ума',\n",
    "          'ее улыбка мама кругом голова',\n",
    "          'о боже мама мама пьяный без вина',\n",
    "          'ее улыбка мама самая самая'\n",
    "         ]\n",
    "corpus = [phrase.split() for phrase in corpus]\n",
    "\n",
    "# initialize w2v model\n",
    "w2v = word2vec()"
   ]
  },
  {
   "cell_type": "code",
   "execution_count": null,
   "metadata": {},
   "outputs": [],
   "source": [
    "# generate training data\n",
    "training_data = w2v.generate_skipgram_training_data(corpus)"
   ]
  },
  {
   "cell_type": "code",
   "execution_count": null,
   "metadata": {},
   "outputs": [],
   "source": [
    "w2v.vocab"
   ]
  },
  {
   "cell_type": "code",
   "execution_count": null,
   "metadata": {},
   "outputs": [],
   "source": [
    "w2v.word2index"
   ]
  },
  {
   "cell_type": "code",
   "execution_count": null,
   "metadata": {},
   "outputs": [],
   "source": [
    "w2v.index2word"
   ]
  },
  {
   "cell_type": "code",
   "execution_count": null,
   "metadata": {},
   "outputs": [],
   "source": [
    "training_data[0][0]  # это центральное слово -  input one-hot vector"
   ]
  },
  {
   "cell_type": "code",
   "execution_count": null,
   "metadata": {},
   "outputs": [],
   "source": [
    "training_data[0][1] # это контекстные слова -  target one-hot vectors"
   ]
  },
  {
   "cell_type": "code",
   "execution_count": null,
   "metadata": {},
   "outputs": [],
   "source": []
  },
  {
   "cell_type": "code",
   "execution_count": null,
   "metadata": {},
   "outputs": [],
   "source": [
    "%%time\n",
    "# train word2vec model\n",
    "w2v.train(training_data)"
   ]
  },
  {
   "cell_type": "code",
   "execution_count": null,
   "metadata": {},
   "outputs": [],
   "source": [
    "w2v.plot_loss_curve()"
   ]
  },
  {
   "cell_type": "code",
   "execution_count": null,
   "metadata": {},
   "outputs": [],
   "source": [
    "vec = w2v.word_vec('самая')\n",
    "vec"
   ]
  },
  {
   "cell_type": "code",
   "execution_count": null,
   "metadata": {
    "scrolled": true
   },
   "outputs": [],
   "source": [
    "w2v.vec_sim(vec, 3)"
   ]
  },
  {
   "cell_type": "code",
   "execution_count": null,
   "metadata": {},
   "outputs": [],
   "source": []
  }
 ],
 "metadata": {
  "kernelspec": {
   "display_name": "Python 3",
   "language": "python",
   "name": "python3"
  },
  "language_info": {
   "codemirror_mode": {
    "name": "ipython",
    "version": 3
   },
   "file_extension": ".py",
   "mimetype": "text/x-python",
   "name": "python",
   "nbconvert_exporter": "python",
   "pygments_lexer": "ipython3",
   "version": "3.6.5"
  }
 },
 "nbformat": 4,
 "nbformat_minor": 2
}
