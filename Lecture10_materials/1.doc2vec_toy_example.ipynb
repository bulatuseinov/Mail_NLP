{
 "cells": [
  {
   "cell_type": "markdown",
   "metadata": {},
   "source": [
    "# Игрушечный пример c Doc2Vec"
   ]
  },
  {
   "cell_type": "code",
   "execution_count": 2,
   "metadata": {},
   "outputs": [],
   "source": [
    "#Import all the dependencies\n",
    "from gensim.models.doc2vec import Doc2Vec, TaggedDocument"
   ]
  },
  {
   "cell_type": "markdown",
   "metadata": {},
   "source": [
    "Подготовим данные для модели "
   ]
  },
  {
   "cell_type": "code",
   "execution_count": 3,
   "metadata": {},
   "outputs": [],
   "source": [
    "data = [\"о боже мама мама я схожу с ума\",\n",
    "        \"ее улыбка мама кругом голова\",\n",
    "        \"о боже мама мама пьяный без вина\",\n",
    "        \"ее улыбка мама самая самая\"]\n",
    "\n",
    "tagged_data = [TaggedDocument(words=doc.split(), tags=[str(i)]) for i, doc in enumerate(data)]"
   ]
  },
  {
   "cell_type": "markdown",
   "metadata": {},
   "source": [
    "Запустим обучение модели"
   ]
  },
  {
   "cell_type": "code",
   "execution_count": 4,
   "metadata": {},
   "outputs": [
    {
     "name": "stdout",
     "output_type": "stream",
     "text": [
      "Model Saved\n"
     ]
    }
   ],
   "source": [
    "max_epochs = 500\n",
    "vec_size = 50\n",
    "alpha = 0.025\n",
    "\n",
    "model = Doc2Vec(vector_size=vec_size,\n",
    "                alpha=alpha, \n",
    "                min_alpha=0.0025,\n",
    "                min_count=1,\n",
    "                dm=1, #distributed memory\n",
    "                batch_words=3)\n",
    "  \n",
    "model.build_vocab(tagged_data)\n",
    "\n",
    "model.train(tagged_data,\n",
    "            total_examples=model.corpus_count,\n",
    "             epochs=100)\n",
    "\n",
    "model.save(\"data/toy_example.model\")\n",
    "print(\"Model Saved\")"
   ]
  },
  {
   "cell_type": "markdown",
   "metadata": {},
   "source": [
    "Подгрузим сохраненную модель"
   ]
  },
  {
   "cell_type": "code",
   "execution_count": 5,
   "metadata": {},
   "outputs": [],
   "source": [
    "model= Doc2Vec.load(\"data/toy_example.model\")\n"
   ]
  },
  {
   "cell_type": "markdown",
   "metadata": {},
   "source": [
    "Помним, что мы можем получить вектора документов для документов, которых не было в обучающем наборе данных"
   ]
  },
  {
   "cell_type": "code",
   "execution_count": 6,
   "metadata": {},
   "outputs": [
    {
     "name": "stdout",
     "output_type": "stream",
     "text": [
      "V1_infer [-0.0006052  -0.00411644 -0.00760916 -0.00774209 -0.00299742 -0.00294198\n",
      " -0.00303703 -0.00679836 -0.00680752 -0.0091051   0.00396425  0.00577489\n",
      "  0.00726865  0.00566552  0.00898656  0.00246227  0.00981096 -0.00235877\n",
      "  0.00871125 -0.00772237 -0.00961127 -0.00143326 -0.00477002 -0.00984624\n",
      " -0.00523601 -0.00482051 -0.00095663 -0.00445041  0.0039597  -0.00226783\n",
      " -0.00044644 -0.00898307  0.00522064 -0.00171998 -0.00385676 -0.00795123\n",
      "  0.00886716  0.00274862 -0.00650466  0.00579514 -0.0005695  -0.00841892\n",
      " -0.00425961  0.00957261 -0.00191671 -0.00444362 -0.00807405  0.00308535\n",
      " -0.00825108  0.00517878]\n"
     ]
    }
   ],
   "source": [
    "test_doc = \"о боже мама мама\"\n",
    "test_data = test_doc.split()\n",
    "\n",
    "v1 = model.infer_vector(test_data)\n",
    "print(\"V1_infer\", v1)"
   ]
  },
  {
   "cell_type": "markdown",
   "metadata": {},
   "source": [
    "Можем искать похожие документы для какого-то конкретного"
   ]
  },
  {
   "cell_type": "code",
   "execution_count": 16,
   "metadata": {},
   "outputs": [
    {
     "name": "stdout",
     "output_type": "stream",
     "text": [
      "[('2', 0.25514668226242065), ('1', 0.04407528415322304), ('3', -0.041073836386203766)]\n"
     ]
    }
   ],
   "source": [
    "similar_doc = model.docvecs.most_similar('0')\n",
    "print(similar_doc)"
   ]
  }
 ],
 "metadata": {
  "kernelspec": {
   "display_name": "Python 3",
   "language": "python",
   "name": "python3"
  },
  "language_info": {
   "codemirror_mode": {
    "name": "ipython",
    "version": 3
   },
   "file_extension": ".py",
   "mimetype": "text/x-python",
   "name": "python",
   "nbconvert_exporter": "python",
   "pygments_lexer": "ipython3",
   "version": "3.6.5"
  }
 },
 "nbformat": 4,
 "nbformat_minor": 2
}
