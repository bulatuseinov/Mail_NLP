{
 "cells": [
  {
   "cell_type": "markdown",
   "metadata": {},
   "source": [
    "# Игрушечный пример c Doc2Vec"
   ]
  },
  {
   "cell_type": "code",
   "execution_count": null,
   "metadata": {},
   "outputs": [],
   "source": [
    "#Import all the dependencies\n",
    "from gensim.models.doc2vec import Doc2Vec, TaggedDocument"
   ]
  },
  {
   "cell_type": "markdown",
   "metadata": {},
   "source": [
    "Подготовим данные для модели "
   ]
  },
  {
   "cell_type": "code",
   "execution_count": 7,
   "metadata": {},
   "outputs": [],
   "source": [
    "data = [\"о боже мама мама я схожу с ума\",\n",
    "        \"ее улыбка мама кругом голова\",\n",
    "        \"о боже мама мама пьяный без вина\",\n",
    "        \"ее улыбка мама самая самая\"]\n",
    "\n",
    "tagged_data = [TaggedDocument(words=doc.split(), tags=[str(i)]) for i, doc in enumerate(data)]"
   ]
  },
  {
   "cell_type": "markdown",
   "metadata": {},
   "source": [
    "Запустим обучение модели"
   ]
  },
  {
   "cell_type": "code",
   "execution_count": 16,
   "metadata": {},
   "outputs": [
    {
     "name": "stdout",
     "output_type": "stream",
     "text": [
      "Model Saved\n"
     ]
    }
   ],
   "source": [
    "max_epochs = 500\n",
    "vec_size = 50\n",
    "alpha = 0.025\n",
    "\n",
    "model = Doc2Vec(vector_size=vec_size,\n",
    "                alpha=alpha, \n",
    "                min_alpha=0.0025,\n",
    "                min_count=1,\n",
    "                dm=1,\n",
    "                batch_words=3)\n",
    "  \n",
    "model.build_vocab(tagged_data)\n",
    "\n",
    "model.train(tagged_data,\n",
    "            total_examples=model.corpus_count,\n",
    "             epochs=100)\n",
    "\n",
    "model.save(\"data/toy_example.model\")\n",
    "print(\"Model Saved\")"
   ]
  },
  {
   "cell_type": "markdown",
   "metadata": {},
   "source": [
    "Подгрузим сохраненную модель"
   ]
  },
  {
   "cell_type": "code",
   "execution_count": 17,
   "metadata": {},
   "outputs": [],
   "source": [
    "model= Doc2Vec.load(\"data/toy_example.model\")\n"
   ]
  },
  {
   "cell_type": "markdown",
   "metadata": {},
   "source": [
    "Помним, что мы можем получить вектора документов для документов, которых не было в обучающем наборе данных"
   ]
  },
  {
   "cell_type": "code",
   "execution_count": 18,
   "metadata": {},
   "outputs": [
    {
     "name": "stdout",
     "output_type": "stream",
     "text": [
      "V1_infer [ 0.0009307  -0.0076377  -0.00048186  0.00336608 -0.01015535  0.00764154\n",
      " -0.00560752  0.00157916  0.005035   -0.00285869 -0.00477052  0.00218667\n",
      "  0.00155486 -0.00757325  0.00021898  0.0033591   0.0065001  -0.00743886\n",
      "  0.00087854  0.00348606  0.00051    -0.00601265 -0.00928879  0.00673568\n",
      " -0.00362018 -0.00810645 -0.00508029 -0.00522167  0.00445727 -0.0037006\n",
      "  0.00120584 -0.00672004  0.00843093 -0.00019203  0.00185854 -0.00721578\n",
      "  0.00066243  0.00421147 -0.00243037 -0.00813469  0.00556246 -0.00031615\n",
      "  0.00184623 -0.0067875  -0.00728604  0.00435752 -0.00897482 -0.00270453\n",
      " -0.00909575 -0.00022883]\n"
     ]
    }
   ],
   "source": [
    "test_doc = \"о боже мама мама\"\n",
    "test_data = test_doc.split()\n",
    "\n",
    "v1 = model.infer_vector(test_data)\n",
    "print(\"V1_infer\", v1)"
   ]
  },
  {
   "cell_type": "markdown",
   "metadata": {},
   "source": [
    "Можем искать похожие документы для какого-то конкретного"
   ]
  },
  {
   "cell_type": "code",
   "execution_count": 19,
   "metadata": {},
   "outputs": [
    {
     "name": "stdout",
     "output_type": "stream",
     "text": [
      "[('1', 0.49480390548706055), ('2', 0.36975252628326416), ('3', 0.26558026671409607)]\n"
     ]
    },
    {
     "name": "stderr",
     "output_type": "stream",
     "text": [
      "/usr/local/lib/python3.6/site-packages/gensim/matutils.py:737: FutureWarning: Conversion of the second argument of issubdtype from `int` to `np.signedinteger` is deprecated. In future, it will be treated as `np.int64 == np.dtype(int).type`.\n",
      "  if np.issubdtype(vec.dtype, np.int):\n"
     ]
    }
   ],
   "source": [
    "similar_doc = model.docvecs.most_similar('0')\n",
    "print(similar_doc)"
   ]
  },
  {
   "cell_type": "code",
   "execution_count": null,
   "metadata": {},
   "outputs": [],
   "source": []
  }
 ],
 "metadata": {
  "kernelspec": {
   "display_name": "Python 3",
   "language": "python",
   "name": "python3"
  },
  "language_info": {
   "codemirror_mode": {
    "name": "ipython",
    "version": 3
   },
   "file_extension": ".py",
   "mimetype": "text/x-python",
   "name": "python",
   "nbconvert_exporter": "python",
   "pygments_lexer": "ipython3",
   "version": "3.6.5"
  }
 },
 "nbformat": 4,
 "nbformat_minor": 2
}
