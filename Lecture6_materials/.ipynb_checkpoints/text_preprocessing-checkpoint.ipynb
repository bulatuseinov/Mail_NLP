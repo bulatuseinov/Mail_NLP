{
 "cells": [
  {
   "cell_type": "markdown",
   "metadata": {},
   "source": [
    "#  Лекция 1: Предобработка текста"
   ]
  },
  {
   "cell_type": "markdown",
   "metadata": {},
   "source": [
    "# 1. Токенизация"
   ]
  },
  {
   "cell_type": "markdown",
   "metadata": {},
   "source": [
    "## 1.1 Библиотека nltk"
   ]
  },
  {
   "cell_type": "code",
   "execution_count": 1,
   "metadata": {},
   "outputs": [
    {
     "name": "stdout",
     "output_type": "stream",
     "text": [
      "Requirement already satisfied: nltk in /Users/alexander/anaconda3/lib/python3.6/site-packages (3.3)\n",
      "Requirement already satisfied: six in /Users/alexander/anaconda3/lib/python3.6/site-packages (from nltk) (1.11.0)\n",
      "\u001b[33mYou are using pip version 18.0, however version 18.1 is available.\n",
      "You should consider upgrading via the 'pip install --upgrade pip' command.\u001b[0m\n"
     ]
    }
   ],
   "source": [
    "!pip install nltk"
   ]
  },
  {
   "cell_type": "code",
   "execution_count": 1,
   "metadata": {},
   "outputs": [],
   "source": [
    "from nltk import tokenize"
   ]
  },
  {
   "cell_type": "code",
   "execution_count": 2,
   "metadata": {},
   "outputs": [
    {
     "data": {
      "text/plain": [
       "['BlanklineTokenizer',\n",
       " 'LineTokenizer',\n",
       " 'MWETokenizer',\n",
       " 'PunktSentenceTokenizer',\n",
       " 'RegexpTokenizer',\n",
       " 'ReppTokenizer',\n",
       " 'SExprTokenizer',\n",
       " 'SpaceTokenizer',\n",
       " 'StanfordSegmenter',\n",
       " 'TabTokenizer',\n",
       " 'TextTilingTokenizer',\n",
       " 'ToktokTokenizer',\n",
       " 'TreebankWordTokenizer',\n",
       " 'TweetTokenizer',\n",
       " 'WhitespaceTokenizer',\n",
       " 'WordPunctTokenizer']"
      ]
     },
     "execution_count": 2,
     "metadata": {},
     "output_type": "execute_result"
    }
   ],
   "source": [
    "dir(tokenize)[:16] # столько токенизаторов доступно в nltk"
   ]
  },
  {
   "cell_type": "code",
   "execution_count": 4,
   "metadata": {},
   "outputs": [],
   "source": [
    "text = \"В XIX веке, когда А. Дюма-отец создавал свой цикл о мушкетерах, фантастичность мемуаров Д'Артаньяна былауже хорошо известна.\""
   ]
  },
  {
   "cell_type": "code",
   "execution_count": 3,
   "metadata": {},
   "outputs": [],
   "source": [
    "tok1 = tokenize.WordPunctTokenizer()"
   ]
  },
  {
   "cell_type": "code",
   "execution_count": 5,
   "metadata": {},
   "outputs": [
    {
     "name": "stdout",
     "output_type": "stream",
     "text": [
      "['В', 'XIX', 'веке', ',', 'когда', 'А', '.', 'Дюма', '-', 'отец', 'создавал', 'свой', 'цикл', 'о', 'мушкетерах', ',', 'фантастичность', 'мемуаров', 'Д', \"'\", 'Артаньяна', 'былауже', 'хорошо', 'известна', '.']\n",
      "25\n"
     ]
    }
   ],
   "source": [
    "tokens1 = tok1.tokenize(text)\n",
    "print (tokens1)\n",
    "print(len(tokens1))"
   ]
  },
  {
   "cell_type": "code",
   "execution_count": 6,
   "metadata": {},
   "outputs": [],
   "source": [
    "tok2 = tokenize.WhitespaceTokenizer()"
   ]
  },
  {
   "cell_type": "code",
   "execution_count": 7,
   "metadata": {},
   "outputs": [
    {
     "name": "stdout",
     "output_type": "stream",
     "text": [
      "['В', 'XIX', 'веке,', 'когда', 'А.', 'Дюма-отец', 'создавал', 'свой', 'цикл', 'о', 'мушкетерах,', 'фантастичность', 'мемуаров', \"Д'Артаньяна\", 'былауже', 'хорошо', 'известна.']\n",
      "17\n"
     ]
    }
   ],
   "source": [
    "tokens2 = tok2.tokenize(text)\n",
    "print (tokens2)\n",
    "print(len(tokens2))\n"
   ]
  },
  {
   "cell_type": "code",
   "execution_count": 8,
   "metadata": {},
   "outputs": [],
   "source": [
    "tok3 = tokenize.TreebankWordTokenizer()"
   ]
  },
  {
   "cell_type": "code",
   "execution_count": 9,
   "metadata": {},
   "outputs": [
    {
     "name": "stdout",
     "output_type": "stream",
     "text": [
      "['В', 'XIX', 'веке', ',', 'когда', 'А.', 'Дюма-отец', 'создавал', 'свой', 'цикл', 'о', 'мушкетерах', ',', 'фантастичность', 'мемуаров', \"Д'Артаньяна\", 'былауже', 'хорошо', 'известна', '.']\n",
      "20\n"
     ]
    }
   ],
   "source": [
    "tokens3 = tok3.tokenize(text)\n",
    "print (tokens3)\n",
    "print(len(tokens3))\n"
   ]
  },
  {
   "cell_type": "markdown",
   "metadata": {},
   "source": [
    "## ! Какой из токенизаторов (TreebankWordTokenizer, WhitespaceTokenizer, WordPunctTokenizer) формирует максимальное количество токенов для корпуса onegin?"
   ]
  },
  {
   "cell_type": "code",
   "execution_count": 10,
   "metadata": {},
   "outputs": [
    {
     "name": "stdout",
     "output_type": "stream",
     "text": [
      "28765\n"
     ]
    }
   ],
   "source": [
    "with open(\"data/onegin.txt\") as f_in:\n",
    "    content = f_in.read()\n",
    "\n",
    "tokens1 = tok1.tokenize(content)\n",
    "print(len(tokens1))"
   ]
  },
  {
   "cell_type": "code",
   "execution_count": 11,
   "metadata": {},
   "outputs": [
    {
     "name": "stdout",
     "output_type": "stream",
     "text": [
      "22728\n"
     ]
    }
   ],
   "source": [
    "tokens2 = tok2.tokenize(content)\n",
    "print(len(tokens2))"
   ]
  },
  {
   "cell_type": "code",
   "execution_count": 12,
   "metadata": {},
   "outputs": [
    {
     "name": "stdout",
     "output_type": "stream",
     "text": [
      "27774\n"
     ]
    }
   ],
   "source": [
    "tokens3 = tok3.tokenize(content)\n",
    "print(len(tokens3))"
   ]
  },
  {
   "cell_type": "markdown",
   "metadata": {},
   "source": [
    "#### Для обработки языка есть еще неплохая библиотека Spacy\n",
    "https://spacy.io/"
   ]
  },
  {
   "cell_type": "markdown",
   "metadata": {},
   "source": [
    "# 2. Стемминг"
   ]
  },
  {
   "cell_type": "code",
   "execution_count": 13,
   "metadata": {},
   "outputs": [],
   "source": [
    "from nltk import stem"
   ]
  },
  {
   "cell_type": "code",
   "execution_count": 14,
   "metadata": {},
   "outputs": [
    {
     "data": {
      "text/plain": [
       "['ISRIStemmer',\n",
       " 'LancasterStemmer',\n",
       " 'PorterStemmer',\n",
       " 'RSLPStemmer',\n",
       " 'RegexpStemmer',\n",
       " 'SnowballStemmer']"
      ]
     },
     "execution_count": 14,
     "metadata": {},
     "output_type": "execute_result"
    }
   ],
   "source": [
    "dir(stem)[:6]  # стеммеры в nltk"
   ]
  },
  {
   "cell_type": "code",
   "execution_count": 15,
   "metadata": {},
   "outputs": [],
   "source": [
    "text = \"Los Angeles created the first municipal zoning ordinance in the United States\""
   ]
  },
  {
   "cell_type": "code",
   "execution_count": 16,
   "metadata": {},
   "outputs": [
    {
     "name": "stdout",
     "output_type": "stream",
     "text": [
      "lo angel creat the first municip zone ordin in the unit state "
     ]
    }
   ],
   "source": [
    "stemmer1 = stem.PorterStemmer()\n",
    "for token in text.split():\n",
    "    print(stemmer1.stem(token), end=\" \")"
   ]
  },
  {
   "cell_type": "code",
   "execution_count": 17,
   "metadata": {},
   "outputs": [
    {
     "name": "stdout",
     "output_type": "stream",
     "text": [
      "los angel cre the first municip zon ordin in the unit stat "
     ]
    }
   ],
   "source": [
    "stemmer2 = stem.LancasterStemmer()\n",
    "for token in text.split():\n",
    "    print(stemmer2.stem(token), end=\" \")"
   ]
  },
  {
   "cell_type": "code",
   "execution_count": 18,
   "metadata": {},
   "outputs": [
    {
     "name": "stdout",
     "output_type": "stream",
     "text": [
      "los angel creat the first municip zone ordin in the unit state "
     ]
    }
   ],
   "source": [
    "stemmer3 = stem.SnowballStemmer('english')\n",
    "for token in text.split():\n",
    "    print(stemmer3.stem(token), end=\" \")"
   ]
  },
  {
   "cell_type": "markdown",
   "metadata": {},
   "source": [
    "### C русским языком работает SnowballStemmer"
   ]
  },
  {
   "cell_type": "code",
   "execution_count": 19,
   "metadata": {},
   "outputs": [],
   "source": [
    "text_rus = \"варкалось хливкие шорьки пырялись по наве и хрюкотали зелюки как мюмзики в мове\""
   ]
  },
  {
   "cell_type": "code",
   "execution_count": 20,
   "metadata": {},
   "outputs": [
    {
     "name": "stdout",
     "output_type": "stream",
     "text": [
      "варка хливк шорьк пыря по нав и хрюкота зелюк как мюмзик в мов "
     ]
    }
   ],
   "source": [
    "stemmer_rus = stem.SnowballStemmer('russian')\n",
    "for token in text_rus.split():\n",
    "    print(stemmer_rus.stem(token), end=\" \")"
   ]
  },
  {
   "cell_type": "markdown",
   "metadata": {},
   "source": [
    "# 3. Лемматизация"
   ]
  },
  {
   "cell_type": "markdown",
   "metadata": {},
   "source": [
    "## 3.1. Библиотека pymorphy2"
   ]
  },
  {
   "cell_type": "code",
   "execution_count": 28,
   "metadata": {},
   "outputs": [
    {
     "name": "stdout",
     "output_type": "stream",
     "text": [
      "Collecting pymorphy2\n",
      "\u001b[?25l  Downloading https://files.pythonhosted.org/packages/a3/33/fff9675c68b5f6c63ec8c6e6ff57827dda28a1fa5b2c2d727dffff92dd47/pymorphy2-0.8-py2.py3-none-any.whl (46kB)\n",
      "\u001b[K    100% |████████████████████████████████| 51kB 1.1MB/s ta 0:00:01\n",
      "\u001b[?25hCollecting dawg-python>=0.7 (from pymorphy2)\n",
      "  Downloading https://files.pythonhosted.org/packages/6a/84/ff1ce2071d4c650ec85745766c0047ccc3b5036f1d03559fd46bb38b5eeb/DAWG_Python-0.7.2-py2.py3-none-any.whl\n",
      "Collecting pymorphy2-dicts<3.0,>=2.4 (from pymorphy2)\n",
      "\u001b[?25l  Downloading https://files.pythonhosted.org/packages/02/51/2465fd4f72328ab50877b54777764d928da8cb15b74e2680fc1bd8cb3173/pymorphy2_dicts-2.4.393442.3710985-py2.py3-none-any.whl (7.1MB)\n",
      "\u001b[K    100% |████████████████████████████████| 7.1MB 5.1MB/s eta 0:00:01\n",
      "\u001b[?25hCollecting docopt>=0.6 (from pymorphy2)\n",
      "  Downloading https://files.pythonhosted.org/packages/a2/55/8f8cab2afd404cf578136ef2cc5dfb50baa1761b68c9da1fb1e4eed343c9/docopt-0.6.2.tar.gz\n",
      "Building wheels for collected packages: docopt\n",
      "  Running setup.py bdist_wheel for docopt ... \u001b[?25ldone\n",
      "\u001b[?25h  Stored in directory: /Users/alexander/Library/Caches/pip/wheels/9b/04/dd/7daf4150b6d9b12949298737de9431a324d4b797ffd63f526e\n",
      "Successfully built docopt\n",
      "Installing collected packages: dawg-python, pymorphy2-dicts, docopt, pymorphy2\n",
      "Successfully installed dawg-python-0.7.2 docopt-0.6.2 pymorphy2-0.8 pymorphy2-dicts-2.4.393442.3710985\n",
      "\u001b[33mYou are using pip version 18.0, however version 18.1 is available.\n",
      "You should consider upgrading via the 'pip install --upgrade pip' command.\u001b[0m\n",
      "Requirement already satisfied: pymorphy2-dicts in /Users/alexander/anaconda3/lib/python3.6/site-packages (2.4.393442.3710985)\n",
      "\u001b[33mYou are using pip version 18.0, however version 18.1 is available.\n",
      "You should consider upgrading via the 'pip install --upgrade pip' command.\u001b[0m\n"
     ]
    }
   ],
   "source": [
    "!pip install pymorphy2\n",
    "!pip install pymorphy2-dicts"
   ]
  },
  {
   "cell_type": "code",
   "execution_count": 21,
   "metadata": {},
   "outputs": [],
   "source": [
    "import pymorphy2\n",
    "morph = pymorphy2.MorphAnalyzer()"
   ]
  },
  {
   "cell_type": "markdown",
   "metadata": {},
   "source": [
    "### Выполним морфологический разбор слова \"стали\""
   ]
  },
  {
   "cell_type": "code",
   "execution_count": 22,
   "metadata": {},
   "outputs": [],
   "source": [
    "word = \"стали\""
   ]
  },
  {
   "cell_type": "code",
   "execution_count": 23,
   "metadata": {},
   "outputs": [
    {
     "data": {
      "text/plain": [
       "[Parse(word='стали', tag=OpencorporaTag('VERB,perf,intr plur,past,indc'), normal_form='стать', score=0.984662, methods_stack=((<DictionaryAnalyzer>, 'стали', 904, 4),)),\n",
       " Parse(word='стали', tag=OpencorporaTag('NOUN,inan,femn sing,gent'), normal_form='сталь', score=0.003067, methods_stack=((<DictionaryAnalyzer>, 'стали', 13, 1),)),\n",
       " Parse(word='стали', tag=OpencorporaTag('NOUN,inan,femn sing,datv'), normal_form='сталь', score=0.003067, methods_stack=((<DictionaryAnalyzer>, 'стали', 13, 2),)),\n",
       " Parse(word='стали', tag=OpencorporaTag('NOUN,inan,femn sing,loct'), normal_form='сталь', score=0.003067, methods_stack=((<DictionaryAnalyzer>, 'стали', 13, 5),)),\n",
       " Parse(word='стали', tag=OpencorporaTag('NOUN,inan,femn plur,nomn'), normal_form='сталь', score=0.003067, methods_stack=((<DictionaryAnalyzer>, 'стали', 13, 6),)),\n",
       " Parse(word='стали', tag=OpencorporaTag('NOUN,inan,femn plur,accs'), normal_form='сталь', score=0.003067, methods_stack=((<DictionaryAnalyzer>, 'стали', 13, 9),))]"
      ]
     },
     "execution_count": 23,
     "metadata": {},
     "output_type": "execute_result"
    }
   ],
   "source": [
    "p = morph.parse('стали') #  возвращает все возможные разборы слова \"стали\"\n",
    "p"
   ]
  },
  {
   "cell_type": "code",
   "execution_count": 24,
   "metadata": {},
   "outputs": [
    {
     "data": {
      "text/plain": [
       "'стать'"
      ]
     },
     "execution_count": 24,
     "metadata": {},
     "output_type": "execute_result"
    }
   ],
   "source": [
    "p[0].normal_form # лемма для глагола"
   ]
  },
  {
   "cell_type": "code",
   "execution_count": 25,
   "metadata": {},
   "outputs": [
    {
     "data": {
      "text/plain": [
       "'сталь'"
      ]
     },
     "execution_count": 25,
     "metadata": {},
     "output_type": "execute_result"
    }
   ],
   "source": [
    "p[1].normal_form # лемма для существительного"
   ]
  },
  {
   "cell_type": "markdown",
   "metadata": {},
   "source": [
    "### Выполним морфологический разбор несловарных слов"
   ]
  },
  {
   "cell_type": "code",
   "execution_count": 35,
   "metadata": {},
   "outputs": [],
   "source": [
    "word = \"бутявка\""
   ]
  },
  {
   "cell_type": "code",
   "execution_count": 37,
   "metadata": {},
   "outputs": [
    {
     "data": {
      "text/plain": [
       "pymorphy2.analyzer.Parse"
      ]
     },
     "execution_count": 37,
     "metadata": {},
     "output_type": "execute_result"
    }
   ],
   "source": [
    "type(morph.parse(word)[0])"
   ]
  },
  {
   "cell_type": "code",
   "execution_count": 27,
   "metadata": {},
   "outputs": [
    {
     "data": {
      "text/plain": [
       "Parse(word='бутявка', tag=OpencorporaTag('NOUN,inan,femn sing,nomn'), normal_form='бутявка', score=1.0, methods_stack=((<DictionaryAnalyzer>, 'явка', 8, 0), (<UnknownPrefixAnalyzer>, 'бут')))"
      ]
     },
     "execution_count": 27,
     "metadata": {},
     "output_type": "execute_result"
    }
   ],
   "source": [
    "p = morph.parse(word)[0]\n",
    "p"
   ]
  },
  {
   "cell_type": "markdown",
   "metadata": {},
   "source": [
    "Расшифровку граммем можно найти [здесь](https://pymorphy2.readthedocs.io/en/latest/user/grammemes.html)"
   ]
  },
  {
   "cell_type": "markdown",
   "metadata": {},
   "source": [
    "### pymorphy умеет склонять слова, даже несловарные"
   ]
  },
  {
   "cell_type": "code",
   "execution_count": 28,
   "metadata": {},
   "outputs": [
    {
     "data": {
      "text/plain": [
       "Parse(word='бутявок', tag=OpencorporaTag('NOUN,inan,femn plur,gent'), normal_form='бутявка', score=1.0, methods_stack=((<DictionaryAnalyzer>, 'явок', 8, 8), (<UnknownPrefixAnalyzer>, 'бут')))"
      ]
     },
     "execution_count": 28,
     "metadata": {},
     "output_type": "execute_result"
    }
   ],
   "source": [
    "p.inflect({'plur', 'gent'}) # ставит в родительный падеж, множественное число"
   ]
  },
  {
   "cell_type": "markdown",
   "metadata": {},
   "source": [
    "## ! Выполните морфологический разбор токенов предложения \n",
    "Для каких токенов нормальная форма не совпадает с истинной (определите сами)?"
   ]
  },
  {
   "cell_type": "code",
   "execution_count": 29,
   "metadata": {},
   "outputs": [],
   "source": [
    "bredos = \"варкалось хливкие шорьки пырялись по наве и хрюкотали зелюки как мюмзики в мове\""
   ]
  },
  {
   "cell_type": "code",
   "execution_count": 34,
   "metadata": {},
   "outputs": [
    {
     "name": "stdout",
     "output_type": "stream",
     "text": [
      "варкалось\n",
      "хливкий\n",
      "шорёк\n",
      "пыряться\n",
      "по\n",
      "нава\n",
      "и\n",
      "хрюкоталь\n",
      "зелюк\n",
      "как\n",
      "мюмзика\n",
      "в\n",
      "мов\n"
     ]
    }
   ],
   "source": [
    "### DO IT!\n",
    "tok2 = tokenize.WhitespaceTokenizer()\n",
    "text1 = tok2.tokenize(bredos)\n",
    "for word in text1:\n",
    "    print ((morph.parse(word)[0]).normal_form)"
   ]
  },
  {
   "cell_type": "markdown",
   "metadata": {},
   "source": [
    "## 3.2. MyStem"
   ]
  },
  {
   "cell_type": "code",
   "execution_count": 41,
   "metadata": {},
   "outputs": [
    {
     "name": "stdout",
     "output_type": "stream",
     "text": [
      "Requirement already satisfied: pymystem3 in /Users/alexander/anaconda3/lib/python3.6/site-packages (0.2.0)\n",
      "Requirement already satisfied: requests in /Users/alexander/anaconda3/lib/python3.6/site-packages (from pymystem3) (2.18.4)\n",
      "Requirement already satisfied: chardet<3.1.0,>=3.0.2 in /Users/alexander/anaconda3/lib/python3.6/site-packages (from requests->pymystem3) (3.0.4)\n",
      "Requirement already satisfied: idna<2.7,>=2.5 in /Users/alexander/anaconda3/lib/python3.6/site-packages (from requests->pymystem3) (2.6)\n",
      "Requirement already satisfied: urllib3<1.23,>=1.21.1 in /Users/alexander/anaconda3/lib/python3.6/site-packages (from requests->pymystem3) (1.22)\n",
      "Requirement already satisfied: certifi>=2017.4.17 in /Users/alexander/anaconda3/lib/python3.6/site-packages (from requests->pymystem3) (2018.4.16)\n",
      "\u001b[33mYou are using pip version 18.0, however version 18.1 is available.\n",
      "You should consider upgrading via the 'pip install --upgrade pip' command.\u001b[0m\n"
     ]
    }
   ],
   "source": [
    "!pip install pymystem3"
   ]
  },
  {
   "cell_type": "code",
   "execution_count": 42,
   "metadata": {},
   "outputs": [],
   "source": [
    "from pymystem3 import Mystem\n",
    "m = Mystem()"
   ]
  },
  {
   "cell_type": "code",
   "execution_count": 43,
   "metadata": {},
   "outputs": [
    {
     "data": {
      "text/plain": [
       "[{'analysis': [{'lex': 'становиться',\n",
       "    'wt': 0.9821285244,\n",
       "    'gr': 'V,нп=прош,мн,изъяв,сов'}],\n",
       "  'text': 'стали'},\n",
       " {'text': '\\n'}]"
      ]
     },
     "execution_count": 43,
     "metadata": {},
     "output_type": "execute_result"
    }
   ],
   "source": [
    "word = \"стали\"\n",
    "m.analyze(word)"
   ]
  },
  {
   "cell_type": "code",
   "execution_count": 44,
   "metadata": {},
   "outputs": [
    {
     "data": {
      "text/plain": [
       "['становиться', '\\n']"
      ]
     },
     "execution_count": 44,
     "metadata": {},
     "output_type": "execute_result"
    }
   ],
   "source": [
    "m.lemmatize(word)"
   ]
  },
  {
   "cell_type": "markdown",
   "metadata": {},
   "source": [
    "### Mystem тоже умеет выполнять морфологический разбор несловарных слов"
   ]
  },
  {
   "cell_type": "code",
   "execution_count": 45,
   "metadata": {},
   "outputs": [
    {
     "data": {
      "text/plain": [
       "[{'analysis': [{'lex': 'бутявка',\n",
       "    'wt': 0.562536298,\n",
       "    'qual': 'bastard',\n",
       "    'gr': 'S,жен,неод=(вин,мн|род,ед|им,мн)'}],\n",
       "  'text': 'бутявки'},\n",
       " {'text': '\\n'}]"
      ]
     },
     "execution_count": 45,
     "metadata": {},
     "output_type": "execute_result"
    }
   ],
   "source": [
    "word = \"бутявки\"\n",
    "m.analyze(word)"
   ]
  },
  {
   "cell_type": "markdown",
   "metadata": {},
   "source": [
    "## ! Выполните морфологический разбор токенов предложения \n",
    "Для каких токенов нормальная форма не совпадает с истинной (определите сами)?"
   ]
  },
  {
   "cell_type": "code",
   "execution_count": 46,
   "metadata": {},
   "outputs": [],
   "source": [
    "bredos = \"варкалось хливкие шорьки пырялись по наве и хрюкотали зелюки как мюмзики в мове\""
   ]
  },
  {
   "cell_type": "code",
   "execution_count": 47,
   "metadata": {},
   "outputs": [
    {
     "data": {
      "text/plain": [
       "['варкалось',\n",
       " 'хливкие',\n",
       " 'шорьки',\n",
       " 'пырялись',\n",
       " 'по',\n",
       " 'наве',\n",
       " 'и',\n",
       " 'хрюкотали',\n",
       " 'зелюки',\n",
       " 'как',\n",
       " 'мюмзики',\n",
       " 'в',\n",
       " 'мове']"
      ]
     },
     "execution_count": 47,
     "metadata": {},
     "output_type": "execute_result"
    }
   ],
   "source": [
    "# DO IT!\n",
    "text2 = tok2.tokenize(bredos)\n",
    "text2"
   ]
  },
  {
   "cell_type": "code",
   "execution_count": 51,
   "metadata": {},
   "outputs": [
    {
     "name": "stdout",
     "output_type": "stream",
     "text": [
      "[{'analysis': [{'lex': 'варкаться', 'wt': 1, 'qual': 'bastard', 'gr': 'V,несов,нп=прош,ед,изъяв,сред'}], 'text': 'варкалось'}, {'text': '\\n'}]\n",
      "\n",
      "[{'analysis': [{'lex': 'хливкий', 'wt': 0.9958436629, 'qual': 'bastard', 'gr': 'A=(вин,мн,полн,неод|им,мн,полн)'}], 'text': 'хливкие'}, {'text': '\\n'}]\n",
      "\n",
      "[{'analysis': [{'lex': 'шорька', 'wt': 0.3092010264, 'qual': 'bastard', 'gr': 'S,жен,неод=(вин,мн|род,ед|им,мн)'}], 'text': 'шорьки'}, {'text': '\\n'}]\n",
      "\n",
      "[{'analysis': [{'lex': 'пыряться', 'wt': 1, 'gr': 'V,несов,нп=прош,мн,изъяв'}], 'text': 'пырялись'}, {'text': '\\n'}]\n",
      "\n",
      "[{'analysis': [{'lex': 'по', 'wt': 1, 'gr': 'PR='}], 'text': 'по'}, {'text': '\\n'}]\n",
      "\n",
      "[{'analysis': [{'lex': 'нав', 'wt': 1, 'gr': 'S,имя,муж,од=пр,ед'}], 'text': 'наве'}, {'text': '\\n'}]\n",
      "\n",
      "[{'analysis': [{'lex': 'и', 'wt': 0.9999770357, 'gr': 'CONJ='}], 'text': 'и'}, {'text': '\\n'}]\n",
      "\n",
      "[{'analysis': [{'lex': 'хрюкотать', 'wt': 0.4794674503, 'qual': 'bastard', 'gr': 'V,несов,нп=прош,мн,изъяв'}], 'text': 'хрюкотали'}, {'text': '\\n'}]\n",
      "\n",
      "[{'analysis': [{'lex': 'зелюк', 'wt': 0.7069246936, 'qual': 'bastard', 'gr': 'S,муж,од=им,мн'}], 'text': 'зелюки'}, {'text': '\\n'}]\n",
      "\n",
      "[{'analysis': [{'lex': 'как', 'wt': 0.3756069802, 'gr': 'ADVPRO='}], 'text': 'как'}, {'text': '\\n'}]\n",
      "\n",
      "[{'analysis': [{'lex': 'мюмзик', 'wt': 1, 'qual': 'bastard', 'gr': 'S,имя,муж,од=им,мн'}], 'text': 'мюмзики'}, {'text': '\\n'}]\n",
      "\n",
      "[{'analysis': [{'lex': 'в', 'wt': 8.212235587e-06, 'gr': 'S,сокр=(пр,мн|пр,ед|вин,мн|вин,ед|дат,мн|дат,ед|род,мн|род,ед|твор,мн|твор,ед|им,мн|им,ед)'}], 'text': 'в'}, {'text': '\\n'}]\n",
      "\n",
      "[{'analysis': [{'lex': 'мов', 'wt': 0.6607364691, 'qual': 'bastard', 'gr': 'S,гео,муж,неод=пр,ед'}], 'text': 'мове'}, {'text': '\\n'}]\n",
      "\n"
     ]
    }
   ],
   "source": [
    "for word in text2:\n",
    "    print(m.analyze(word))\n",
    "    print()"
   ]
  },
  {
   "cell_type": "code",
   "execution_count": null,
   "metadata": {},
   "outputs": [],
   "source": []
  },
  {
   "cell_type": "code",
   "execution_count": null,
   "metadata": {},
   "outputs": [],
   "source": []
  }
 ],
 "metadata": {
  "kernelspec": {
   "display_name": "Python 3",
   "language": "python",
   "name": "python3"
  },
  "language_info": {
   "codemirror_mode": {
    "name": "ipython",
    "version": 3
   },
   "file_extension": ".py",
   "mimetype": "text/x-python",
   "name": "python",
   "nbconvert_exporter": "python",
   "pygments_lexer": "ipython3",
   "version": "3.6.5"
  }
 },
 "nbformat": 4,
 "nbformat_minor": 2
}
