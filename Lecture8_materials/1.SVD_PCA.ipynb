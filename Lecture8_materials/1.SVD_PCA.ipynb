{
 "cells": [
  {
   "cell_type": "markdown",
   "metadata": {},
   "source": [
    "# 1) TASK1.1 : PCA from scratch"
   ]
  },
  {
   "cell_type": "code",
   "execution_count": 1,
   "metadata": {},
   "outputs": [],
   "source": [
    "from sklearn import datasets\n",
    "\n",
    "from matplotlib import pyplot as plt\n",
    "\n",
    "%matplotlib inline"
   ]
  },
  {
   "cell_type": "code",
   "execution_count": 2,
   "metadata": {},
   "outputs": [],
   "source": [
    "iris = datasets.load_iris()\n",
    "X = iris.data  # we only take the first two features.\n",
    "y = iris.target\n"
   ]
  },
  {
   "cell_type": "markdown",
   "metadata": {},
   "source": [
    "## Standardizing\n",
    "\n",
    "Перед разложением, как правило центрируют данные, чтобы признаки имели среднее=0 (иногда и дисперсию=1)\n",
    "\n",
    "Сделаем это"
   ]
  },
  {
   "cell_type": "code",
   "execution_count": 3,
   "metadata": {},
   "outputs": [],
   "source": [
    "from sklearn.preprocessing import StandardScaler\n",
    "X_std = StandardScaler().fit_transform(X)\n"
   ]
  },
  {
   "cell_type": "markdown",
   "metadata": {},
   "source": [
    "## 1 - Eigendecomposition - Вычисление собственных векторов и собственных значений"
   ]
  },
  {
   "cell_type": "markdown",
   "metadata": {},
   "source": [
    "Основная идея PCA - разложение матрицы ковариации исхордных данных. Собственные вектора (eigenvectors) еще называются главными компонентами, поэтому метод еще называется \"Методом Главных Компонент\".\n",
    "\n",
    "Собственные вектора определяют направления в новом пространстве признаков, а собственные числа(eigenvalues) - их амплитуду. Другмими словами, собственные значения показывают дисперсию данных вдоль конкретного направления, заданного собственным вектором."
   ]
  },
  {
   "cell_type": "markdown",
   "metadata": {},
   "source": [
    "### Вычисление ковариационной матрицы"
   ]
  },
  {
   "cell_type": "code",
   "execution_count": 4,
   "metadata": {},
   "outputs": [
    {
     "name": "stdout",
     "output_type": "stream",
     "text": [
      "Covariance matrix \n",
      "[[ 1.00671141 -0.11010327  0.87760486  0.82344326]\n",
      " [-0.11010327  1.00671141 -0.42333835 -0.358937  ]\n",
      " [ 0.87760486 -0.42333835  1.00671141  0.96921855]\n",
      " [ 0.82344326 -0.358937    0.96921855  1.00671141]]\n",
      "\n",
      "NumPy covariance matrix: \n",
      "[[ 1.00671141 -0.11010327  0.87760486  0.82344326]\n",
      " [-0.11010327  1.00671141 -0.42333835 -0.358937  ]\n",
      " [ 0.87760486 -0.42333835  1.00671141  0.96921855]\n",
      " [ 0.82344326 -0.358937    0.96921855  1.00671141]]\n",
      "\n",
      "Error:  -1.1449174941446927e-16\n"
     ]
    }
   ],
   "source": [
    "## Собственно посчитаем матрицу ковариации\n",
    "\n",
    "import numpy as np\n",
    "\n",
    "# так как мы уже нормализовали данные, то нет смысла вычитать из столбцов среднее значение признаков\n",
    "# но если бы мы этого не сделали, то нужно было бы сделать так:\n",
    "# mean_vec = np.mean(X_std, axis=0)\n",
    "# cov_mat = (X_std - mean_vec).T.dot((X_std - mean_vec)) / (X_std.shape[0]-1)\n",
    "\n",
    "cov_mat = X_std.T.dot(X_std) / (X_std.shape[0]-1)\n",
    "\n",
    "print('Covariance matrix \\n%s' %cov_mat)\n",
    "\n",
    "## и сравним с матрицей, вычисленной в numpy\n",
    "\n",
    "print('\\nNumPy covariance matrix: \\n%s' %np.cov(X_std.T))\n",
    "\n",
    "print ('\\nError: ', (cov_mat - np.cov(X_std.T)).sum()/cov_mat.size)"
   ]
  },
  {
   "cell_type": "code",
   "execution_count": null,
   "metadata": {},
   "outputs": [],
   "source": []
  },
  {
   "cell_type": "markdown",
   "metadata": {},
   "source": [
    "### Сейчас найдем собственные вектора ковариационной матрицы\n",
    "\n"
   ]
  },
  {
   "cell_type": "code",
   "execution_count": 5,
   "metadata": {},
   "outputs": [
    {
     "name": "stdout",
     "output_type": "stream",
     "text": [
      "Eigenvectors \n",
      "[[ 0.52237162 -0.37231836 -0.72101681  0.26199559]\n",
      " [-0.26335492 -0.92555649  0.24203288 -0.12413481]\n",
      " [ 0.58125401 -0.02109478  0.14089226 -0.80115427]\n",
      " [ 0.56561105 -0.06541577  0.6338014   0.52354627]]\n",
      "\n",
      "Eigenvalues \n",
      "[2.93035378 0.92740362 0.14834223 0.02074601]\n"
     ]
    }
   ],
   "source": [
    "cov_mat = np.cov(X_std.T)\n",
    "\n",
    "eig_vals, eig_vecs = np.linalg.eig(cov_mat)\n",
    "\n",
    "print('Eigenvectors \\n%s' %eig_vecs)\n",
    "print('\\nEigenvalues \\n%s' %eig_vals)"
   ]
  },
  {
   "cell_type": "markdown",
   "metadata": {},
   "source": [
    "### Singular Vector Decomposition"
   ]
  },
  {
   "cell_type": "markdown",
   "metadata": {},
   "source": [
    "Хотя вычисление собственных векторов и собственных чисел ковариационной матрицы - более интуитивный способ получения главных компонент, большинство реализаций PCA под капотом выполняют SVD (более эвычислительно эффективно).\n",
    "\n",
    "Так что давайте сделаем еще и SVD, и убедимся, что результаты получатся те ми же самыми"
   ]
  },
  {
   "cell_type": "code",
   "execution_count": 6,
   "metadata": {},
   "outputs": [
    {
     "data": {
      "text/plain": [
       "array([[-0.52237162, -0.37231836,  0.72101681,  0.26199559],\n",
       "       [ 0.26335492, -0.92555649, -0.24203288, -0.12413481],\n",
       "       [-0.58125401, -0.02109478, -0.14089226, -0.80115427],\n",
       "       [-0.56561105, -0.06541577, -0.6338014 ,  0.52354627]])"
      ]
     },
     "execution_count": 6,
     "metadata": {},
     "output_type": "execute_result"
    }
   ],
   "source": [
    "v,sigma,u = np.linalg.svd(X_std.T)\n",
    "v"
   ]
  },
  {
   "cell_type": "code",
   "execution_count": 9,
   "metadata": {},
   "outputs": [
    {
     "data": {
      "text/plain": [
       "array([20.89551896, 11.75513248,  4.7013819 ,  1.75816839])"
      ]
     },
     "execution_count": 9,
     "metadata": {},
     "output_type": "execute_result"
    }
   ],
   "source": [
    "sigma"
   ]
  },
  {
   "cell_type": "markdown",
   "metadata": {},
   "source": [
    "## 2 - Selecting Principal Components"
   ]
  },
  {
   "cell_type": "markdown",
   "metadata": {},
   "source": [
    "Цель PCA - снижение размерности путем проекции данных на направления, задаваемые собственными векторами. Они задают только направление и их длина 1, в чем и убедимся:"
   ]
  },
  {
   "cell_type": "code",
   "execution_count": 10,
   "metadata": {},
   "outputs": [
    {
     "name": "stdout",
     "output_type": "stream",
     "text": [
      "Everything ok!\n"
     ]
    }
   ],
   "source": [
    "for ev in eig_vecs:\n",
    "    np.testing.assert_array_almost_equal(1.0, np.linalg.norm(ev))\n",
    "print('Everything ok!')\n"
   ]
  },
  {
   "cell_type": "markdown",
   "metadata": {},
   "source": [
    "Чтобы определиться, куда проецировать данные нужно упорядочить собственные вектора в соответствии со значением собственных чисел. Вектора с наименьшими собственными числами наименее информативны, и могут быть выброшены из рассмотрения"
   ]
  },
  {
   "cell_type": "code",
   "execution_count": 11,
   "metadata": {},
   "outputs": [
    {
     "name": "stdout",
     "output_type": "stream",
     "text": [
      "Eigenvalues in descending order:\n",
      "2.930353775589319\n",
      "0.9274036215173421\n",
      "0.14834222648163983\n",
      "0.02074601399559602\n"
     ]
    }
   ],
   "source": [
    "# Make a list of (eigenvalue, eigenvector) tuples\n",
    "eig_pairs = [(np.abs(eig_vals[i]), eig_vecs[:,i]) for i in range(len(eig_vals))]\n",
    "\n",
    "# Sort the (eigenvalue, eigenvector) tuples from high to low\n",
    "eig_pairs.sort()\n",
    "eig_pairs.reverse()\n",
    "\n",
    "# Visually confirm that the list is correctly sorted by decreasing eigenvalues\n",
    "print('Eigenvalues in descending order:')\n",
    "for i in eig_pairs:\n",
    "    print(i[0])\n"
   ]
  },
  {
   "cell_type": "markdown",
   "metadata": {},
   "source": [
    "После сортировки нужно определиться с количеством новых признаков. Обычно используют \"explained variance\", которая показывает, какое количество дисперсии в данных описывается конкретной компонентой"
   ]
  },
  {
   "cell_type": "code",
   "execution_count": 12,
   "metadata": {},
   "outputs": [
    {
     "data": {
      "text/plain": [
       "array([ 72.77045209,  95.80097536,  99.48480732, 100.        ])"
      ]
     },
     "execution_count": 12,
     "metadata": {},
     "output_type": "execute_result"
    }
   ],
   "source": [
    "tot = sum(eig_vals)\n",
    "var_exp = [(i / tot)*100 for i in sorted(eig_vals, reverse=True)]\n",
    "cum_var_exp = np.cumsum(var_exp)\n",
    "\n",
    "cum_var_exp"
   ]
  },
  {
   "cell_type": "code",
   "execution_count": 13,
   "metadata": {},
   "outputs": [
    {
     "data": {
      "text/plain": [
       "[72.77045209380135, 23.030523267680643, 3.6838319576273855, 0.515192680890634]"
      ]
     },
     "execution_count": 13,
     "metadata": {},
     "output_type": "execute_result"
    }
   ],
   "source": [
    "var_exp"
   ]
  },
  {
   "cell_type": "markdown",
   "metadata": {},
   "source": [
    "Первая главная компонента описывает 72.77% дисперсии данных, первые две - 95.8%, первые три - 99.48%  "
   ]
  },
  {
   "cell_type": "code",
   "execution_count": 14,
   "metadata": {},
   "outputs": [
    {
     "data": {
      "text/plain": [
       "[<matplotlib.lines.Line2D at 0x115a07b38>]"
      ]
     },
     "execution_count": 14,
     "metadata": {},
     "output_type": "execute_result"
    },
    {
     "data": {
      "image/png": "[encoded data removed]",
      "text/plain": [
       "<Figure size 432x288 with 1 Axes>"
      ]
     },
     "metadata": {},
     "output_type": "display_data"
    }
   ],
   "source": [
    "plt.plot(range(1, len(eig_pairs)+1), cum_var_exp)"
   ]
  },
  {
   "cell_type": "markdown",
   "metadata": {},
   "source": [
    "Обычно если из решаемой задачи нет понимания, сколько компонент нужно оставить (например, какой размер вектора сущности нужно получить, если PCA нужен для получения \"эмбеддингов\"), то следует выбирать такое количество главных компонент, которе описывает не менее 99% дисперсии данных"
   ]
  },
  {
   "cell_type": "markdown",
   "metadata": {},
   "source": [
    "То есть в нашем случае хватит 3х главных компонент"
   ]
  },
  {
   "cell_type": "markdown",
   "metadata": {},
   "source": [
    "Но давайте попробуем сузить до 2х, чтобы отрисовать данные на плоскости, так как PCA часто используется для визуализации данных"
   ]
  },
  {
   "cell_type": "code",
   "execution_count": 15,
   "metadata": {},
   "outputs": [
    {
     "name": "stdout",
     "output_type": "stream",
     "text": [
      "Matrix W:\n",
      " [[ 0.52237162 -0.37231836]\n",
      " [-0.26335492 -0.92555649]\n",
      " [ 0.58125401 -0.02109478]\n",
      " [ 0.56561105 -0.06541577]]\n"
     ]
    }
   ],
   "source": [
    "matrix_w = np.hstack((eig_pairs[0][1].reshape(4,1), \n",
    "                      eig_pairs[1][1].reshape(4,1)))\n",
    "\n",
    "print('Matrix W:\\n', matrix_w)  # truncated matrix "
   ]
  },
  {
   "cell_type": "markdown",
   "metadata": {},
   "source": [
    "## 3 - Проекция данных  в новове признаковое пространство\n"
   ]
  },
  {
   "cell_type": "code",
   "execution_count": 16,
   "metadata": {},
   "outputs": [],
   "source": [
    "X_proj = X_std.dot(matrix_w)"
   ]
  },
  {
   "cell_type": "markdown",
   "metadata": {},
   "source": [
    "Давайте посмотрим, как данные спроектировались на плоскость"
   ]
  },
  {
   "cell_type": "code",
   "execution_count": 17,
   "metadata": {},
   "outputs": [
    {
     "data": {
      "text/plain": [
       "<matplotlib.collections.PathCollection at 0x115af8518>"
      ]
     },
     "execution_count": 17,
     "metadata": {},
     "output_type": "execute_result"
    },
    {
     "data": {
      "image/png": "[encoded data removed]",
      "text/plain": [
       "<Figure size 432x288 with 1 Axes>"
      ]
     },
     "metadata": {},
     "output_type": "display_data"
    }
   ],
   "source": [
    "plt.scatter(X_proj[:, 0], X_proj[:, 1], c=y, cmap=plt.cm.Set1,\n",
    "            edgecolor='k')"
   ]
  },
  {
   "cell_type": "markdown",
   "metadata": {},
   "source": [
    "## 4 - PCA in scikit-learn "
   ]
  },
  {
   "cell_type": "markdown",
   "metadata": {},
   "source": [
    "а теперь воспользуемся мощью компутера и пусть scikit-learn нам сам все посчитает"
   ]
  },
  {
   "cell_type": "code",
   "execution_count": 18,
   "metadata": {},
   "outputs": [],
   "source": [
    "from sklearn.decomposition import PCA as sklearnPCA\n",
    "sklearn_pca = sklearnPCA(n_components=2)\n",
    "X_proj_sklearn = sklearn_pca.fit_transform(X_std)"
   ]
  },
  {
   "cell_type": "code",
   "execution_count": 19,
   "metadata": {},
   "outputs": [
    {
     "name": "stdout",
     "output_type": "stream",
     "text": [
      "\n",
      "Error:  8.289665250534503e-17\n"
     ]
    }
   ],
   "source": [
    "print ('\\nError: ', (X_proj_sklearn - X_proj).sum()/X_proj.size)"
   ]
  },
  {
   "cell_type": "markdown",
   "metadata": {},
   "source": [
    "----------------------------------------------------------------------------------------------------------------------"
   ]
  },
  {
   "cell_type": "markdown",
   "metadata": {},
   "source": [
    "# 2) TASK1.2: Рекомендательные системы и SVD разложение\n",
    "\n",
    "Чтоо такое SVD? Это алгоритм, который аппроксимирует матрицу $R$ наилучшим способом путем разложения на 3 матрицы $V$, $\\Sigma$ , $U^{T}$\n",
    "\n",
    "$$\\begin{equation}\n",
    "R = V\\Sigma U^{T}\n",
    "\\end{equation}$$\n",
    "\n",
    "где \n",
    "- $R$ - матрица оценок пользователей различным фильмам (user-rating), \n",
    "\n",
    "- $V$ - матрица \"пользователь - скрытые переменные\". Эти  скрытые переменные (если интуитивно) могут отражать какие-то характеристики фильма. Например, одной из таких характеристик может быть жанр. Матрица $V$ показывает, насколько пользователю нравятся те или иные характеристики фильма, неявно выраженные через разложение. Заметим, что количество скрытых переменных - это и есть то количество компонент, которое мы хотим взять для аппроксимации исходной матрицы.\n",
    " \n",
    "- $\\Sigma$  - диагональная матрица, на главной диагонали которой стоят квадраты собственных чисел матрицы $R^TR$. Интуитивно показывает веса того, насколько важна та или иная скрытая переменная\n",
    "\n",
    "- $U^{T}$ - матрица \"фильм - скрытые переменные\". Показывает, насколько тот или иной фильм отражает ту или иную скрытую переменную. Например, вес компонента, отражающий принадлежность фильма \"Эйс Вентура: розыск домашних животных\" к скрытому признаку \"Жанр - триллер\" - будет невелик.\n",
    "\n",
    "\n",
    "Помним, что мы можем получить полное разложение и восттановить исходную матрицу обратно, но нам это неинтересно. Давайте возьмем топ $k$ комонент для разложения."
   ]
  },
  {
   "cell_type": "code",
   "execution_count": 20,
   "metadata": {},
   "outputs": [],
   "source": [
    "# Загрузим данные\n",
    "import pandas as pd\n",
    "import numpy as np\n",
    "\n",
    "ratings_list = [i.strip().split(\"::\") for i in open('data/ml-1m/ratings.dat', 'r').readlines()]\n",
    "users_list = [i.strip().split(\"::\") for i in open('data/ml-1m/users.dat', 'r').readlines()]\n",
    "movies_list = [i.strip().split(\"::\") for i in open('data/ml-1m/movies_enc.dat', 'r').readlines()]"
   ]
  },
  {
   "cell_type": "code",
   "execution_count": 21,
   "metadata": {},
   "outputs": [],
   "source": [
    "ratings = np.array(ratings_list)\n",
    "users = np.array(users_list)\n",
    "movies = np.array(movies_list)"
   ]
  },
  {
   "cell_type": "code",
   "execution_count": 22,
   "metadata": {},
   "outputs": [],
   "source": [
    "ratings_df = pd.DataFrame(ratings_list, columns = ['UserID', 'MovieID', 'Rating', 'Timestamp'], dtype = int)\n",
    "movies_df = pd.DataFrame(movies_list, columns = ['MovieID', 'Title', 'Genres'])\n",
    "movies_df['MovieID'] = movies_df['MovieID'].apply(pd.to_numeric)"
   ]
  },
  {
   "cell_type": "markdown",
   "metadata": {},
   "source": [
    "Взлгянем на формат данных"
   ]
  },
  {
   "cell_type": "code",
   "execution_count": 23,
   "metadata": {},
   "outputs": [
    {
     "data": {
      "text/html": [
       "<div>\n",
       "<style scoped>\n",
       "    .dataframe tbody tr th:only-of-type {\n",
       "        vertical-align: middle;\n",
       "    }\n",
       "\n",
       "    .dataframe tbody tr th {\n",
       "        vertical-align: top;\n",
       "    }\n",
       "\n",
       "    .dataframe thead th {\n",
       "        text-align: right;\n",
       "    }\n",
       "</style>\n",
       "<table border=\"1\" class=\"dataframe\">\n",
       "  <thead>\n",
       "    <tr style=\"text-align: right;\">\n",
       "      <th></th>\n",
       "      <th>MovieID</th>\n",
       "      <th>Title</th>\n",
       "      <th>Genres</th>\n",
       "    </tr>\n",
       "  </thead>\n",
       "  <tbody>\n",
       "    <tr>\n",
       "      <th>0</th>\n",
       "      <td>1</td>\n",
       "      <td>Toy Story (1995)</td>\n",
       "      <td>Animation|Children's|Comedy</td>\n",
       "    </tr>\n",
       "    <tr>\n",
       "      <th>1</th>\n",
       "      <td>2</td>\n",
       "      <td>Jumanji (1995)</td>\n",
       "      <td>Adventure|Children's|Fantasy</td>\n",
       "    </tr>\n",
       "    <tr>\n",
       "      <th>2</th>\n",
       "      <td>3</td>\n",
       "      <td>Grumpier Old Men (1995)</td>\n",
       "      <td>Comedy|Romance</td>\n",
       "    </tr>\n",
       "    <tr>\n",
       "      <th>3</th>\n",
       "      <td>4</td>\n",
       "      <td>Waiting to Exhale (1995)</td>\n",
       "      <td>Comedy|Drama</td>\n",
       "    </tr>\n",
       "    <tr>\n",
       "      <th>4</th>\n",
       "      <td>5</td>\n",
       "      <td>Father of the Bride Part II (1995)</td>\n",
       "      <td>Comedy</td>\n",
       "    </tr>\n",
       "  </tbody>\n",
       "</table>\n",
       "</div>"
      ],
      "text/plain": [
       "   MovieID                               Title                        Genres\n",
       "0        1                    Toy Story (1995)   Animation|Children's|Comedy\n",
       "1        2                      Jumanji (1995)  Adventure|Children's|Fantasy\n",
       "2        3             Grumpier Old Men (1995)                Comedy|Romance\n",
       "3        4            Waiting to Exhale (1995)                  Comedy|Drama\n",
       "4        5  Father of the Bride Part II (1995)                        Comedy"
      ]
     },
     "execution_count": 23,
     "metadata": {},
     "output_type": "execute_result"
    }
   ],
   "source": [
    "movies_df.head()"
   ]
  },
  {
   "cell_type": "code",
   "execution_count": 24,
   "metadata": {
    "scrolled": true
   },
   "outputs": [
    {
     "data": {
      "text/html": [
       "<div>\n",
       "<style scoped>\n",
       "    .dataframe tbody tr th:only-of-type {\n",
       "        vertical-align: middle;\n",
       "    }\n",
       "\n",
       "    .dataframe tbody tr th {\n",
       "        vertical-align: top;\n",
       "    }\n",
       "\n",
       "    .dataframe thead th {\n",
       "        text-align: right;\n",
       "    }\n",
       "</style>\n",
       "<table border=\"1\" class=\"dataframe\">\n",
       "  <thead>\n",
       "    <tr style=\"text-align: right;\">\n",
       "      <th></th>\n",
       "      <th>UserID</th>\n",
       "      <th>MovieID</th>\n",
       "      <th>Rating</th>\n",
       "      <th>Timestamp</th>\n",
       "    </tr>\n",
       "  </thead>\n",
       "  <tbody>\n",
       "    <tr>\n",
       "      <th>0</th>\n",
       "      <td>1</td>\n",
       "      <td>1193</td>\n",
       "      <td>5</td>\n",
       "      <td>978300760</td>\n",
       "    </tr>\n",
       "    <tr>\n",
       "      <th>1</th>\n",
       "      <td>1</td>\n",
       "      <td>661</td>\n",
       "      <td>3</td>\n",
       "      <td>978302109</td>\n",
       "    </tr>\n",
       "    <tr>\n",
       "      <th>2</th>\n",
       "      <td>1</td>\n",
       "      <td>914</td>\n",
       "      <td>3</td>\n",
       "      <td>978301968</td>\n",
       "    </tr>\n",
       "    <tr>\n",
       "      <th>3</th>\n",
       "      <td>1</td>\n",
       "      <td>3408</td>\n",
       "      <td>4</td>\n",
       "      <td>978300275</td>\n",
       "    </tr>\n",
       "    <tr>\n",
       "      <th>4</th>\n",
       "      <td>1</td>\n",
       "      <td>2355</td>\n",
       "      <td>5</td>\n",
       "      <td>978824291</td>\n",
       "    </tr>\n",
       "  </tbody>\n",
       "</table>\n",
       "</div>"
      ],
      "text/plain": [
       "   UserID  MovieID  Rating  Timestamp\n",
       "0       1     1193       5  978300760\n",
       "1       1      661       3  978302109\n",
       "2       1      914       3  978301968\n",
       "3       1     3408       4  978300275\n",
       "4       1     2355       5  978824291"
      ]
     },
     "execution_count": 24,
     "metadata": {},
     "output_type": "execute_result"
    }
   ],
   "source": [
    "ratings_df.head()"
   ]
  },
  {
   "cell_type": "markdown",
   "metadata": {},
   "source": [
    "Сведем две таблицы в одну, чтобы по строкам были пользователи, по столбцам - фильмы, а на пересечении - оценка пользователя фильму.\n",
    "Если этот фильм не оценивался пользователем - заполним нулем."
   ]
  },
  {
   "cell_type": "code",
   "execution_count": 25,
   "metadata": {
    "scrolled": false
   },
   "outputs": [
    {
     "data": {
      "text/html": [
       "<div>\n",
       "<style scoped>\n",
       "    .dataframe tbody tr th:only-of-type {\n",
       "        vertical-align: middle;\n",
       "    }\n",
       "\n",
       "    .dataframe tbody tr th {\n",
       "        vertical-align: top;\n",
       "    }\n",
       "\n",
       "    .dataframe thead th {\n",
       "        text-align: right;\n",
       "    }\n",
       "</style>\n",
       "<table border=\"1\" class=\"dataframe\">\n",
       "  <thead>\n",
       "    <tr style=\"text-align: right;\">\n",
       "      <th>MovieID</th>\n",
       "      <th>1</th>\n",
       "      <th>2</th>\n",
       "      <th>3</th>\n",
       "      <th>4</th>\n",
       "      <th>5</th>\n",
       "      <th>6</th>\n",
       "      <th>7</th>\n",
       "      <th>8</th>\n",
       "      <th>9</th>\n",
       "      <th>10</th>\n",
       "      <th>...</th>\n",
       "      <th>3943</th>\n",
       "      <th>3944</th>\n",
       "      <th>3945</th>\n",
       "      <th>3946</th>\n",
       "      <th>3947</th>\n",
       "      <th>3948</th>\n",
       "      <th>3949</th>\n",
       "      <th>3950</th>\n",
       "      <th>3951</th>\n",
       "      <th>3952</th>\n",
       "    </tr>\n",
       "    <tr>\n",
       "      <th>UserID</th>\n",
       "      <th></th>\n",
       "      <th></th>\n",
       "      <th></th>\n",
       "      <th></th>\n",
       "      <th></th>\n",
       "      <th></th>\n",
       "      <th></th>\n",
       "      <th></th>\n",
       "      <th></th>\n",
       "      <th></th>\n",
       "      <th></th>\n",
       "      <th></th>\n",
       "      <th></th>\n",
       "      <th></th>\n",
       "      <th></th>\n",
       "      <th></th>\n",
       "      <th></th>\n",
       "      <th></th>\n",
       "      <th></th>\n",
       "      <th></th>\n",
       "      <th></th>\n",
       "    </tr>\n",
       "  </thead>\n",
       "  <tbody>\n",
       "    <tr>\n",
       "      <th>1</th>\n",
       "      <td>5.0</td>\n",
       "      <td>0.0</td>\n",
       "      <td>0.0</td>\n",
       "      <td>0.0</td>\n",
       "      <td>0.0</td>\n",
       "      <td>0.0</td>\n",
       "      <td>0.0</td>\n",
       "      <td>0.0</td>\n",
       "      <td>0.0</td>\n",
       "      <td>0.0</td>\n",
       "      <td>...</td>\n",
       "      <td>0.0</td>\n",
       "      <td>0.0</td>\n",
       "      <td>0.0</td>\n",
       "      <td>0.0</td>\n",
       "      <td>0.0</td>\n",
       "      <td>0.0</td>\n",
       "      <td>0.0</td>\n",
       "      <td>0.0</td>\n",
       "      <td>0.0</td>\n",
       "      <td>0.0</td>\n",
       "    </tr>\n",
       "    <tr>\n",
       "      <th>2</th>\n",
       "      <td>0.0</td>\n",
       "      <td>0.0</td>\n",
       "      <td>0.0</td>\n",
       "      <td>0.0</td>\n",
       "      <td>0.0</td>\n",
       "      <td>0.0</td>\n",
       "      <td>0.0</td>\n",
       "      <td>0.0</td>\n",
       "      <td>0.0</td>\n",
       "      <td>0.0</td>\n",
       "      <td>...</td>\n",
       "      <td>0.0</td>\n",
       "      <td>0.0</td>\n",
       "      <td>0.0</td>\n",
       "      <td>0.0</td>\n",
       "      <td>0.0</td>\n",
       "      <td>0.0</td>\n",
       "      <td>0.0</td>\n",
       "      <td>0.0</td>\n",
       "      <td>0.0</td>\n",
       "      <td>0.0</td>\n",
       "    </tr>\n",
       "    <tr>\n",
       "      <th>3</th>\n",
       "      <td>0.0</td>\n",
       "      <td>0.0</td>\n",
       "      <td>0.0</td>\n",
       "      <td>0.0</td>\n",
       "      <td>0.0</td>\n",
       "      <td>0.0</td>\n",
       "      <td>0.0</td>\n",
       "      <td>0.0</td>\n",
       "      <td>0.0</td>\n",
       "      <td>0.0</td>\n",
       "      <td>...</td>\n",
       "      <td>0.0</td>\n",
       "      <td>0.0</td>\n",
       "      <td>0.0</td>\n",
       "      <td>0.0</td>\n",
       "      <td>0.0</td>\n",
       "      <td>0.0</td>\n",
       "      <td>0.0</td>\n",
       "      <td>0.0</td>\n",
       "      <td>0.0</td>\n",
       "      <td>0.0</td>\n",
       "    </tr>\n",
       "    <tr>\n",
       "      <th>4</th>\n",
       "      <td>0.0</td>\n",
       "      <td>0.0</td>\n",
       "      <td>0.0</td>\n",
       "      <td>0.0</td>\n",
       "      <td>0.0</td>\n",
       "      <td>0.0</td>\n",
       "      <td>0.0</td>\n",
       "      <td>0.0</td>\n",
       "      <td>0.0</td>\n",
       "      <td>0.0</td>\n",
       "      <td>...</td>\n",
       "      <td>0.0</td>\n",
       "      <td>0.0</td>\n",
       "      <td>0.0</td>\n",
       "      <td>0.0</td>\n",
       "      <td>0.0</td>\n",
       "      <td>0.0</td>\n",
       "      <td>0.0</td>\n",
       "      <td>0.0</td>\n",
       "      <td>0.0</td>\n",
       "      <td>0.0</td>\n",
       "    </tr>\n",
       "    <tr>\n",
       "      <th>5</th>\n",
       "      <td>0.0</td>\n",
       "      <td>0.0</td>\n",
       "      <td>0.0</td>\n",
       "      <td>0.0</td>\n",
       "      <td>0.0</td>\n",
       "      <td>2.0</td>\n",
       "      <td>0.0</td>\n",
       "      <td>0.0</td>\n",
       "      <td>0.0</td>\n",
       "      <td>0.0</td>\n",
       "      <td>...</td>\n",
       "      <td>0.0</td>\n",
       "      <td>0.0</td>\n",
       "      <td>0.0</td>\n",
       "      <td>0.0</td>\n",
       "      <td>0.0</td>\n",
       "      <td>0.0</td>\n",
       "      <td>0.0</td>\n",
       "      <td>0.0</td>\n",
       "      <td>0.0</td>\n",
       "      <td>0.0</td>\n",
       "    </tr>\n",
       "  </tbody>\n",
       "</table>\n",
       "<p>5 rows × 3706 columns</p>\n",
       "</div>"
      ],
      "text/plain": [
       "MovieID  1     2     3     4     5     6     7     8     9     10    ...   \\\n",
       "UserID                                                               ...    \n",
       "1         5.0   0.0   0.0   0.0   0.0   0.0   0.0   0.0   0.0   0.0  ...    \n",
       "2         0.0   0.0   0.0   0.0   0.0   0.0   0.0   0.0   0.0   0.0  ...    \n",
       "3         0.0   0.0   0.0   0.0   0.0   0.0   0.0   0.0   0.0   0.0  ...    \n",
       "4         0.0   0.0   0.0   0.0   0.0   0.0   0.0   0.0   0.0   0.0  ...    \n",
       "5         0.0   0.0   0.0   0.0   0.0   2.0   0.0   0.0   0.0   0.0  ...    \n",
       "\n",
       "MovieID  3943  3944  3945  3946  3947  3948  3949  3950  3951  3952  \n",
       "UserID                                                               \n",
       "1         0.0   0.0   0.0   0.0   0.0   0.0   0.0   0.0   0.0   0.0  \n",
       "2         0.0   0.0   0.0   0.0   0.0   0.0   0.0   0.0   0.0   0.0  \n",
       "3         0.0   0.0   0.0   0.0   0.0   0.0   0.0   0.0   0.0   0.0  \n",
       "4         0.0   0.0   0.0   0.0   0.0   0.0   0.0   0.0   0.0   0.0  \n",
       "5         0.0   0.0   0.0   0.0   0.0   0.0   0.0   0.0   0.0   0.0  \n",
       "\n",
       "[5 rows x 3706 columns]"
      ]
     },
     "execution_count": 25,
     "metadata": {},
     "output_type": "execute_result"
    }
   ],
   "source": [
    "R_df = ratings_df.pivot(index = 'UserID', columns ='MovieID', values = 'Rating').fillna(0)\n",
    "R_df.head()"
   ]
  },
  {
   "cell_type": "markdown",
   "metadata": {},
   "source": [
    "Как правило, перед применением SVD и PCA данные надо центрировать\n",
    "\n",
    "Давайте нормализуем матрицу per-user, вычтя для каждого пользователя среднее всех его оценок для фильма"
   ]
  },
  {
   "cell_type": "code",
   "execution_count": 26,
   "metadata": {},
   "outputs": [
    {
     "name": "stderr",
     "output_type": "stream",
     "text": [
      "/Users/alexander/anaconda3/lib/python3.6/site-packages/ipykernel_launcher.py:1: FutureWarning: Method .as_matrix will be removed in a future version. Use .values instead.\n",
      "  \"\"\"Entry point for launching an IPython kernel.\n"
     ]
    }
   ],
   "source": [
    "R = R_df.as_matrix()\n",
    "user_ratings_mean = np.mean(R, axis = 1)  # mean per user\n",
    "R_demeaned = R - user_ratings_mean.reshape(-1, 1)"
   ]
  },
  {
   "cell_type": "markdown",
   "metadata": {},
   "source": [
    "## Singular Value Decomposition\n",
    "\n",
    "\n",
    "Будем использовать ф-ю scipy `svds` для svd разложения. Выберем 50 компонент\n"
   ]
  },
  {
   "cell_type": "code",
   "execution_count": 27,
   "metadata": {},
   "outputs": [
    {
     "name": "stdout",
     "output_type": "stream",
     "text": [
      "CPU times: user 6.46 s, sys: 28.9 ms, total: 6.49 s\n",
      "Wall time: 1.66 s\n"
     ]
    }
   ],
   "source": [
    "%%time\n",
    "from scipy.sparse.linalg import svds\n",
    "V, sigma, Ut = svds(R_demeaned, k=50)"
   ]
  },
  {
   "cell_type": "code",
   "execution_count": 28,
   "metadata": {},
   "outputs": [
    {
     "data": {
      "text/plain": [
       "((6040, 50), (50,), (50, 3706))"
      ]
     },
     "execution_count": 28,
     "metadata": {},
     "output_type": "execute_result"
    }
   ],
   "source": [
    "V.shape, sigma.shape, Ut.shape"
   ]
  },
  {
   "cell_type": "markdown",
   "metadata": {},
   "source": [
    "$\\Sigma$ - вернулся как вектор квадратов собственных чисел. Давайте сконвертим его в диагональную матрицу"
   ]
  },
  {
   "cell_type": "code",
   "execution_count": 29,
   "metadata": {},
   "outputs": [
    {
     "data": {
      "text/plain": [
       "(50, 50)"
      ]
     },
     "execution_count": 29,
     "metadata": {},
     "output_type": "execute_result"
    }
   ],
   "source": [
    "sigma = np.diag(sigma)\n",
    "sigma.shape"
   ]
  },
  {
   "cell_type": "markdown",
   "metadata": {},
   "source": [
    "## Получим аппроксимированное значение матрицы $R$ для матрицы с рекомендациями"
   ]
  },
  {
   "cell_type": "code",
   "execution_count": 30,
   "metadata": {},
   "outputs": [],
   "source": [
    "all_user_predicted_ratings = np.dot(np.dot(V, sigma), Ut)\n",
    "all_user_predicted_ratings += user_ratings_mean.reshape(-1, 1) # вернем обратно средние оценки per-user\n",
    "all_user_predicted_ratings -= all_user_predicted_ratings.min(axis=1).reshape(-1, 1)  # пусть не будет отрицательных оценок (начинаются от 0)"
   ]
  },
  {
   "cell_type": "code",
   "execution_count": 31,
   "metadata": {},
   "outputs": [],
   "source": [
    "predicted_ratings_shifted = []\n",
    "for user_ratings in all_user_predicted_ratings:\n",
    "    if user_ratings.max() > 5:\n",
    "        user_ratings /= user_ratings.max()*5\n",
    "    \n",
    "    predicted_ratings_shifted.append(user_ratings)\n",
    "predicted_ratings_shifted = np.array(predicted_ratings_shifted)"
   ]
  },
  {
   "cell_type": "markdown",
   "metadata": {},
   "source": [
    "По-хорошему, количество компонент не выбирается вслепую. Необходимо разделить данные на train и valid, и оптимизировать RMSE(predicted, true) на валидационном наборе данных, таким образом подобрав оптимальное значение $k$"
   ]
  },
  {
   "cell_type": "markdown",
   "metadata": {},
   "source": [
    "## Попробуем порекомендовать что-нибудь кому-нибудь\n",
    "\n",
    "Давайте сделаем предсказания для конкретного пользователя. Среди тех фильмов, для которых нет оценок у данного пользователя, выведем топ фильмов с максимальным предсказанным рейтингом."
   ]
  },
  {
   "cell_type": "code",
   "execution_count": 32,
   "metadata": {
    "scrolled": true
   },
   "outputs": [
    {
     "data": {
      "text/html": [
       "<div>\n",
       "<style scoped>\n",
       "    .dataframe tbody tr th:only-of-type {\n",
       "        vertical-align: middle;\n",
       "    }\n",
       "\n",
       "    .dataframe tbody tr th {\n",
       "        vertical-align: top;\n",
       "    }\n",
       "\n",
       "    .dataframe thead th {\n",
       "        text-align: right;\n",
       "    }\n",
       "</style>\n",
       "<table border=\"1\" class=\"dataframe\">\n",
       "  <thead>\n",
       "    <tr style=\"text-align: right;\">\n",
       "      <th>MovieID</th>\n",
       "      <th>1</th>\n",
       "      <th>2</th>\n",
       "      <th>3</th>\n",
       "      <th>4</th>\n",
       "      <th>5</th>\n",
       "      <th>6</th>\n",
       "      <th>7</th>\n",
       "      <th>8</th>\n",
       "      <th>9</th>\n",
       "      <th>10</th>\n",
       "      <th>...</th>\n",
       "      <th>3943</th>\n",
       "      <th>3944</th>\n",
       "      <th>3945</th>\n",
       "      <th>3946</th>\n",
       "      <th>3947</th>\n",
       "      <th>3948</th>\n",
       "      <th>3949</th>\n",
       "      <th>3950</th>\n",
       "      <th>3951</th>\n",
       "      <th>3952</th>\n",
       "    </tr>\n",
       "  </thead>\n",
       "  <tbody>\n",
       "    <tr>\n",
       "      <th>0</th>\n",
       "      <td>4.776419</td>\n",
       "      <td>0.630613</td>\n",
       "      <td>0.292479</td>\n",
       "      <td>0.468716</td>\n",
       "      <td>0.499790</td>\n",
       "      <td>0.310955</td>\n",
       "      <td>0.413438</td>\n",
       "      <td>0.628916</td>\n",
       "      <td>0.428005</td>\n",
       "      <td>0.291608</td>\n",
       "      <td>...</td>\n",
       "      <td>0.515365</td>\n",
       "      <td>0.489198</td>\n",
       "      <td>0.513954</td>\n",
       "      <td>0.465535</td>\n",
       "      <td>0.402143</td>\n",
       "      <td>0.891087</td>\n",
       "      <td>0.593137</td>\n",
       "      <td>0.519470</td>\n",
       "      <td>0.538008</td>\n",
       "      <td>0.576469</td>\n",
       "    </tr>\n",
       "    <tr>\n",
       "      <th>1</th>\n",
       "      <td>0.053726</td>\n",
       "      <td>0.035462</td>\n",
       "      <td>0.040726</td>\n",
       "      <td>0.030097</td>\n",
       "      <td>0.030787</td>\n",
       "      <td>0.073047</td>\n",
       "      <td>0.031707</td>\n",
       "      <td>0.032337</td>\n",
       "      <td>0.035206</td>\n",
       "      <td>0.079850</td>\n",
       "      <td>...</td>\n",
       "      <td>0.028279</td>\n",
       "      <td>0.029637</td>\n",
       "      <td>0.029737</td>\n",
       "      <td>0.032061</td>\n",
       "      <td>0.029557</td>\n",
       "      <td>0.035021</td>\n",
       "      <td>0.016774</td>\n",
       "      <td>0.026862</td>\n",
       "      <td>0.028355</td>\n",
       "      <td>0.025621</td>\n",
       "    </tr>\n",
       "    <tr>\n",
       "      <th>2</th>\n",
       "      <td>0.099529</td>\n",
       "      <td>0.046134</td>\n",
       "      <td>0.031826</td>\n",
       "      <td>0.026575</td>\n",
       "      <td>0.027254</td>\n",
       "      <td>0.022046</td>\n",
       "      <td>0.023098</td>\n",
       "      <td>0.032139</td>\n",
       "      <td>0.029458</td>\n",
       "      <td>0.057079</td>\n",
       "      <td>...</td>\n",
       "      <td>0.029847</td>\n",
       "      <td>0.028054</td>\n",
       "      <td>0.028764</td>\n",
       "      <td>0.029411</td>\n",
       "      <td>0.029079</td>\n",
       "      <td>0.033023</td>\n",
       "      <td>0.031247</td>\n",
       "      <td>0.028745</td>\n",
       "      <td>0.028855</td>\n",
       "      <td>0.023953</td>\n",
       "    </tr>\n",
       "    <tr>\n",
       "      <th>3</th>\n",
       "      <td>0.913736</td>\n",
       "      <td>0.432719</td>\n",
       "      <td>0.545322</td>\n",
       "      <td>0.595042</td>\n",
       "      <td>0.547629</td>\n",
       "      <td>0.743432</td>\n",
       "      <td>0.456253</td>\n",
       "      <td>0.515146</td>\n",
       "      <td>0.551148</td>\n",
       "      <td>0.394309</td>\n",
       "      <td>...</td>\n",
       "      <td>0.514250</td>\n",
       "      <td>0.500254</td>\n",
       "      <td>0.497179</td>\n",
       "      <td>0.502263</td>\n",
       "      <td>0.421698</td>\n",
       "      <td>0.600192</td>\n",
       "      <td>0.563236</td>\n",
       "      <td>0.479629</td>\n",
       "      <td>0.520520</td>\n",
       "      <td>0.471455</td>\n",
       "    </tr>\n",
       "    <tr>\n",
       "      <th>4</th>\n",
       "      <td>0.088216</td>\n",
       "      <td>0.037505</td>\n",
       "      <td>0.035137</td>\n",
       "      <td>0.044873</td>\n",
       "      <td>0.035754</td>\n",
       "      <td>0.087498</td>\n",
       "      <td>0.030294</td>\n",
       "      <td>0.036325</td>\n",
       "      <td>0.034837</td>\n",
       "      <td>0.051522</td>\n",
       "      <td>...</td>\n",
       "      <td>0.040409</td>\n",
       "      <td>0.038314</td>\n",
       "      <td>0.037038</td>\n",
       "      <td>0.036291</td>\n",
       "      <td>0.035177</td>\n",
       "      <td>0.035096</td>\n",
       "      <td>0.053373</td>\n",
       "      <td>0.037917</td>\n",
       "      <td>0.040917</td>\n",
       "      <td>0.043318</td>\n",
       "    </tr>\n",
       "  </tbody>\n",
       "</table>\n",
       "<p>5 rows × 3706 columns</p>\n",
       "</div>"
      ],
      "text/plain": [
       "MovieID      1         2         3         4         5         6         7     \\\n",
       "0        4.776419  0.630613  0.292479  0.468716  0.499790  0.310955  0.413438   \n",
       "1        0.053726  0.035462  0.040726  0.030097  0.030787  0.073047  0.031707   \n",
       "2        0.099529  0.046134  0.031826  0.026575  0.027254  0.022046  0.023098   \n",
       "3        0.913736  0.432719  0.545322  0.595042  0.547629  0.743432  0.456253   \n",
       "4        0.088216  0.037505  0.035137  0.044873  0.035754  0.087498  0.030294   \n",
       "\n",
       "MovieID      8         9         10      ...         3943      3944      3945  \\\n",
       "0        0.628916  0.428005  0.291608    ...     0.515365  0.489198  0.513954   \n",
       "1        0.032337  0.035206  0.079850    ...     0.028279  0.029637  0.029737   \n",
       "2        0.032139  0.029458  0.057079    ...     0.029847  0.028054  0.028764   \n",
       "3        0.515146  0.551148  0.394309    ...     0.514250  0.500254  0.497179   \n",
       "4        0.036325  0.034837  0.051522    ...     0.040409  0.038314  0.037038   \n",
       "\n",
       "MovieID      3946      3947      3948      3949      3950      3951      3952  \n",
       "0        0.465535  0.402143  0.891087  0.593137  0.519470  0.538008  0.576469  \n",
       "1        0.032061  0.029557  0.035021  0.016774  0.026862  0.028355  0.025621  \n",
       "2        0.029411  0.029079  0.033023  0.031247  0.028745  0.028855  0.023953  \n",
       "3        0.502263  0.421698  0.600192  0.563236  0.479629  0.520520  0.471455  \n",
       "4        0.036291  0.035177  0.035096  0.053373  0.037917  0.040917  0.043318  \n",
       "\n",
       "[5 rows x 3706 columns]"
      ]
     },
     "execution_count": 32,
     "metadata": {},
     "output_type": "execute_result"
    }
   ],
   "source": [
    "preds_df = pd.DataFrame(all_user_predicted_ratings, columns = R_df.columns)\n",
    "preds_df.head()"
   ]
  },
  {
   "cell_type": "code",
   "execution_count": 33,
   "metadata": {},
   "outputs": [],
   "source": [
    "def get_users_ratings_history(userID, original_ratings_df, movies_df):\n",
    "     # Get the user's data and merge in the movie information.\n",
    "    user_data = original_ratings_df[original_ratings_df.UserID == (userID)]\n",
    "    user_full = (user_data.merge(movies_df, how = 'left', left_on = 'MovieID', right_on = 'MovieID').\n",
    "                     sort_values(['Rating'], ascending=False))\n",
    "    return user_full"
   ]
  },
  {
   "cell_type": "code",
   "execution_count": 34,
   "metadata": {},
   "outputs": [],
   "source": [
    "def recommend_movies(userID, preds_df, movies_df, user_history, original_ratings_df, num_recommendations=10):\n",
    "    user_row_number = userID - 1 # UserID starts at 1, not 0\n",
    "    sorted_user_predictions = preds_df.iloc[user_row_number].sort_values(ascending=False)\n",
    "    sorted_user_predictions = pd.DataFrame(sorted_user_predictions).reset_index()\n",
    "    sorted_user_predictions = sorted_user_predictions.rename(columns={user_row_number : \"Score\"})\n",
    "    \n",
    "    not_rated_for_user = movies_df[~movies_df['MovieID'].isin(user_history['MovieID'])]\n",
    "    full_not_rated_predictions = not_rated_for_user.merge(sorted_user_predictions, how = 'left', left_on = 'MovieID', right_on = 'MovieID')\n",
    "    full_not_rated_predictions = full_not_rated_predictions.sort_values('Score', ascending = False)\n",
    "    top_best_rated_predictions = full_not_rated_predictions.iloc[:num_recommendations, :-1]\n",
    "    return top_best_rated_predictions"
   ]
  },
  {
   "cell_type": "code",
   "execution_count": null,
   "metadata": {},
   "outputs": [],
   "source": []
  },
  {
   "cell_type": "markdown",
   "metadata": {},
   "source": [
    "## Посмотрим, каким кино интересуется пользователь с номером 837 и порекомендуем ему что-нибудь"
   ]
  },
  {
   "cell_type": "code",
   "execution_count": 35,
   "metadata": {},
   "outputs": [],
   "source": [
    "user_id = 837"
   ]
  },
  {
   "cell_type": "code",
   "execution_count": 36,
   "metadata": {},
   "outputs": [
    {
     "data": {
      "text/html": [
       "<div>\n",
       "<style scoped>\n",
       "    .dataframe tbody tr th:only-of-type {\n",
       "        vertical-align: middle;\n",
       "    }\n",
       "\n",
       "    .dataframe tbody tr th {\n",
       "        vertical-align: top;\n",
       "    }\n",
       "\n",
       "    .dataframe thead th {\n",
       "        text-align: right;\n",
       "    }\n",
       "</style>\n",
       "<table border=\"1\" class=\"dataframe\">\n",
       "  <thead>\n",
       "    <tr style=\"text-align: right;\">\n",
       "      <th></th>\n",
       "      <th>UserID</th>\n",
       "      <th>MovieID</th>\n",
       "      <th>Rating</th>\n",
       "      <th>Timestamp</th>\n",
       "      <th>Title</th>\n",
       "      <th>Genres</th>\n",
       "    </tr>\n",
       "  </thead>\n",
       "  <tbody>\n",
       "    <tr>\n",
       "      <th>36</th>\n",
       "      <td>837</td>\n",
       "      <td>858</td>\n",
       "      <td>5</td>\n",
       "      <td>975360036</td>\n",
       "      <td>Godfather, The (1972)</td>\n",
       "      <td>Action|Crime|Drama</td>\n",
       "    </tr>\n",
       "    <tr>\n",
       "      <th>35</th>\n",
       "      <td>837</td>\n",
       "      <td>1387</td>\n",
       "      <td>5</td>\n",
       "      <td>975360036</td>\n",
       "      <td>Jaws (1975)</td>\n",
       "      <td>Action|Horror</td>\n",
       "    </tr>\n",
       "    <tr>\n",
       "      <th>65</th>\n",
       "      <td>837</td>\n",
       "      <td>2028</td>\n",
       "      <td>5</td>\n",
       "      <td>975360089</td>\n",
       "      <td>Saving Private Ryan (1998)</td>\n",
       "      <td>Action|Drama|War</td>\n",
       "    </tr>\n",
       "    <tr>\n",
       "      <th>63</th>\n",
       "      <td>837</td>\n",
       "      <td>1221</td>\n",
       "      <td>5</td>\n",
       "      <td>975360036</td>\n",
       "      <td>Godfather: Part II, The (1974)</td>\n",
       "      <td>Action|Crime|Drama</td>\n",
       "    </tr>\n",
       "    <tr>\n",
       "      <th>11</th>\n",
       "      <td>837</td>\n",
       "      <td>913</td>\n",
       "      <td>5</td>\n",
       "      <td>975359921</td>\n",
       "      <td>Maltese Falcon, The (1941)</td>\n",
       "      <td>Film-Noir|Mystery</td>\n",
       "    </tr>\n",
       "    <tr>\n",
       "      <th>20</th>\n",
       "      <td>837</td>\n",
       "      <td>3417</td>\n",
       "      <td>5</td>\n",
       "      <td>975360893</td>\n",
       "      <td>Crimson Pirate, The (1952)</td>\n",
       "      <td>Adventure|Comedy|Sci-Fi</td>\n",
       "    </tr>\n",
       "    <tr>\n",
       "      <th>34</th>\n",
       "      <td>837</td>\n",
       "      <td>2186</td>\n",
       "      <td>4</td>\n",
       "      <td>975359955</td>\n",
       "      <td>Strangers on a Train (1951)</td>\n",
       "      <td>Film-Noir|Thriller</td>\n",
       "    </tr>\n",
       "    <tr>\n",
       "      <th>55</th>\n",
       "      <td>837</td>\n",
       "      <td>2791</td>\n",
       "      <td>4</td>\n",
       "      <td>975360893</td>\n",
       "      <td>Airplane! (1980)</td>\n",
       "      <td>Comedy</td>\n",
       "    </tr>\n",
       "    <tr>\n",
       "      <th>31</th>\n",
       "      <td>837</td>\n",
       "      <td>1188</td>\n",
       "      <td>4</td>\n",
       "      <td>975360920</td>\n",
       "      <td>Strictly Ballroom (1992)</td>\n",
       "      <td>Comedy|Romance</td>\n",
       "    </tr>\n",
       "    <tr>\n",
       "      <th>28</th>\n",
       "      <td>837</td>\n",
       "      <td>1304</td>\n",
       "      <td>4</td>\n",
       "      <td>975360058</td>\n",
       "      <td>Butch Cassidy and the Sundance Kid (1969)</td>\n",
       "      <td>Action|Comedy|Western</td>\n",
       "    </tr>\n",
       "  </tbody>\n",
       "</table>\n",
       "</div>"
      ],
      "text/plain": [
       "    UserID  MovieID  Rating  Timestamp  \\\n",
       "36     837      858       5  975360036   \n",
       "35     837     1387       5  975360036   \n",
       "65     837     2028       5  975360089   \n",
       "63     837     1221       5  975360036   \n",
       "11     837      913       5  975359921   \n",
       "20     837     3417       5  975360893   \n",
       "34     837     2186       4  975359955   \n",
       "55     837     2791       4  975360893   \n",
       "31     837     1188       4  975360920   \n",
       "28     837     1304       4  975360058   \n",
       "\n",
       "                                        Title                   Genres  \n",
       "36                      Godfather, The (1972)       Action|Crime|Drama  \n",
       "35                                Jaws (1975)            Action|Horror  \n",
       "65                 Saving Private Ryan (1998)         Action|Drama|War  \n",
       "63             Godfather: Part II, The (1974)       Action|Crime|Drama  \n",
       "11                 Maltese Falcon, The (1941)        Film-Noir|Mystery  \n",
       "20                 Crimson Pirate, The (1952)  Adventure|Comedy|Sci-Fi  \n",
       "34                Strangers on a Train (1951)       Film-Noir|Thriller  \n",
       "55                           Airplane! (1980)                   Comedy  \n",
       "31                   Strictly Ballroom (1992)           Comedy|Romance  \n",
       "28  Butch Cassidy and the Sundance Kid (1969)    Action|Comedy|Western  "
      ]
     },
     "execution_count": 36,
     "metadata": {},
     "output_type": "execute_result"
    }
   ],
   "source": [
    "user_history = get_users_ratings_history(user_id, ratings_df, movies_df)\n",
    "user_history[:10]"
   ]
  },
  {
   "cell_type": "code",
   "execution_count": 37,
   "metadata": {},
   "outputs": [
    {
     "data": {
      "text/html": [
       "<div>\n",
       "<style scoped>\n",
       "    .dataframe tbody tr th:only-of-type {\n",
       "        vertical-align: middle;\n",
       "    }\n",
       "\n",
       "    .dataframe tbody tr th {\n",
       "        vertical-align: top;\n",
       "    }\n",
       "\n",
       "    .dataframe thead th {\n",
       "        text-align: right;\n",
       "    }\n",
       "</style>\n",
       "<table border=\"1\" class=\"dataframe\">\n",
       "  <thead>\n",
       "    <tr style=\"text-align: right;\">\n",
       "      <th></th>\n",
       "      <th>MovieID</th>\n",
       "      <th>Title</th>\n",
       "      <th>Genres</th>\n",
       "    </tr>\n",
       "  </thead>\n",
       "  <tbody>\n",
       "    <tr>\n",
       "      <th>516</th>\n",
       "      <td>527</td>\n",
       "      <td>Schindler's List (1993)</td>\n",
       "      <td>Drama|War</td>\n",
       "    </tr>\n",
       "    <tr>\n",
       "      <th>1848</th>\n",
       "      <td>1953</td>\n",
       "      <td>French Connection, The (1971)</td>\n",
       "      <td>Action|Crime|Drama|Thriller</td>\n",
       "    </tr>\n",
       "    <tr>\n",
       "      <th>596</th>\n",
       "      <td>608</td>\n",
       "      <td>Fargo (1996)</td>\n",
       "      <td>Crime|Drama|Thriller</td>\n",
       "    </tr>\n",
       "    <tr>\n",
       "      <th>1235</th>\n",
       "      <td>1284</td>\n",
       "      <td>Big Sleep, The (1946)</td>\n",
       "      <td>Film-Noir|Mystery</td>\n",
       "    </tr>\n",
       "    <tr>\n",
       "      <th>2085</th>\n",
       "      <td>2194</td>\n",
       "      <td>Untouchables, The (1987)</td>\n",
       "      <td>Action|Crime|Drama</td>\n",
       "    </tr>\n",
       "    <tr>\n",
       "      <th>1188</th>\n",
       "      <td>1230</td>\n",
       "      <td>Annie Hall (1977)</td>\n",
       "      <td>Comedy|Romance</td>\n",
       "    </tr>\n",
       "    <tr>\n",
       "      <th>1198</th>\n",
       "      <td>1242</td>\n",
       "      <td>Glory (1989)</td>\n",
       "      <td>Action|Drama|War</td>\n",
       "    </tr>\n",
       "    <tr>\n",
       "      <th>897</th>\n",
       "      <td>922</td>\n",
       "      <td>Sunset Blvd. (a.k.a. Sunset Boulevard) (1950)</td>\n",
       "      <td>Film-Noir</td>\n",
       "    </tr>\n",
       "    <tr>\n",
       "      <th>1849</th>\n",
       "      <td>1954</td>\n",
       "      <td>Rocky (1976)</td>\n",
       "      <td>Action|Drama</td>\n",
       "    </tr>\n",
       "    <tr>\n",
       "      <th>581</th>\n",
       "      <td>593</td>\n",
       "      <td>Silence of the Lambs, The (1991)</td>\n",
       "      <td>Drama|Thriller</td>\n",
       "    </tr>\n",
       "  </tbody>\n",
       "</table>\n",
       "</div>"
      ],
      "text/plain": [
       "      MovieID                                          Title  \\\n",
       "516       527                        Schindler's List (1993)   \n",
       "1848     1953                  French Connection, The (1971)   \n",
       "596       608                                   Fargo (1996)   \n",
       "1235     1284                          Big Sleep, The (1946)   \n",
       "2085     2194                       Untouchables, The (1987)   \n",
       "1188     1230                              Annie Hall (1977)   \n",
       "1198     1242                                   Glory (1989)   \n",
       "897       922  Sunset Blvd. (a.k.a. Sunset Boulevard) (1950)   \n",
       "1849     1954                                   Rocky (1976)   \n",
       "581       593               Silence of the Lambs, The (1991)   \n",
       "\n",
       "                           Genres  \n",
       "516                     Drama|War  \n",
       "1848  Action|Crime|Drama|Thriller  \n",
       "596          Crime|Drama|Thriller  \n",
       "1235            Film-Noir|Mystery  \n",
       "2085           Action|Crime|Drama  \n",
       "1188               Comedy|Romance  \n",
       "1198             Action|Drama|War  \n",
       "897                     Film-Noir  \n",
       "1849                 Action|Drama  \n",
       "581                Drama|Thriller  "
      ]
     },
     "execution_count": 37,
     "metadata": {},
     "output_type": "execute_result"
    }
   ],
   "source": [
    "recommend_movies(user_id, preds_df, movies_df, user_history, ratings_df, 10)"
   ]
  },
  {
   "cell_type": "markdown",
   "metadata": {},
   "source": [
    "Выглядит неплохо!\n",
    "\n",
    "Хотя мы вообще не использовали такие признаки, как жанр фильма, модель смогла ухватить эти признаки в качестве скрытых, и предложить пользователю похожее кино по его вкусу."
   ]
  },
  {
   "cell_type": "markdown",
   "metadata": {},
   "source": [
    "## А давайте еще посмотрим, что у нас скрывается внутри матрицы $U$"
   ]
  },
  {
   "cell_type": "markdown",
   "metadata": {},
   "source": [
    "Как мы знаем, матрица $U$ хранит вектора для фильмов.\n",
    "\n",
    "Поищем фильмы, вектора которых являются ближайшими по евклидову расстоянию к тому фильму, айдишник которого мыф передадим в качестве запроса"
   ]
  },
  {
   "cell_type": "code",
   "execution_count": 47,
   "metadata": {},
   "outputs": [],
   "source": [
    "def get_closest_movies(movie_id, Ut, R_df, top=10):\n",
    "    print(movies_df[movies_df.MovieID == movie_id])\n",
    "    \n",
    "    U = Ut.transpose()\n",
    "    vec = U[movie_id-1]  # movie_is starts from 1\n",
    "    vec_ = np.array([vec for _ in range(U.shape[0])])\n",
    "    diff = ((U - vec_) ** 2).sum(axis=1)\n",
    "    \n",
    "    diff = np.sqrt(diff)\n",
    "    closest_movie_idx = np.argsort(diff)[1:top+1]  # не берем первый элемент, потому что это тот же самый фильм\n",
    "    true_idx = R_df.columns[closest_movie_idx]\n",
    "    closest_movies = pd.DataFrame(true_idx)\n",
    "    closest_movies = closest_movies.merge(movies_df, left_on=\"MovieID\", right_on=\"MovieID\")\n",
    "    print(\"--------------\")\n",
    "\n",
    "    print(\"Closest movies\")\n",
    "    print(closest_movies)\n",
    "    "
   ]
  },
  {
   "cell_type": "code",
   "execution_count": 48,
   "metadata": {},
   "outputs": [
    {
     "name": "stdout",
     "output_type": "stream",
     "text": [
      "   MovieID             Title                       Genres\n",
      "0        1  Toy Story (1995)  Animation|Children's|Comedy\n",
      "--------------\n",
      "Closest movies\n",
      "   MovieID                                Title  \\\n",
      "0     3114                   Toy Story 2 (1999)   \n",
      "1       34                          Babe (1995)   \n",
      "2     2355                 Bug's Life, A (1998)   \n",
      "3     2321                 Pleasantville (1998)   \n",
      "4     2384         Babe: Pig in the City (1998)   \n",
      "5     2687                        Tarzan (1999)   \n",
      "6      588                       Aladdin (1992)   \n",
      "7     3157                 Stuart Little (1999)   \n",
      "8     3255        League of Their Own, A (1992)   \n",
      "9     1923  There's Something About Mary (1998)   \n",
      "\n",
      "                                Genres  \n",
      "0          Animation|Children's|Comedy  \n",
      "1              Children's|Comedy|Drama  \n",
      "2          Animation|Children's|Comedy  \n",
      "3                               Comedy  \n",
      "4                    Children's|Comedy  \n",
      "5                 Animation|Children's  \n",
      "6  Animation|Children's|Comedy|Musical  \n",
      "7                    Children's|Comedy  \n",
      "8                         Comedy|Drama  \n",
      "9                               Comedy  \n"
     ]
    }
   ],
   "source": [
    "get_closest_movies(1, Ut, R_df, 10)"
   ]
  },
  {
   "cell_type": "markdown",
   "metadata": {},
   "source": [
    "Похоже на что-то осмысленное!\n",
    "\n",
    "Здорово, что SVD вообще никак не используя информацию о жанре, научился группировать похожие фильмы. \n",
    "\n",
    "Как это стало возможно?"
   ]
  },
  {
   "cell_type": "code",
   "execution_count": null,
   "metadata": {},
   "outputs": [],
   "source": []
  },
  {
   "cell_type": "markdown",
   "metadata": {},
   "source": [
    "### Задания\n",
    "1) Реализуйте поиск ближайших по косинусному расстоянию векторов (обычно вектора сравнивают именно так).  Отличаются ли результаты?\n",
    "\n",
    "2) Выполните поиск ближайших (по евклидовой метрике) 5 пользователей к заданному пользователю с user_id = 837. Для пользователя с каким user_id у пользователя с user_id=837 больше всего общих фильмов, оцененных на 5?"
   ]
  },
  {
   "cell_type": "code",
   "execution_count": null,
   "metadata": {},
   "outputs": [],
   "source": []
  }
 ],
 "metadata": {
  "kernelspec": {
   "display_name": "Python 3",
   "language": "python",
   "name": "python3"
  },
  "language_info": {
   "codemirror_mode": {
    "name": "ipython",
    "version": 3
   },
   "file_extension": ".py",
   "mimetype": "text/x-python",
   "name": "python",
   "nbconvert_exporter": "python",
   "pygments_lexer": "ipython3",
   "version": "3.6.5"
  }
 },
 "nbformat": 4,
 "nbformat_minor": 1
}
